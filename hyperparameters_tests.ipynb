{
 "cells": [
  {
   "cell_type": "code",
   "execution_count": 1,
   "metadata": {},
   "outputs": [
    {
     "name": "stdout",
     "output_type": "stream",
     "text": [
      "ok data\n",
      "ok modules\n",
      "ok pinn\n"
     ]
    }
   ],
   "source": [
    "import yaml\n",
    "import itertools\n",
    "import time\n",
    "import numpy as np\n",
    "import torch\n",
    "import pandas as pd\n",
    "import matplotlib.pyplot as plt\n",
    "import seaborn as sns\n",
    "import ipywidgets as widgets\n",
    "from IPython.display import display\n",
    "from tabulate import tabulate\n",
    "from data import get_data\n",
    "from pinn import PINN_experiment\n",
    "from modules import Model\n",
    "from sklearn.metrics import mean_squared_error"
   ]
  },
  {
   "cell_type": "code",
   "execution_count": null,
   "metadata": {},
   "outputs": [
    {
     "data": {
      "application/vnd.jupyter.widget-view+json": {
       "model_id": "03c41195e1284aa987cbed34ca32ceca",
       "version_major": 2,
       "version_minor": 0
      },
      "text/plain": [
       "VBox(children=(Dropdown(description='Layers:', options=(4, 9), value=4), Dropdown(description='Neurons:', opti…"
      ]
     },
     "metadata": {},
     "output_type": "display_data"
    }
   ],
   "source": [
    "#load yml file\n",
    "with open(\"hyperparameters.yml\", \"r\") as file:\n",
    "    config = yaml.safe_load(file)\n",
    "hyperparams = config[\"hyperparameters\"]\n",
    "\n",
    "\n",
    "layers_dropdown = widgets.Dropdown(options=hyperparams[\"layers\"], description=\"Layers:\")\n",
    "neurons_dropdown = widgets.Dropdown(options=hyperparams[\"neurons\"], description=\"Neurons:\")\n",
    "samples_dropdown = widgets.Dropdown(options=hyperparams[\"training_samples\"], description=\"Samples:\")\n",
    "noise_dropdown = widgets.Dropdown(options=hyperparams[\"noise_level\"], description=\"Noise:\")\n",
    "iterations_dropdown = widgets.Dropdown(options=hyperparams[\"iterations\"], description=\"Iterations:\")\n",
    "run_button = widgets.Button(description=\"Run Experiment\")\n",
    "\n",
    "output = widgets.Output()\n",
    "\n",
    "def run_experiment(layers, neurons, samples, noise, iterations):\n",
    "    with output:\n",
    "        output.clear_output()\n",
    "        print(f\"Running experiment with Layers={layers}, Neurons={neurons}, Samples={samples}, Noise={noise}, Iterations={iterations}\")\n",
    "\n",
    "        data = get_data()\n",
    "        x_test, y_test, *_ = data\n",
    "        y_test = np.array(y_test)\n",
    "\n",
    "        start_time = time.time()\n",
    "        PINN_experiment(data, [noise], verbose=False, rerun=True)\n",
    "        end_time = time.time()\n",
    "\n",
    "        model = Model()\n",
    "        x_test_tensor = torch.tensor(x_test).double()\n",
    "        predictions = model.forward(x_test_tensor).detach().numpy()\n",
    "\n",
    "        rmse = np.sqrt(mean_squared_error(y_test, predictions))\n",
    "\n",
    "        print(f\"\\nResults:\")\n",
    "        print(f\" - RMSE: {rmse:.6f}\")\n",
    "        print(f\" - Running Time: {end_time - start_time:.2f} seconds\")\n",
    "\n",
    "        #pred & actual solutions\n",
    "        x_values = np.unique([x[0] for x in x_test])\n",
    "        t_values = np.unique([x[1] for x in x_test])\n",
    "        Y_actual = y_test.reshape(len(t_values), len(x_values))\n",
    "        Y_pred = predictions.reshape(len(t_values), len(x_values))\n",
    "        fig, ax = plt.subplots(1, 2, figsize=(12, 5))\n",
    "\n",
    "        c1 = ax[0].contourf(t_values, x_values, Y_actual.T, cmap=\"coolwarm\", levels=50)\n",
    "        fig.colorbar(c1, ax=ax[0])\n",
    "        ax[0].set_title(\"Burgers' Solution $u(t,x)$\")\n",
    "        ax[0].set_xlabel(\"t (s)\")\n",
    "        ax[0].set_ylabel(\"x\")\n",
    "        c2 = ax[1].contourf(t_values, x_values, Y_pred.T, cmap=\"coolwarm\", levels=50)\n",
    "        fig.colorbar(c2, ax=ax[1])\n",
    "        ax[1].set_title(\"Predicted $\\\\hat{u}(t,x)$\")\n",
    "        ax[1].set_xlabel(\"t (s)\")\n",
    "        ax[1].set_ylabel(\"x\")\n",
    "\n",
    "        plt.tight_layout()\n",
    "        plt.show()\n",
    "\n",
    "        #--HEATMAP--\n",
    "        error = np.abs(Y_actual - Y_pred)  \n",
    "        error = np.nan_to_num(error, nan=0.0, posinf=np.max(error[np.isfinite(error)]), neginf=0.0)\n",
    "\n",
    "        plt.figure(figsize=(10, 8))  \n",
    "        ax = sns.heatmap(error.T, cmap=\"coolwarm\", cbar=True, square=True)\n",
    "        num_x_ticks = 10  \n",
    "        num_t_ticks = 10 \n",
    "\n",
    "        ax.set_xticks(np.linspace(0, len(t_values)-1, num_t_ticks))  # Position tick labels evenly\n",
    "        ax.set_xticklabels(np.round(np.linspace(t_values.min(), t_values.max(), num_t_ticks), 2)) \n",
    "        ax.set_yticks(np.linspace(0, len(x_values)-1, num_x_ticks))\n",
    "        ax.set_yticklabels(np.round(np.linspace(x_values.min(), x_values.max(), num_x_ticks), 2)) \n",
    "        plt.xlabel(\"t (s)\")\n",
    "        plt.ylabel(\"x\")\n",
    "        plt.title(\"Heatmap\")\n",
    "        plt.show()\n",
    "\n",
    "def on_button_click(b):\n",
    "    run_experiment(layers_dropdown.value,neurons_dropdown.value,samples_dropdown.value,noise_dropdown.value,iterations_dropdown.value,)\n",
    "run_button.on_click(on_button_click)\n",
    "display(widgets.VBox([layers_dropdown,neurons_dropdown,samples_dropdown,noise_dropdown,iterations_dropdown,run_button,output]))\n"
   ]
  }
 ],
 "metadata": {
  "kernelspec": {
   "display_name": "Python 3",
   "language": "python",
   "name": "python3"
  },
  "language_info": {
   "codemirror_mode": {
    "name": "ipython",
    "version": 3
   },
   "file_extension": ".py",
   "mimetype": "text/x-python",
   "name": "python",
   "nbconvert_exporter": "python",
   "pygments_lexer": "ipython3",
   "version": "3.12.6"
  }
 },
 "nbformat": 4,
 "nbformat_minor": 2
}
