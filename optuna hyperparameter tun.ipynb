{
  "nbformat": 4,
  "nbformat_minor": 0,
  "metadata": {
    "colab": {
      "provenance": [],
      "authorship_tag": "ABX9TyPTPS3CMh0ltVVSwZjaYXIY",
      "include_colab_link": true
    },
    "kernelspec": {
      "name": "python3",
      "display_name": "Python 3"
    },
    "language_info": {
      "name": "python"
    }
  },
  "cells": [
    {
      "cell_type": "markdown",
      "metadata": {
        "id": "view-in-github",
        "colab_type": "text"
      },
      "source": [
        "<a href=\"https://colab.research.google.com/github/afroditinats/PINNs/blob/main/optuna%20hyperparameter%20tun.ipynb\" target=\"_parent\"><img src=\"https://colab.research.google.com/assets/colab-badge.svg\" alt=\"Open In Colab\"/></a>"
      ]
    },
    {
      "cell_type": "code",
      "execution_count": 2,
      "metadata": {
        "colab": {
          "base_uri": "https://localhost:8080/"
        },
        "id": "_BxSx4NR1pf6",
        "outputId": "70b7c9a2-91cf-4518-f979-6a3e2bdebfe3"
      },
      "outputs": [
        {
          "output_type": "stream",
          "name": "stdout",
          "text": [
            "Collecting optuna\n",
            "  Downloading optuna-4.2.1-py3-none-any.whl.metadata (17 kB)\n",
            "Collecting alembic>=1.5.0 (from optuna)\n",
            "  Downloading alembic-1.15.1-py3-none-any.whl.metadata (7.2 kB)\n",
            "Collecting colorlog (from optuna)\n",
            "  Downloading colorlog-6.9.0-py3-none-any.whl.metadata (10 kB)\n",
            "Requirement already satisfied: numpy in /usr/local/lib/python3.11/dist-packages (from optuna) (1.26.4)\n",
            "Requirement already satisfied: packaging>=20.0 in /usr/local/lib/python3.11/dist-packages (from optuna) (24.2)\n",
            "Requirement already satisfied: sqlalchemy>=1.4.2 in /usr/local/lib/python3.11/dist-packages (from optuna) (2.0.39)\n",
            "Requirement already satisfied: tqdm in /usr/local/lib/python3.11/dist-packages (from optuna) (4.67.1)\n",
            "Requirement already satisfied: PyYAML in /usr/local/lib/python3.11/dist-packages (from optuna) (6.0.2)\n",
            "Collecting Mako (from alembic>=1.5.0->optuna)\n",
            "  Downloading Mako-1.3.9-py3-none-any.whl.metadata (2.9 kB)\n",
            "Requirement already satisfied: typing-extensions>=4.12 in /usr/local/lib/python3.11/dist-packages (from alembic>=1.5.0->optuna) (4.12.2)\n",
            "Requirement already satisfied: greenlet!=0.4.17 in /usr/local/lib/python3.11/dist-packages (from sqlalchemy>=1.4.2->optuna) (3.1.1)\n",
            "Requirement already satisfied: MarkupSafe>=0.9.2 in /usr/local/lib/python3.11/dist-packages (from Mako->alembic>=1.5.0->optuna) (3.0.2)\n",
            "Downloading optuna-4.2.1-py3-none-any.whl (383 kB)\n",
            "\u001b[2K   \u001b[90m━━━━━━━━━━━━━━━━━━━━━━━━━━━━━━━━━━━━━━━━\u001b[0m \u001b[32m383.6/383.6 kB\u001b[0m \u001b[31m15.5 MB/s\u001b[0m eta \u001b[36m0:00:00\u001b[0m\n",
            "\u001b[?25hDownloading alembic-1.15.1-py3-none-any.whl (231 kB)\n",
            "\u001b[2K   \u001b[90m━━━━━━━━━━━━━━━━━━━━━━━━━━━━━━━━━━━━━━━━\u001b[0m \u001b[32m231.8/231.8 kB\u001b[0m \u001b[31m16.9 MB/s\u001b[0m eta \u001b[36m0:00:00\u001b[0m\n",
            "\u001b[?25hDownloading colorlog-6.9.0-py3-none-any.whl (11 kB)\n",
            "Downloading Mako-1.3.9-py3-none-any.whl (78 kB)\n",
            "\u001b[2K   \u001b[90m━━━━━━━━━━━━━━━━━━━━━━━━━━━━━━━━━━━━━━━━\u001b[0m \u001b[32m78.5/78.5 kB\u001b[0m \u001b[31m6.3 MB/s\u001b[0m eta \u001b[36m0:00:00\u001b[0m\n",
            "\u001b[?25hInstalling collected packages: Mako, colorlog, alembic, optuna\n",
            "Successfully installed Mako-1.3.9 alembic-1.15.1 colorlog-6.9.0 optuna-4.2.1\n"
          ]
        }
      ],
      "source": [
        "pip install optuna"
      ]
    },
    {
      "cell_type": "code",
      "source": [
        "import optuna\n",
        "import torch\n",
        "import numpy as np\n",
        "import time\n",
        "import joblib\n",
        "import pandas as pd\n",
        "from IPython.display import display\n",
        "import os\n",
        "os.environ[\"TORCHDYNAMO_DISABLE\"] = \"1\"\n",
        "from modules import Model\n",
        "from data import get_data\n",
        "from pinn import PINN_experiment\n",
        "\n",
        "activations = {\n",
        "    \"Tanh\": torch.nn.Tanh,\n",
        "    \"ReLU\": torch.nn.ReLU,\n",
        "    \"LeakyReLU\": torch.nn.LeakyReLU,\n",
        "    \"Sigmoid\": torch.nn.Sigmoid,\n",
        "}\n",
        "\n",
        "optimizers = {\n",
        "    \"Adam\": torch.optim.Adam,\n",
        "    \"AdamW\": torch.optim.AdamW,\n",
        "    \"SGD\": torch.optim.SGD,\n",
        "    \"RMSprop\": torch.optim.RMSprop,\n",
        "    \"Adagrad\": torch.optim.Adagrad,\n",
        "    \"LBFGS\": torch.optim.LBFGS,\n",
        "}\n",
        "\n",
        "def modify_network(layers, neurons, activation):\n",
        "    network = [torch.nn.Linear(2, neurons).double(), activation().double()]\n",
        "    for _ in range(layers - 2):\n",
        "        network.append(torch.nn.Linear(neurons, neurons).double())\n",
        "        network.append(activation().double())\n",
        "    network.append(torch.nn.Linear(neurons, 1).double())\n",
        "    return torch.nn.Sequential(*network)\n",
        "\n",
        "#optuna function\n",
        "def objective(trial):\n",
        "    \"\"\"Objective function to optimize PINN hyperparameters using Optuna.\"\"\"\n",
        "    layers = trial.suggest_int(\"layers\", 3, 50)\n",
        "    neurons = trial.suggest_int(\"neurons\", 5, 50)\n",
        "    activation_name = trial.suggest_categorical(\"activation\", list(activations.keys()))\n",
        "    optimizer_name = trial.suggest_categorical(\"optimizer\", list(optimizers.keys()))\n",
        "    train_val_split = trial.suggest_categorical(\"train_val_split\", [0.6, 0.7, 0.8, 0.9])\n",
        "    viscosity = trial.suggest_float(\"viscosity\", -1.0, 1.0)\n",
        "    iterations = trial.suggest_int(\"iterations\", 1000, 10000)\n",
        "    activation = activations[activation_name]\n",
        "    optimizer = optimizers[optimizer_name]\n",
        "    Model.create_network = lambda self: modify_network(layers, neurons, activation)\n",
        "    model = Model()\n",
        "    model.adam_optimizer = torch.optim.AdamW(model.network.parameters())\n",
        "    model.visc = torch.nn.Parameter(torch.tensor([viscosity], dtype=torch.double))\n",
        "    model.network.register_parameter(\"visc\", model.visc)\n",
        "    model.lbfgs_optimizer = optimizer(model.network.parameters())\n",
        "    data = get_data()\n",
        "    start_time = time.time()\n",
        "\n",
        "    PINN_experiment(data, [0.0], verbose=False, rerun=True)\n",
        "\n",
        "\n",
        "    all_results = np.load(\"./results/pinn_results.npy\", allow_pickle=True)\n",
        "    rmse = all_results[0][-1]\n",
        "\n",
        "    run_time = time.time() - start_time\n",
        "    print(f\"Trial complete: RMSE={rmse}, Time={run_time}s\")\n",
        "\n",
        "    return rmse\n",
        "\n",
        "#optimizing the hyperparameters\n",
        "study = optuna.create_study(direction=\"minimize\")\n",
        "study.optimize(objective, n_trials=50)  #n_trials\n",
        "\n",
        "\n",
        "joblib.dump(study, \"optuna_pinn_study.pkl\")\n",
        "print(\"Optuna study saved!\")\n",
        "study = joblib.load(\"optuna_pinn_study.pkl\")\n",
        "top_trials = sorted(study.trials, key=lambda t: t.value)[:10]\n",
        "\n",
        "top_results = []\n",
        "for trial in top_trials:\n",
        "    top_results.append({\n",
        "        \"RMSE\": trial.value,\n",
        "        \"Layers\": trial.params[\"layers\"],\n",
        "        \"Neurons\": trial.params[\"neurons\"],\n",
        "        \"Activation\": trial.params[\"activation\"],\n",
        "        \"Optimizer\": trial.params[\"optimizer\"],\n",
        "        \"Train-Val Split\": trial.params[\"train_val_split\"],\n",
        "        \"Viscosity\": trial.params[\"viscosity\"],\n",
        "        \"Iterations\": trial.params[\"iterations\"]\n",
        "    })\n",
        "\n",
        "df_top = pd.DataFrame(top_results)\n",
        "#top 10 results\n",
        "display(df_top)\n"
      ],
      "metadata": {
        "colab": {
          "base_uri": "https://localhost:8080/",
          "height": 1000
        },
        "id": "aQm4V_Gc2HBD",
        "outputId": "384e203d-e747-4ad7-e53c-2a4837a0130c"
      },
      "execution_count": 3,
      "outputs": [
        {
          "output_type": "stream",
          "name": "stderr",
          "text": [
            "[I 2025-03-17 11:24:12,670] A new study created in memory with name: no-name-3fef5ca9-e51b-492a-ae43-e427556814aa\n"
          ]
        },
        {
          "output_type": "stream",
          "name": "stdout",
          "text": [
            "Loaded data.\n"
          ]
        },
        {
          "output_type": "stream",
          "name": "stderr",
          "text": [
            "/content/data.py:12: UserWarning: Creating a tensor from a list of numpy.ndarrays is extremely slow. Please consider converting the list to a single numpy.ndarray with numpy.array() before converting to a tensor. (Triggered internally at /pytorch/torch/csrc/utils/tensor_new.cpp:254.)\n",
            "  tensor_data.append(torch.tensor(entry))\n",
            "[I 2025-03-17 11:33:20,570] Trial 0 finished with value: 0.3774639385386569 and parameters: {'layers': 50, 'neurons': 21, 'activation': 'ReLU', 'optimizer': 'SGD', 'train_val_split': 0.7, 'viscosity': -0.020020737297935964, 'iterations': 5920}. Best is trial 0 with value: 0.3774639385386569.\n"
          ]
        },
        {
          "output_type": "stream",
          "name": "stdout",
          "text": [
            "PINN test complete.\n",
            "Trial complete: RMSE=0.3774639385386569, Time=541.0269017219543s\n",
            "Loaded data.\n"
          ]
        },
        {
          "output_type": "stream",
          "name": "stderr",
          "text": [
            "[I 2025-03-17 11:39:54,055] Trial 1 finished with value: 0.003978849489848615 and parameters: {'layers': 24, 'neurons': 10, 'activation': 'Tanh', 'optimizer': 'LBFGS', 'train_val_split': 0.7, 'viscosity': -0.6901684416634457, 'iterations': 4177}. Best is trial 1 with value: 0.003978849489848615.\n"
          ]
        },
        {
          "output_type": "stream",
          "name": "stdout",
          "text": [
            "PINN test complete.\n",
            "Trial complete: RMSE=0.003978849489848615, Time=393.3397672176361s\n",
            "Loaded data.\n"
          ]
        },
        {
          "output_type": "stream",
          "name": "stderr",
          "text": [
            "[I 2025-03-17 12:00:07,654] Trial 2 finished with value: 0.3774639385386999 and parameters: {'layers': 44, 'neurons': 43, 'activation': 'LeakyReLU', 'optimizer': 'LBFGS', 'train_val_split': 0.6, 'viscosity': -0.8159899258526166, 'iterations': 3941}. Best is trial 1 with value: 0.003978849489848615.\n"
          ]
        },
        {
          "output_type": "stream",
          "name": "stdout",
          "text": [
            "PINN test complete.\n",
            "Trial complete: RMSE=0.3774639385386999, Time=1213.4618017673492s\n",
            "Loaded data.\n"
          ]
        },
        {
          "output_type": "stream",
          "name": "stderr",
          "text": [
            "[I 2025-03-17 12:34:34,383] Trial 3 finished with value: 0.37746393853846316 and parameters: {'layers': 49, 'neurons': 45, 'activation': 'Tanh', 'optimizer': 'Adagrad', 'train_val_split': 0.9, 'viscosity': -0.2887931095839542, 'iterations': 8507}. Best is trial 1 with value: 0.003978849489848615.\n"
          ]
        },
        {
          "output_type": "stream",
          "name": "stdout",
          "text": [
            "PINN test complete.\n",
            "Trial complete: RMSE=0.37746393853846316, Time=2066.599943637848s\n",
            "Loaded data.\n"
          ]
        },
        {
          "output_type": "stream",
          "name": "stderr",
          "text": [
            "[I 2025-03-17 12:39:17,402] Trial 4 finished with value: 5.0775959421000885e-05 and parameters: {'layers': 8, 'neurons': 23, 'activation': 'Tanh', 'optimizer': 'Adam', 'train_val_split': 0.8, 'viscosity': -0.06435724098872986, 'iterations': 6408}. Best is trial 4 with value: 5.0775959421000885e-05.\n"
          ]
        },
        {
          "output_type": "stream",
          "name": "stdout",
          "text": [
            "PINN test complete.\n",
            "Trial complete: RMSE=5.0775959421000885e-05, Time=282.80485582351685s\n",
            "Loaded data.\n"
          ]
        },
        {
          "output_type": "stream",
          "name": "stderr",
          "text": [
            "[I 2025-03-17 12:58:48,444] Trial 5 finished with value: 0.37746393853864113 and parameters: {'layers': 25, 'neurons': 49, 'activation': 'Sigmoid', 'optimizer': 'Adam', 'train_val_split': 0.8, 'viscosity': -0.10038829053538567, 'iterations': 7148}. Best is trial 4 with value: 5.0775959421000885e-05.\n"
          ]
        },
        {
          "output_type": "stream",
          "name": "stdout",
          "text": [
            "PINN test complete.\n",
            "Trial complete: RMSE=0.37746393853864113, Time=1170.9278128147125s\n",
            "Loaded data.\n"
          ]
        },
        {
          "output_type": "stream",
          "name": "stderr",
          "text": [
            "[I 2025-03-17 13:06:04,538] Trial 6 finished with value: 0.37746393853871274 and parameters: {'layers': 14, 'neurons': 37, 'activation': 'Sigmoid', 'optimizer': 'RMSprop', 'train_val_split': 0.6, 'viscosity': 0.5494907030779634, 'iterations': 5770}. Best is trial 4 with value: 5.0775959421000885e-05.\n"
          ]
        },
        {
          "output_type": "stream",
          "name": "stdout",
          "text": [
            "PINN test complete.\n",
            "Trial complete: RMSE=0.37746393853871274, Time=435.9603662490845s\n",
            "Loaded data.\n"
          ]
        },
        {
          "output_type": "stream",
          "name": "stderr",
          "text": [
            "[I 2025-03-17 13:21:50,158] Trial 7 finished with value: 0.0024202298358030204 and parameters: {'layers': 27, 'neurons': 21, 'activation': 'Tanh', 'optimizer': 'Adam', 'train_val_split': 0.9, 'viscosity': -0.020236600269587735, 'iterations': 2309}. Best is trial 4 with value: 5.0775959421000885e-05.\n"
          ]
        },
        {
          "output_type": "stream",
          "name": "stdout",
          "text": [
            "PINN test complete.\n",
            "Trial complete: RMSE=0.0024202298358030204, Time=945.4882462024689s\n",
            "Loaded data.\n"
          ]
        },
        {
          "output_type": "stream",
          "name": "stderr",
          "text": [
            "[I 2025-03-17 13:24:18,994] Trial 8 finished with value: 0.13933280783407567 and parameters: {'layers': 7, 'neurons': 40, 'activation': 'LeakyReLU', 'optimizer': 'AdamW', 'train_val_split': 0.7, 'viscosity': 0.48951953549031035, 'iterations': 9383}. Best is trial 4 with value: 5.0775959421000885e-05.\n"
          ]
        },
        {
          "output_type": "stream",
          "name": "stdout",
          "text": [
            "PINN test complete.\n",
            "Trial complete: RMSE=0.13933280783407567, Time=148.69813704490662s\n",
            "Loaded data.\n"
          ]
        },
        {
          "output_type": "stream",
          "name": "stderr",
          "text": [
            "[I 2025-03-17 13:41:45,713] Trial 9 finished with value: 0.3774639385385619 and parameters: {'layers': 50, 'neurons': 25, 'activation': 'Tanh', 'optimizer': 'Adagrad', 'train_val_split': 0.9, 'viscosity': -0.013064732082337827, 'iterations': 9034}. Best is trial 4 with value: 5.0775959421000885e-05.\n"
          ]
        },
        {
          "output_type": "stream",
          "name": "stdout",
          "text": [
            "PINN test complete.\n",
            "Trial complete: RMSE=0.3774639385385619, Time=1046.5814726352692s\n",
            "Loaded data.\n"
          ]
        },
        {
          "output_type": "stream",
          "name": "stderr",
          "text": [
            "[I 2025-03-17 13:42:00,890] Trial 10 finished with value: 0.15910938016659584 and parameters: {'layers': 3, 'neurons': 5, 'activation': 'ReLU', 'optimizer': 'Adam', 'train_val_split': 0.8, 'viscosity': 0.9819997701676533, 'iterations': 1767}. Best is trial 4 with value: 5.0775959421000885e-05.\n"
          ]
        },
        {
          "output_type": "stream",
          "name": "stdout",
          "text": [
            "PINN test complete.\n",
            "Trial complete: RMSE=0.15910938016659584, Time=15.004042625427246s\n",
            "Loaded data.\n"
          ]
        },
        {
          "output_type": "stream",
          "name": "stderr",
          "text": [
            "[I 2025-03-17 14:01:04,397] Trial 11 finished with value: 0.004337582179059874 and parameters: {'layers': 36, 'neurons': 19, 'activation': 'Tanh', 'optimizer': 'Adam', 'train_val_split': 0.9, 'viscosity': -0.4746882120555562, 'iterations': 1054}. Best is trial 4 with value: 5.0775959421000885e-05.\n"
          ]
        },
        {
          "output_type": "stream",
          "name": "stdout",
          "text": [
            "PINN test complete.\n",
            "Trial complete: RMSE=0.004337582179059874, Time=1143.3668134212494s\n",
            "Loaded data.\n"
          ]
        },
        {
          "output_type": "stream",
          "name": "stderr",
          "text": [
            "[I 2025-03-17 14:29:53,311] Trial 12 finished with value: 0.0060737890974252775 and parameters: {'layers': 33, 'neurons': 32, 'activation': 'Tanh', 'optimizer': 'Adam', 'train_val_split': 0.8, 'viscosity': 0.350899733939664, 'iterations': 2962}. Best is trial 4 with value: 5.0775959421000885e-05.\n"
          ]
        },
        {
          "output_type": "stream",
          "name": "stdout",
          "text": [
            "PINN test complete.\n",
            "Trial complete: RMSE=0.0060737890974252775, Time=1728.7615277767181s\n",
            "Loaded data.\n"
          ]
        },
        {
          "output_type": "stream",
          "name": "stderr",
          "text": [
            "[I 2025-03-17 14:36:37,128] Trial 13 finished with value: 0.00010546067677517129 and parameters: {'layers': 17, 'neurons': 16, 'activation': 'Tanh', 'optimizer': 'Adam', 'train_val_split': 0.8, 'viscosity': 0.24508032744256414, 'iterations': 7243}. Best is trial 4 with value: 5.0775959421000885e-05.\n"
          ]
        },
        {
          "output_type": "stream",
          "name": "stdout",
          "text": [
            "PINN test complete.\n",
            "Trial complete: RMSE=0.00010546067677517129, Time=403.65794706344604s\n",
            "Loaded data.\n"
          ]
        },
        {
          "output_type": "stream",
          "name": "stderr",
          "text": [
            "[I 2025-03-17 14:42:24,630] Trial 14 finished with value: 0.00017530998009892082 and parameters: {'layers': 15, 'neurons': 15, 'activation': 'Tanh', 'optimizer': 'SGD', 'train_val_split': 0.8, 'viscosity': 0.28316849178325476, 'iterations': 7373}. Best is trial 4 with value: 5.0775959421000885e-05.\n"
          ]
        },
        {
          "output_type": "stream",
          "name": "stdout",
          "text": [
            "PINN test complete.\n",
            "Trial complete: RMSE=0.00017530998009892082, Time=347.3461949825287s\n",
            "Loaded data.\n"
          ]
        },
        {
          "output_type": "stream",
          "name": "stderr",
          "text": [
            "[I 2025-03-17 14:54:58,457] Trial 15 finished with value: 4.197951287102239e-05 and parameters: {'layers': 15, 'neurons': 30, 'activation': 'Tanh', 'optimizer': 'RMSprop', 'train_val_split': 0.8, 'viscosity': 0.7604500603541968, 'iterations': 7189}. Best is trial 15 with value: 4.197951287102239e-05.\n"
          ]
        },
        {
          "output_type": "stream",
          "name": "stdout",
          "text": [
            "PINN test complete.\n",
            "Trial complete: RMSE=4.197951287102239e-05, Time=753.6807885169983s\n",
            "Loaded data.\n"
          ]
        },
        {
          "output_type": "stream",
          "name": "stderr",
          "text": [
            "[I 2025-03-17 14:59:50,544] Trial 16 finished with value: 0.13330038628013313 and parameters: {'layers': 9, 'neurons': 30, 'activation': 'LeakyReLU', 'optimizer': 'RMSprop', 'train_val_split': 0.8, 'viscosity': 0.9513178956700852, 'iterations': 5160}. Best is trial 15 with value: 4.197951287102239e-05.\n"
          ]
        },
        {
          "output_type": "stream",
          "name": "stdout",
          "text": [
            "PINN test complete.\n",
            "Trial complete: RMSE=0.13330038628013313, Time=291.91507625579834s\n",
            "Loaded data.\n"
          ]
        },
        {
          "output_type": "stream",
          "name": "stderr",
          "text": [
            "[I 2025-03-17 15:08:59,755] Trial 17 finished with value: 0.37746393853864596 and parameters: {'layers': 19, 'neurons': 34, 'activation': 'Sigmoid', 'optimizer': 'RMSprop', 'train_val_split': 0.8, 'viscosity': 0.7240473407736496, 'iterations': 7977}. Best is trial 15 with value: 4.197951287102239e-05.\n"
          ]
        },
        {
          "output_type": "stream",
          "name": "stdout",
          "text": [
            "PINN test complete.\n",
            "Trial complete: RMSE=0.37746393853864596, Time=549.0809254646301s\n",
            "Loaded data.\n"
          ]
        },
        {
          "output_type": "stream",
          "name": "stderr",
          "text": [
            "[I 2025-03-17 15:13:59,780] Trial 18 finished with value: 0.1382904540307943 and parameters: {'layers': 10, 'neurons': 26, 'activation': 'ReLU', 'optimizer': 'AdamW', 'train_val_split': 0.8, 'viscosity': -0.3756019133663161, 'iterations': 6571}. Best is trial 15 with value: 4.197951287102239e-05.\n"
          ]
        },
        {
          "output_type": "stream",
          "name": "stdout",
          "text": [
            "PINN test complete.\n",
            "Trial complete: RMSE=0.1382904540307943, Time=299.8606162071228s\n",
            "Loaded data.\n"
          ]
        },
        {
          "output_type": "stream",
          "name": "stderr",
          "text": [
            "[I 2025-03-17 15:15:38,938] Trial 19 finished with value: 0.0004937975191416762 and parameters: {'layers': 3, 'neurons': 27, 'activation': 'Tanh', 'optimizer': 'RMSprop', 'train_val_split': 0.6, 'viscosity': 0.7804984137118569, 'iterations': 4627}. Best is trial 15 with value: 4.197951287102239e-05.\n"
          ]
        },
        {
          "output_type": "stream",
          "name": "stdout",
          "text": [
            "PINN test complete.\n",
            "Trial complete: RMSE=0.0004937975191416762, Time=98.93377709388733s\n",
            "Loaded data.\n"
          ]
        },
        {
          "output_type": "stream",
          "name": "stderr",
          "text": [
            "[I 2025-03-17 15:21:44,004] Trial 20 finished with value: 0.010797921300882257 and parameters: {'layers': 20, 'neurons': 11, 'activation': 'Tanh', 'optimizer': 'RMSprop', 'train_val_split': 0.8, 'viscosity': 0.19334340587579824, 'iterations': 6476}. Best is trial 15 with value: 4.197951287102239e-05.\n"
          ]
        },
        {
          "output_type": "stream",
          "name": "stdout",
          "text": [
            "PINN test complete.\n",
            "Trial complete: RMSE=0.010797921300882257, Time=364.9215421676636s\n",
            "Loaded data.\n"
          ]
        },
        {
          "output_type": "stream",
          "name": "stderr",
          "text": [
            "[I 2025-03-17 15:27:15,877] Trial 21 finished with value: 4.304516348412634e-05 and parameters: {'layers': 14, 'neurons': 16, 'activation': 'Tanh', 'optimizer': 'Adam', 'train_val_split': 0.8, 'viscosity': 0.13109516324042672, 'iterations': 9938}. Best is trial 15 with value: 4.197951287102239e-05.\n"
          ]
        },
        {
          "output_type": "stream",
          "name": "stdout",
          "text": [
            "PINN test complete.\n",
            "Trial complete: RMSE=4.304516348412634e-05, Time=331.7341191768646s\n",
            "Loaded data.\n"
          ]
        },
        {
          "output_type": "stream",
          "name": "stderr",
          "text": [
            "[I 2025-03-17 15:34:41,853] Trial 22 finished with value: 5.5151795536127867e-05 and parameters: {'layers': 12, 'neurons': 23, 'activation': 'Tanh', 'optimizer': 'Adam', 'train_val_split': 0.8, 'viscosity': -0.6112290378030971, 'iterations': 9898}. Best is trial 15 with value: 4.197951287102239e-05.\n"
          ]
        },
        {
          "output_type": "stream",
          "name": "stdout",
          "text": [
            "PINN test complete.\n",
            "Trial complete: RMSE=5.5151795536127867e-05, Time=445.84526801109314s\n",
            "Loaded data.\n"
          ]
        },
        {
          "output_type": "stream",
          "name": "stderr",
          "text": [
            "[I 2025-03-17 15:36:59,728] Trial 23 finished with value: 7.3964516367517e-05 and parameters: {'layers': 6, 'neurons': 16, 'activation': 'Tanh', 'optimizer': 'Adam', 'train_val_split': 0.8, 'viscosity': 0.13355871093422894, 'iterations': 8263}. Best is trial 15 with value: 4.197951287102239e-05.\n"
          ]
        },
        {
          "output_type": "stream",
          "name": "stdout",
          "text": [
            "PINN test complete.\n",
            "Trial complete: RMSE=7.3964516367517e-05, Time=137.72544121742249s\n",
            "Loaded data.\n"
          ]
        },
        {
          "output_type": "stream",
          "name": "stderr",
          "text": [
            "[I 2025-03-17 15:54:19,053] Trial 24 finished with value: 7.06645114423478e-05 and parameters: {'layers': 21, 'neurons': 29, 'activation': 'Tanh', 'optimizer': 'SGD', 'train_val_split': 0.8, 'viscosity': -0.280872963118046, 'iterations': 9997}. Best is trial 15 with value: 4.197951287102239e-05.\n"
          ]
        },
        {
          "output_type": "stream",
          "name": "stdout",
          "text": [
            "PINN test complete.\n",
            "Trial complete: RMSE=7.06645114423478e-05, Time=1039.182591676712s\n",
            "Loaded data.\n"
          ]
        },
        {
          "output_type": "stream",
          "name": "stderr",
          "text": [
            "[I 2025-03-17 15:57:54,796] Trial 25 finished with value: 3.1152055914757554e-05 and parameters: {'layers': 12, 'neurons': 11, 'activation': 'Tanh', 'optimizer': 'AdamW', 'train_val_split': 0.8, 'viscosity': -0.9508809470573898, 'iterations': 7797}. Best is trial 25 with value: 3.1152055914757554e-05.\n"
          ]
        },
        {
          "output_type": "stream",
          "name": "stdout",
          "text": [
            "PINN test complete.\n",
            "Trial complete: RMSE=3.1152055914757554e-05, Time=215.58619594573975s\n",
            "Loaded data.\n"
          ]
        },
        {
          "output_type": "stream",
          "name": "stderr",
          "text": [
            "[I 2025-03-17 16:00:03,119] Trial 26 finished with value: 0.15748538476939072 and parameters: {'layers': 30, 'neurons': 6, 'activation': 'LeakyReLU', 'optimizer': 'AdamW', 'train_val_split': 0.8, 'viscosity': -0.9786138042569588, 'iterations': 7928}. Best is trial 25 with value: 3.1152055914757554e-05.\n"
          ]
        },
        {
          "output_type": "stream",
          "name": "stdout",
          "text": [
            "PINN test complete.\n",
            "Trial complete: RMSE=0.15748538476939072, Time=128.18379640579224s\n",
            "Loaded data.\n"
          ]
        },
        {
          "output_type": "stream",
          "name": "stderr",
          "text": [
            "[I 2025-03-17 16:02:19,841] Trial 27 finished with value: 0.3774639384133834 and parameters: {'layers': 13, 'neurons': 14, 'activation': 'Sigmoid', 'optimizer': 'AdamW', 'train_val_split': 0.7, 'viscosity': 0.5203680197636209, 'iterations': 9062}. Best is trial 25 with value: 3.1152055914757554e-05.\n"
          ]
        },
        {
          "output_type": "stream",
          "name": "stdout",
          "text": [
            "PINN test complete.\n",
            "Trial complete: RMSE=0.3774639384133834, Time=136.56838250160217s\n",
            "Loaded data.\n"
          ]
        },
        {
          "output_type": "stream",
          "name": "stderr",
          "text": [
            "[I 2025-03-17 16:03:41,047] Trial 28 finished with value: 0.13840960160632185 and parameters: {'layers': 16, 'neurons': 9, 'activation': 'ReLU', 'optimizer': 'AdamW', 'train_val_split': 0.6, 'viscosity': 0.7026218763362642, 'iterations': 8942}. Best is trial 25 with value: 3.1152055914757554e-05.\n"
          ]
        },
        {
          "output_type": "stream",
          "name": "stdout",
          "text": [
            "PINN test complete.\n",
            "Trial complete: RMSE=0.13840960160632185, Time=80.9809079170227s\n",
            "Loaded data.\n"
          ]
        },
        {
          "output_type": "stream",
          "name": "stderr",
          "text": [
            "[I 2025-03-17 16:07:17,981] Trial 29 finished with value: 0.1411743372111078 and parameters: {'layers': 22, 'neurons': 19, 'activation': 'ReLU', 'optimizer': 'LBFGS', 'train_val_split': 0.7, 'viscosity': -0.18786185853314616, 'iterations': 7776}. Best is trial 25 with value: 3.1152055914757554e-05.\n"
          ]
        },
        {
          "output_type": "stream",
          "name": "stdout",
          "text": [
            "PINN test complete.\n",
            "Trial complete: RMSE=0.1411743372111078, Time=216.7635006904602s\n",
            "Loaded data.\n"
          ]
        },
        {
          "output_type": "stream",
          "name": "stderr",
          "text": [
            "[I 2025-03-17 16:11:06,508] Trial 30 finished with value: 5.2332214444013626e-05 and parameters: {'layers': 11, 'neurons': 13, 'activation': 'Tanh', 'optimizer': 'Adagrad', 'train_val_split': 0.8, 'viscosity': -0.48446271296178745, 'iterations': 5258}. Best is trial 25 with value: 3.1152055914757554e-05.\n"
          ]
        },
        {
          "output_type": "stream",
          "name": "stdout",
          "text": [
            "PINN test complete.\n",
            "Trial complete: RMSE=5.2332214444013626e-05, Time=228.37177276611328s\n",
            "Loaded data.\n"
          ]
        },
        {
          "output_type": "stream",
          "name": "stderr",
          "text": [
            "[I 2025-03-17 16:15:41,260] Trial 31 finished with value: 3.7268522427796115e-05 and parameters: {'layers': 8, 'neurons': 22, 'activation': 'Tanh', 'optimizer': 'SGD', 'train_val_split': 0.8, 'viscosity': -0.9701940750034694, 'iterations': 6868}. Best is trial 25 with value: 3.1152055914757554e-05.\n"
          ]
        },
        {
          "output_type": "stream",
          "name": "stdout",
          "text": [
            "PINN test complete.\n",
            "Trial complete: RMSE=3.7268522427796115e-05, Time=274.6044969558716s\n",
            "Loaded data.\n"
          ]
        },
        {
          "output_type": "stream",
          "name": "stderr",
          "text": [
            "[I 2025-03-17 16:18:01,665] Trial 32 finished with value: 3.900518573209593e-05 and parameters: {'layers': 5, 'neurons': 19, 'activation': 'Tanh', 'optimizer': 'SGD', 'train_val_split': 0.8, 'viscosity': -0.9595799682356839, 'iterations': 6818}. Best is trial 25 with value: 3.1152055914757554e-05.\n"
          ]
        },
        {
          "output_type": "stream",
          "name": "stdout",
          "text": [
            "PINN test complete.\n",
            "Trial complete: RMSE=3.900518573209593e-05, Time=140.25572896003723s\n",
            "Loaded data.\n"
          ]
        },
        {
          "output_type": "stream",
          "name": "stderr",
          "text": [
            "[I 2025-03-17 16:20:21,580] Trial 33 finished with value: 3.790663493792428e-05 and parameters: {'layers': 5, 'neurons': 19, 'activation': 'Tanh', 'optimizer': 'SGD', 'train_val_split': 0.8, 'viscosity': -0.9376949951453618, 'iterations': 6825}. Best is trial 25 with value: 3.1152055914757554e-05.\n"
          ]
        },
        {
          "output_type": "stream",
          "name": "stdout",
          "text": [
            "PINN test complete.\n",
            "Trial complete: RMSE=3.790663493792428e-05, Time=139.74528002738953s\n",
            "Loaded data.\n"
          ]
        },
        {
          "output_type": "stream",
          "name": "stderr",
          "text": [
            "[I 2025-03-17 16:23:16,662] Trial 34 finished with value: 2.9197184034507267e-05 and parameters: {'layers': 6, 'neurons': 20, 'activation': 'Tanh', 'optimizer': 'SGD', 'train_val_split': 0.8, 'viscosity': -0.99941927873629, 'iterations': 6137}. Best is trial 34 with value: 2.9197184034507267e-05.\n"
          ]
        },
        {
          "output_type": "stream",
          "name": "stdout",
          "text": [
            "PINN test complete.\n",
            "Trial complete: RMSE=2.9197184034507267e-05, Time=174.9228551387787s\n",
            "Loaded data.\n"
          ]
        },
        {
          "output_type": "stream",
          "name": "stderr",
          "text": [
            "[I 2025-03-17 16:25:05,654] Trial 35 finished with value: 4.8444596147658865e-05 and parameters: {'layers': 7, 'neurons': 9, 'activation': 'Tanh', 'optimizer': 'SGD', 'train_val_split': 0.7, 'viscosity': -0.8079499703728629, 'iterations': 5970}. Best is trial 34 with value: 2.9197184034507267e-05.\n"
          ]
        },
        {
          "output_type": "stream",
          "name": "stdout",
          "text": [
            "PINN test complete.\n",
            "Trial complete: RMSE=4.8444596147658865e-05, Time=108.85729742050171s\n",
            "Loaded data.\n"
          ]
        },
        {
          "output_type": "stream",
          "name": "stderr",
          "text": [
            "[I 2025-03-17 16:27:08,052] Trial 36 finished with value: 7.470773099204881e-05 and parameters: {'layers': 4, 'neurons': 22, 'activation': 'Tanh', 'optimizer': 'SGD', 'train_val_split': 0.8, 'viscosity': -0.8273495786428395, 'iterations': 6056}. Best is trial 34 with value: 2.9197184034507267e-05.\n"
          ]
        },
        {
          "output_type": "stream",
          "name": "stdout",
          "text": [
            "PINN test complete.\n",
            "Trial complete: RMSE=7.470773099204881e-05, Time=122.18849396705627s\n",
            "Loaded data.\n"
          ]
        },
        {
          "output_type": "stream",
          "name": "stderr",
          "text": [
            "[I 2025-03-17 16:33:11,430] Trial 37 finished with value: 0.3774639385358657 and parameters: {'layers': 40, 'neurons': 18, 'activation': 'LeakyReLU', 'optimizer': 'SGD', 'train_val_split': 0.6, 'viscosity': -0.670538630528642, 'iterations': 4685}. Best is trial 34 with value: 2.9197184034507267e-05.\n"
          ]
        },
        {
          "output_type": "stream",
          "name": "stdout",
          "text": [
            "PINN test complete.\n",
            "Trial complete: RMSE=0.3774639385358657, Time=363.204478263855s\n",
            "Loaded data.\n"
          ]
        },
        {
          "output_type": "stream",
          "name": "stderr",
          "text": [
            "[I 2025-03-17 16:39:21,251] Trial 38 finished with value: 0.11264910776769124 and parameters: {'layers': 10, 'neurons': 24, 'activation': 'Sigmoid', 'optimizer': 'SGD', 'train_val_split': 0.9, 'viscosity': -0.8285281416529313, 'iterations': 3560}. Best is trial 34 with value: 2.9197184034507267e-05.\n"
          ]
        },
        {
          "output_type": "stream",
          "name": "stdout",
          "text": [
            "PINN test complete.\n",
            "Trial complete: RMSE=0.11264910776769124, Time=369.5984764099121s\n",
            "Loaded data.\n"
          ]
        },
        {
          "output_type": "stream",
          "name": "stderr",
          "text": [
            "[I 2025-03-17 16:43:47,725] Trial 39 finished with value: 4.424876079554724e-05 and parameters: {'layers': 8, 'neurons': 21, 'activation': 'Tanh', 'optimizer': 'SGD', 'train_val_split': 0.8, 'viscosity': -0.9045757787858641, 'iterations': 5584}. Best is trial 34 with value: 2.9197184034507267e-05.\n"
          ]
        },
        {
          "output_type": "stream",
          "name": "stdout",
          "text": [
            "PINN test complete.\n",
            "Trial complete: RMSE=4.424876079554724e-05, Time=266.3303382396698s\n",
            "Loaded data.\n"
          ]
        },
        {
          "output_type": "stream",
          "name": "stderr",
          "text": [
            "[I 2025-03-17 16:45:38,835] Trial 40 finished with value: 5.415259445384439e-05 and parameters: {'layers': 6, 'neurons': 12, 'activation': 'Tanh', 'optimizer': 'LBFGS', 'train_val_split': 0.8, 'viscosity': -0.7151250173040911, 'iterations': 7587}. Best is trial 34 with value: 2.9197184034507267e-05.\n"
          ]
        },
        {
          "output_type": "stream",
          "name": "stdout",
          "text": [
            "PINN test complete.\n",
            "Trial complete: RMSE=5.415259445384439e-05, Time=110.96044945716858s\n",
            "Loaded data.\n"
          ]
        },
        {
          "output_type": "stream",
          "name": "stderr",
          "text": [
            "[I 2025-03-17 16:47:59,593] Trial 41 finished with value: 7.1414493923799e-05 and parameters: {'layers': 5, 'neurons': 19, 'activation': 'Tanh', 'optimizer': 'SGD', 'train_val_split': 0.8, 'viscosity': -0.9700087737095308, 'iterations': 6820}. Best is trial 34 with value: 2.9197184034507267e-05.\n"
          ]
        },
        {
          "output_type": "stream",
          "name": "stdout",
          "text": [
            "PINN test complete.\n",
            "Trial complete: RMSE=7.1414493923799e-05, Time=140.6157946586609s\n",
            "Loaded data.\n"
          ]
        },
        {
          "output_type": "stream",
          "name": "stderr",
          "text": [
            "[I 2025-03-17 16:52:11,483] Trial 42 finished with value: 5.017869878879916e-05 and parameters: {'layers': 9, 'neurons': 18, 'activation': 'Tanh', 'optimizer': 'SGD', 'train_val_split': 0.8, 'viscosity': -0.882073826993677, 'iterations': 6236}. Best is trial 34 with value: 2.9197184034507267e-05.\n"
          ]
        },
        {
          "output_type": "stream",
          "name": "stdout",
          "text": [
            "PINN test complete.\n",
            "Trial complete: RMSE=5.017869878879916e-05, Time=251.74690699577332s\n",
            "Loaded data.\n"
          ]
        },
        {
          "output_type": "stream",
          "name": "stderr",
          "text": [
            "[I 2025-03-17 16:52:54,909] Trial 43 finished with value: 0.005851920533919241 and parameters: {'layers': 3, 'neurons': 7, 'activation': 'Tanh', 'optimizer': 'SGD', 'train_val_split': 0.8, 'viscosity': -0.7297036182240237, 'iterations': 6839}. Best is trial 34 with value: 2.9197184034507267e-05.\n"
          ]
        },
        {
          "output_type": "stream",
          "name": "stdout",
          "text": [
            "PINN test complete.\n",
            "Trial complete: RMSE=0.005851920533919241, Time=43.27825856208801s\n",
            "Loaded data.\n"
          ]
        },
        {
          "output_type": "stream",
          "name": "stderr",
          "text": [
            "[I 2025-03-17 16:56:07,100] Trial 44 finished with value: 3.5497603894446096e-05 and parameters: {'layers': 6, 'neurons': 21, 'activation': 'Tanh', 'optimizer': 'SGD', 'train_val_split': 0.9, 'viscosity': -0.9853254109078409, 'iterations': 8448}. Best is trial 34 with value: 2.9197184034507267e-05.\n"
          ]
        },
        {
          "output_type": "stream",
          "name": "stdout",
          "text": [
            "PINN test complete.\n",
            "Trial complete: RMSE=3.5497603894446096e-05, Time=192.03593683242798s\n",
            "Loaded data.\n"
          ]
        },
        {
          "output_type": "stream",
          "name": "stderr",
          "text": [
            "[I 2025-03-17 17:02:54,659] Trial 45 finished with value: 3.64951679574669e-05 and parameters: {'layers': 12, 'neurons': 21, 'activation': 'Tanh', 'optimizer': 'SGD', 'train_val_split': 0.9, 'viscosity': -0.5603944308625368, 'iterations': 8575}. Best is trial 34 with value: 2.9197184034507267e-05.\n"
          ]
        },
        {
          "output_type": "stream",
          "name": "stdout",
          "text": [
            "PINN test complete.\n",
            "Trial complete: RMSE=3.64951679574669e-05, Time=407.41772866249084s\n",
            "Loaded data.\n"
          ]
        },
        {
          "output_type": "stream",
          "name": "stderr",
          "text": [
            "[I 2025-03-17 17:15:32,191] Trial 46 finished with value: 6.851339851160006e-05 and parameters: {'layers': 18, 'neurons': 25, 'activation': 'Tanh', 'optimizer': 'Adagrad', 'train_val_split': 0.9, 'viscosity': -0.5707180701118237, 'iterations': 8456}. Best is trial 34 with value: 2.9197184034507267e-05.\n"
          ]
        },
        {
          "output_type": "stream",
          "name": "stdout",
          "text": [
            "PINN test complete.\n",
            "Trial complete: RMSE=6.851339851160006e-05, Time=757.3113791942596s\n",
            "Loaded data.\n"
          ]
        },
        {
          "output_type": "stream",
          "name": "stderr",
          "text": [
            "[I 2025-03-17 17:20:19,693] Trial 47 finished with value: 0.13972454635678808 and parameters: {'layers': 12, 'neurons': 21, 'activation': 'LeakyReLU', 'optimizer': 'SGD', 'train_val_split': 0.9, 'viscosity': -0.7565524228890721, 'iterations': 8705}. Best is trial 34 with value: 2.9197184034507267e-05.\n"
          ]
        },
        {
          "output_type": "stream",
          "name": "stdout",
          "text": [
            "PINN test complete.\n",
            "Trial complete: RMSE=0.13972454635678808, Time=287.27135968208313s\n",
            "Loaded data.\n"
          ]
        },
        {
          "output_type": "stream",
          "name": "stderr",
          "text": [
            "[I 2025-03-17 17:45:47,466] Trial 48 finished with value: 0.3774639385385082 and parameters: {'layers': 46, 'neurons': 50, 'activation': 'ReLU', 'optimizer': 'AdamW', 'train_val_split': 0.9, 'viscosity': -0.6035204736978653, 'iterations': 9304}. Best is trial 34 with value: 2.9197184034507267e-05.\n"
          ]
        },
        {
          "output_type": "stream",
          "name": "stdout",
          "text": [
            "PINN test complete.\n",
            "Trial complete: RMSE=0.3774639385385082, Time=1527.6120026111603s\n",
            "Loaded data.\n"
          ]
        },
        {
          "output_type": "stream",
          "name": "stderr",
          "text": [
            "[I 2025-03-17 17:50:31,331] Trial 49 finished with value: 3.688266359718108e-05 and parameters: {'layers': 7, 'neurons': 28, 'activation': 'Tanh', 'optimizer': 'SGD', 'train_val_split': 0.9, 'viscosity': -0.8912944913177114, 'iterations': 8212}. Best is trial 34 with value: 2.9197184034507267e-05.\n"
          ]
        },
        {
          "output_type": "stream",
          "name": "stdout",
          "text": [
            "PINN test complete.\n",
            "Trial complete: RMSE=3.688266359718108e-05, Time=283.7135989665985s\n",
            "Optuna study saved!\n"
          ]
        },
        {
          "output_type": "display_data",
          "data": {
            "text/plain": [
              "       RMSE  Layers  Neurons Activation Optimizer  Train-Val Split  Viscosity  \\\n",
              "0  0.000029       6       20       Tanh       SGD              0.8  -0.999419   \n",
              "1  0.000031      12       11       Tanh     AdamW              0.8  -0.950881   \n",
              "2  0.000035       6       21       Tanh       SGD              0.9  -0.985325   \n",
              "3  0.000036      12       21       Tanh       SGD              0.9  -0.560394   \n",
              "4  0.000037       7       28       Tanh       SGD              0.9  -0.891294   \n",
              "5  0.000037       8       22       Tanh       SGD              0.8  -0.970194   \n",
              "6  0.000038       5       19       Tanh       SGD              0.8  -0.937695   \n",
              "7  0.000039       5       19       Tanh       SGD              0.8  -0.959580   \n",
              "8  0.000042      15       30       Tanh   RMSprop              0.8   0.760450   \n",
              "9  0.000043      14       16       Tanh      Adam              0.8   0.131095   \n",
              "\n",
              "   Iterations  \n",
              "0        6137  \n",
              "1        7797  \n",
              "2        8448  \n",
              "3        8575  \n",
              "4        8212  \n",
              "5        6868  \n",
              "6        6825  \n",
              "7        6818  \n",
              "8        7189  \n",
              "9        9938  "
            ],
            "text/html": [
              "\n",
              "  <div id=\"df-9bc7792e-c267-4374-ae4a-7a238b221b6e\" class=\"colab-df-container\">\n",
              "    <div>\n",
              "<style scoped>\n",
              "    .dataframe tbody tr th:only-of-type {\n",
              "        vertical-align: middle;\n",
              "    }\n",
              "\n",
              "    .dataframe tbody tr th {\n",
              "        vertical-align: top;\n",
              "    }\n",
              "\n",
              "    .dataframe thead th {\n",
              "        text-align: right;\n",
              "    }\n",
              "</style>\n",
              "<table border=\"1\" class=\"dataframe\">\n",
              "  <thead>\n",
              "    <tr style=\"text-align: right;\">\n",
              "      <th></th>\n",
              "      <th>RMSE</th>\n",
              "      <th>Layers</th>\n",
              "      <th>Neurons</th>\n",
              "      <th>Activation</th>\n",
              "      <th>Optimizer</th>\n",
              "      <th>Train-Val Split</th>\n",
              "      <th>Viscosity</th>\n",
              "      <th>Iterations</th>\n",
              "    </tr>\n",
              "  </thead>\n",
              "  <tbody>\n",
              "    <tr>\n",
              "      <th>0</th>\n",
              "      <td>0.000029</td>\n",
              "      <td>6</td>\n",
              "      <td>20</td>\n",
              "      <td>Tanh</td>\n",
              "      <td>SGD</td>\n",
              "      <td>0.8</td>\n",
              "      <td>-0.999419</td>\n",
              "      <td>6137</td>\n",
              "    </tr>\n",
              "    <tr>\n",
              "      <th>1</th>\n",
              "      <td>0.000031</td>\n",
              "      <td>12</td>\n",
              "      <td>11</td>\n",
              "      <td>Tanh</td>\n",
              "      <td>AdamW</td>\n",
              "      <td>0.8</td>\n",
              "      <td>-0.950881</td>\n",
              "      <td>7797</td>\n",
              "    </tr>\n",
              "    <tr>\n",
              "      <th>2</th>\n",
              "      <td>0.000035</td>\n",
              "      <td>6</td>\n",
              "      <td>21</td>\n",
              "      <td>Tanh</td>\n",
              "      <td>SGD</td>\n",
              "      <td>0.9</td>\n",
              "      <td>-0.985325</td>\n",
              "      <td>8448</td>\n",
              "    </tr>\n",
              "    <tr>\n",
              "      <th>3</th>\n",
              "      <td>0.000036</td>\n",
              "      <td>12</td>\n",
              "      <td>21</td>\n",
              "      <td>Tanh</td>\n",
              "      <td>SGD</td>\n",
              "      <td>0.9</td>\n",
              "      <td>-0.560394</td>\n",
              "      <td>8575</td>\n",
              "    </tr>\n",
              "    <tr>\n",
              "      <th>4</th>\n",
              "      <td>0.000037</td>\n",
              "      <td>7</td>\n",
              "      <td>28</td>\n",
              "      <td>Tanh</td>\n",
              "      <td>SGD</td>\n",
              "      <td>0.9</td>\n",
              "      <td>-0.891294</td>\n",
              "      <td>8212</td>\n",
              "    </tr>\n",
              "    <tr>\n",
              "      <th>5</th>\n",
              "      <td>0.000037</td>\n",
              "      <td>8</td>\n",
              "      <td>22</td>\n",
              "      <td>Tanh</td>\n",
              "      <td>SGD</td>\n",
              "      <td>0.8</td>\n",
              "      <td>-0.970194</td>\n",
              "      <td>6868</td>\n",
              "    </tr>\n",
              "    <tr>\n",
              "      <th>6</th>\n",
              "      <td>0.000038</td>\n",
              "      <td>5</td>\n",
              "      <td>19</td>\n",
              "      <td>Tanh</td>\n",
              "      <td>SGD</td>\n",
              "      <td>0.8</td>\n",
              "      <td>-0.937695</td>\n",
              "      <td>6825</td>\n",
              "    </tr>\n",
              "    <tr>\n",
              "      <th>7</th>\n",
              "      <td>0.000039</td>\n",
              "      <td>5</td>\n",
              "      <td>19</td>\n",
              "      <td>Tanh</td>\n",
              "      <td>SGD</td>\n",
              "      <td>0.8</td>\n",
              "      <td>-0.959580</td>\n",
              "      <td>6818</td>\n",
              "    </tr>\n",
              "    <tr>\n",
              "      <th>8</th>\n",
              "      <td>0.000042</td>\n",
              "      <td>15</td>\n",
              "      <td>30</td>\n",
              "      <td>Tanh</td>\n",
              "      <td>RMSprop</td>\n",
              "      <td>0.8</td>\n",
              "      <td>0.760450</td>\n",
              "      <td>7189</td>\n",
              "    </tr>\n",
              "    <tr>\n",
              "      <th>9</th>\n",
              "      <td>0.000043</td>\n",
              "      <td>14</td>\n",
              "      <td>16</td>\n",
              "      <td>Tanh</td>\n",
              "      <td>Adam</td>\n",
              "      <td>0.8</td>\n",
              "      <td>0.131095</td>\n",
              "      <td>9938</td>\n",
              "    </tr>\n",
              "  </tbody>\n",
              "</table>\n",
              "</div>\n",
              "    <div class=\"colab-df-buttons\">\n",
              "\n",
              "  <div class=\"colab-df-container\">\n",
              "    <button class=\"colab-df-convert\" onclick=\"convertToInteractive('df-9bc7792e-c267-4374-ae4a-7a238b221b6e')\"\n",
              "            title=\"Convert this dataframe to an interactive table.\"\n",
              "            style=\"display:none;\">\n",
              "\n",
              "  <svg xmlns=\"http://www.w3.org/2000/svg\" height=\"24px\" viewBox=\"0 -960 960 960\">\n",
              "    <path d=\"M120-120v-720h720v720H120Zm60-500h600v-160H180v160Zm220 220h160v-160H400v160Zm0 220h160v-160H400v160ZM180-400h160v-160H180v160Zm440 0h160v-160H620v160ZM180-180h160v-160H180v160Zm440 0h160v-160H620v160Z\"/>\n",
              "  </svg>\n",
              "    </button>\n",
              "\n",
              "  <style>\n",
              "    .colab-df-container {\n",
              "      display:flex;\n",
              "      gap: 12px;\n",
              "    }\n",
              "\n",
              "    .colab-df-convert {\n",
              "      background-color: #E8F0FE;\n",
              "      border: none;\n",
              "      border-radius: 50%;\n",
              "      cursor: pointer;\n",
              "      display: none;\n",
              "      fill: #1967D2;\n",
              "      height: 32px;\n",
              "      padding: 0 0 0 0;\n",
              "      width: 32px;\n",
              "    }\n",
              "\n",
              "    .colab-df-convert:hover {\n",
              "      background-color: #E2EBFA;\n",
              "      box-shadow: 0px 1px 2px rgba(60, 64, 67, 0.3), 0px 1px 3px 1px rgba(60, 64, 67, 0.15);\n",
              "      fill: #174EA6;\n",
              "    }\n",
              "\n",
              "    .colab-df-buttons div {\n",
              "      margin-bottom: 4px;\n",
              "    }\n",
              "\n",
              "    [theme=dark] .colab-df-convert {\n",
              "      background-color: #3B4455;\n",
              "      fill: #D2E3FC;\n",
              "    }\n",
              "\n",
              "    [theme=dark] .colab-df-convert:hover {\n",
              "      background-color: #434B5C;\n",
              "      box-shadow: 0px 1px 3px 1px rgba(0, 0, 0, 0.15);\n",
              "      filter: drop-shadow(0px 1px 2px rgba(0, 0, 0, 0.3));\n",
              "      fill: #FFFFFF;\n",
              "    }\n",
              "  </style>\n",
              "\n",
              "    <script>\n",
              "      const buttonEl =\n",
              "        document.querySelector('#df-9bc7792e-c267-4374-ae4a-7a238b221b6e button.colab-df-convert');\n",
              "      buttonEl.style.display =\n",
              "        google.colab.kernel.accessAllowed ? 'block' : 'none';\n",
              "\n",
              "      async function convertToInteractive(key) {\n",
              "        const element = document.querySelector('#df-9bc7792e-c267-4374-ae4a-7a238b221b6e');\n",
              "        const dataTable =\n",
              "          await google.colab.kernel.invokeFunction('convertToInteractive',\n",
              "                                                    [key], {});\n",
              "        if (!dataTable) return;\n",
              "\n",
              "        const docLinkHtml = 'Like what you see? Visit the ' +\n",
              "          '<a target=\"_blank\" href=https://colab.research.google.com/notebooks/data_table.ipynb>data table notebook</a>'\n",
              "          + ' to learn more about interactive tables.';\n",
              "        element.innerHTML = '';\n",
              "        dataTable['output_type'] = 'display_data';\n",
              "        await google.colab.output.renderOutput(dataTable, element);\n",
              "        const docLink = document.createElement('div');\n",
              "        docLink.innerHTML = docLinkHtml;\n",
              "        element.appendChild(docLink);\n",
              "      }\n",
              "    </script>\n",
              "  </div>\n",
              "\n",
              "\n",
              "<div id=\"df-775e7de8-2b99-4a8f-b4ed-98fdfb7a302f\">\n",
              "  <button class=\"colab-df-quickchart\" onclick=\"quickchart('df-775e7de8-2b99-4a8f-b4ed-98fdfb7a302f')\"\n",
              "            title=\"Suggest charts\"\n",
              "            style=\"display:none;\">\n",
              "\n",
              "<svg xmlns=\"http://www.w3.org/2000/svg\" height=\"24px\"viewBox=\"0 0 24 24\"\n",
              "     width=\"24px\">\n",
              "    <g>\n",
              "        <path d=\"M19 3H5c-1.1 0-2 .9-2 2v14c0 1.1.9 2 2 2h14c1.1 0 2-.9 2-2V5c0-1.1-.9-2-2-2zM9 17H7v-7h2v7zm4 0h-2V7h2v10zm4 0h-2v-4h2v4z\"/>\n",
              "    </g>\n",
              "</svg>\n",
              "  </button>\n",
              "\n",
              "<style>\n",
              "  .colab-df-quickchart {\n",
              "      --bg-color: #E8F0FE;\n",
              "      --fill-color: #1967D2;\n",
              "      --hover-bg-color: #E2EBFA;\n",
              "      --hover-fill-color: #174EA6;\n",
              "      --disabled-fill-color: #AAA;\n",
              "      --disabled-bg-color: #DDD;\n",
              "  }\n",
              "\n",
              "  [theme=dark] .colab-df-quickchart {\n",
              "      --bg-color: #3B4455;\n",
              "      --fill-color: #D2E3FC;\n",
              "      --hover-bg-color: #434B5C;\n",
              "      --hover-fill-color: #FFFFFF;\n",
              "      --disabled-bg-color: #3B4455;\n",
              "      --disabled-fill-color: #666;\n",
              "  }\n",
              "\n",
              "  .colab-df-quickchart {\n",
              "    background-color: var(--bg-color);\n",
              "    border: none;\n",
              "    border-radius: 50%;\n",
              "    cursor: pointer;\n",
              "    display: none;\n",
              "    fill: var(--fill-color);\n",
              "    height: 32px;\n",
              "    padding: 0;\n",
              "    width: 32px;\n",
              "  }\n",
              "\n",
              "  .colab-df-quickchart:hover {\n",
              "    background-color: var(--hover-bg-color);\n",
              "    box-shadow: 0 1px 2px rgba(60, 64, 67, 0.3), 0 1px 3px 1px rgba(60, 64, 67, 0.15);\n",
              "    fill: var(--button-hover-fill-color);\n",
              "  }\n",
              "\n",
              "  .colab-df-quickchart-complete:disabled,\n",
              "  .colab-df-quickchart-complete:disabled:hover {\n",
              "    background-color: var(--disabled-bg-color);\n",
              "    fill: var(--disabled-fill-color);\n",
              "    box-shadow: none;\n",
              "  }\n",
              "\n",
              "  .colab-df-spinner {\n",
              "    border: 2px solid var(--fill-color);\n",
              "    border-color: transparent;\n",
              "    border-bottom-color: var(--fill-color);\n",
              "    animation:\n",
              "      spin 1s steps(1) infinite;\n",
              "  }\n",
              "\n",
              "  @keyframes spin {\n",
              "    0% {\n",
              "      border-color: transparent;\n",
              "      border-bottom-color: var(--fill-color);\n",
              "      border-left-color: var(--fill-color);\n",
              "    }\n",
              "    20% {\n",
              "      border-color: transparent;\n",
              "      border-left-color: var(--fill-color);\n",
              "      border-top-color: var(--fill-color);\n",
              "    }\n",
              "    30% {\n",
              "      border-color: transparent;\n",
              "      border-left-color: var(--fill-color);\n",
              "      border-top-color: var(--fill-color);\n",
              "      border-right-color: var(--fill-color);\n",
              "    }\n",
              "    40% {\n",
              "      border-color: transparent;\n",
              "      border-right-color: var(--fill-color);\n",
              "      border-top-color: var(--fill-color);\n",
              "    }\n",
              "    60% {\n",
              "      border-color: transparent;\n",
              "      border-right-color: var(--fill-color);\n",
              "    }\n",
              "    80% {\n",
              "      border-color: transparent;\n",
              "      border-right-color: var(--fill-color);\n",
              "      border-bottom-color: var(--fill-color);\n",
              "    }\n",
              "    90% {\n",
              "      border-color: transparent;\n",
              "      border-bottom-color: var(--fill-color);\n",
              "    }\n",
              "  }\n",
              "</style>\n",
              "\n",
              "  <script>\n",
              "    async function quickchart(key) {\n",
              "      const quickchartButtonEl =\n",
              "        document.querySelector('#' + key + ' button');\n",
              "      quickchartButtonEl.disabled = true;  // To prevent multiple clicks.\n",
              "      quickchartButtonEl.classList.add('colab-df-spinner');\n",
              "      try {\n",
              "        const charts = await google.colab.kernel.invokeFunction(\n",
              "            'suggestCharts', [key], {});\n",
              "      } catch (error) {\n",
              "        console.error('Error during call to suggestCharts:', error);\n",
              "      }\n",
              "      quickchartButtonEl.classList.remove('colab-df-spinner');\n",
              "      quickchartButtonEl.classList.add('colab-df-quickchart-complete');\n",
              "    }\n",
              "    (() => {\n",
              "      let quickchartButtonEl =\n",
              "        document.querySelector('#df-775e7de8-2b99-4a8f-b4ed-98fdfb7a302f button');\n",
              "      quickchartButtonEl.style.display =\n",
              "        google.colab.kernel.accessAllowed ? 'block' : 'none';\n",
              "    })();\n",
              "  </script>\n",
              "</div>\n",
              "\n",
              "  <div id=\"id_168b9f5a-cb97-4a28-9b54-2ac5a102740f\">\n",
              "    <style>\n",
              "      .colab-df-generate {\n",
              "        background-color: #E8F0FE;\n",
              "        border: none;\n",
              "        border-radius: 50%;\n",
              "        cursor: pointer;\n",
              "        display: none;\n",
              "        fill: #1967D2;\n",
              "        height: 32px;\n",
              "        padding: 0 0 0 0;\n",
              "        width: 32px;\n",
              "      }\n",
              "\n",
              "      .colab-df-generate:hover {\n",
              "        background-color: #E2EBFA;\n",
              "        box-shadow: 0px 1px 2px rgba(60, 64, 67, 0.3), 0px 1px 3px 1px rgba(60, 64, 67, 0.15);\n",
              "        fill: #174EA6;\n",
              "      }\n",
              "\n",
              "      [theme=dark] .colab-df-generate {\n",
              "        background-color: #3B4455;\n",
              "        fill: #D2E3FC;\n",
              "      }\n",
              "\n",
              "      [theme=dark] .colab-df-generate:hover {\n",
              "        background-color: #434B5C;\n",
              "        box-shadow: 0px 1px 3px 1px rgba(0, 0, 0, 0.15);\n",
              "        filter: drop-shadow(0px 1px 2px rgba(0, 0, 0, 0.3));\n",
              "        fill: #FFFFFF;\n",
              "      }\n",
              "    </style>\n",
              "    <button class=\"colab-df-generate\" onclick=\"generateWithVariable('df_top')\"\n",
              "            title=\"Generate code using this dataframe.\"\n",
              "            style=\"display:none;\">\n",
              "\n",
              "  <svg xmlns=\"http://www.w3.org/2000/svg\" height=\"24px\"viewBox=\"0 0 24 24\"\n",
              "       width=\"24px\">\n",
              "    <path d=\"M7,19H8.4L18.45,9,17,7.55,7,17.6ZM5,21V16.75L18.45,3.32a2,2,0,0,1,2.83,0l1.4,1.43a1.91,1.91,0,0,1,.58,1.4,1.91,1.91,0,0,1-.58,1.4L9.25,21ZM18.45,9,17,7.55Zm-12,3A5.31,5.31,0,0,0,4.9,8.1,5.31,5.31,0,0,0,1,6.5,5.31,5.31,0,0,0,4.9,4.9,5.31,5.31,0,0,0,6.5,1,5.31,5.31,0,0,0,8.1,4.9,5.31,5.31,0,0,0,12,6.5,5.46,5.46,0,0,0,6.5,12Z\"/>\n",
              "  </svg>\n",
              "    </button>\n",
              "    <script>\n",
              "      (() => {\n",
              "      const buttonEl =\n",
              "        document.querySelector('#id_168b9f5a-cb97-4a28-9b54-2ac5a102740f button.colab-df-generate');\n",
              "      buttonEl.style.display =\n",
              "        google.colab.kernel.accessAllowed ? 'block' : 'none';\n",
              "\n",
              "      buttonEl.onclick = () => {\n",
              "        google.colab.notebook.generateWithVariable('df_top');\n",
              "      }\n",
              "      })();\n",
              "    </script>\n",
              "  </div>\n",
              "\n",
              "    </div>\n",
              "  </div>\n"
            ],
            "application/vnd.google.colaboratory.intrinsic+json": {
              "type": "dataframe",
              "variable_name": "df_top",
              "summary": "{\n  \"name\": \"df_top\",\n  \"rows\": 10,\n  \"fields\": [\n    {\n      \"column\": \"RMSE\",\n      \"properties\": {\n        \"dtype\": \"number\",\n        \"std\": 4.26374938649646e-06,\n        \"min\": 2.9197184034507267e-05,\n        \"max\": 4.304516348412634e-05,\n        \"num_unique_values\": 10,\n        \"samples\": [\n          4.197951287102239e-05,\n          3.1152055914757554e-05,\n          3.7268522427796115e-05\n        ],\n        \"semantic_type\": \"\",\n        \"description\": \"\"\n      }\n    },\n    {\n      \"column\": \"Layers\",\n      \"properties\": {\n        \"dtype\": \"number\",\n        \"std\": 3,\n        \"min\": 5,\n        \"max\": 15,\n        \"num_unique_values\": 7,\n        \"samples\": [\n          6,\n          12,\n          15\n        ],\n        \"semantic_type\": \"\",\n        \"description\": \"\"\n      }\n    },\n    {\n      \"column\": \"Neurons\",\n      \"properties\": {\n        \"dtype\": \"number\",\n        \"std\": 5,\n        \"min\": 11,\n        \"max\": 30,\n        \"num_unique_values\": 8,\n        \"samples\": [\n          11,\n          19,\n          20\n        ],\n        \"semantic_type\": \"\",\n        \"description\": \"\"\n      }\n    },\n    {\n      \"column\": \"Activation\",\n      \"properties\": {\n        \"dtype\": \"category\",\n        \"num_unique_values\": 1,\n        \"samples\": [\n          \"Tanh\"\n        ],\n        \"semantic_type\": \"\",\n        \"description\": \"\"\n      }\n    },\n    {\n      \"column\": \"Optimizer\",\n      \"properties\": {\n        \"dtype\": \"category\",\n        \"num_unique_values\": 4,\n        \"samples\": [\n          \"AdamW\"\n        ],\n        \"semantic_type\": \"\",\n        \"description\": \"\"\n      }\n    },\n    {\n      \"column\": \"Train-Val Split\",\n      \"properties\": {\n        \"dtype\": \"number\",\n        \"std\": 0.04830458915396478,\n        \"min\": 0.8,\n        \"max\": 0.9,\n        \"num_unique_values\": 2,\n        \"samples\": [\n          0.9\n        ],\n        \"semantic_type\": \"\",\n        \"description\": \"\"\n      }\n    },\n    {\n      \"column\": \"Viscosity\",\n      \"properties\": {\n        \"dtype\": \"number\",\n        \"std\": 0.602776867007551,\n        \"min\": -0.99941927873629,\n        \"max\": 0.7604500603541968,\n        \"num_unique_values\": 10,\n        \"samples\": [\n          0.7604500603541968\n        ],\n        \"semantic_type\": \"\",\n        \"description\": \"\"\n      }\n    },\n    {\n      \"column\": \"Iterations\",\n      \"properties\": {\n        \"dtype\": \"number\",\n        \"std\": 1132,\n        \"min\": 6137,\n        \"max\": 9938,\n        \"num_unique_values\": 10,\n        \"samples\": [\n          7189\n        ],\n        \"semantic_type\": \"\",\n        \"description\": \"\"\n      }\n    }\n  ]\n}"
            }
          },
          "metadata": {}
        },
        {
          "output_type": "stream",
          "name": "stdout",
          "text": [
            "Top 10 hyperparameter sets found!\n"
          ]
        }
      ]
    },
    {
      "cell_type": "code",
      "source": [
        "import pandas as pd\n",
        "from IPython.display import display\n",
        "\n",
        "#top 10 sets with the lowest rmse / the [:50] prints all the results\n",
        "top_trials = sorted(study.trials, key=lambda t: t.value)[:50]\n",
        "top_results = []\n",
        "for trial in top_trials:\n",
        "    top_results.append({\n",
        "        \"RMSE\": trial.value,\n",
        "        \"Layers\": trial.params[\"layers\"],\n",
        "        \"Neurons\": trial.params[\"neurons\"],\n",
        "        \"Activation\": trial.params[\"activation\"],\n",
        "        \"Optimizer\": trial.params[\"optimizer\"],\n",
        "        \"Train-Val Split\": trial.params[\"train_val_split\"],\n",
        "        \"Viscosity\": trial.params[\"viscosity\"],\n",
        "        \"Iterations\": trial.params[\"iterations\"]\n",
        "    })\n",
        "\n",
        "df_top = pd.DataFrame(top_results)\n",
        "display(df_top)\n",
        "df_top.to_csv(\"top_hyperparameters.csv\", index=False)\n",
        "print(\"Top hyperparameter sets saved as 'top_hyperparameters.csv'.\")\n"
      ],
      "metadata": {
        "colab": {
          "base_uri": "https://localhost:8080/",
          "height": 1000
        },
        "id": "z1n83mdnQQzg",
        "outputId": "7f6401f5-3b8b-4ff8-bbeb-c77e2ba98207"
      },
      "execution_count": 11,
      "outputs": [
        {
          "output_type": "display_data",
          "data": {
            "text/plain": [
              "        RMSE  Layers  Neurons Activation Optimizer  Train-Val Split  \\\n",
              "0   0.000029       6       20       Tanh       SGD              0.8   \n",
              "1   0.000031      12       11       Tanh     AdamW              0.8   \n",
              "2   0.000035       6       21       Tanh       SGD              0.9   \n",
              "3   0.000036      12       21       Tanh       SGD              0.9   \n",
              "4   0.000037       7       28       Tanh       SGD              0.9   \n",
              "5   0.000037       8       22       Tanh       SGD              0.8   \n",
              "6   0.000038       5       19       Tanh       SGD              0.8   \n",
              "7   0.000039       5       19       Tanh       SGD              0.8   \n",
              "8   0.000042      15       30       Tanh   RMSprop              0.8   \n",
              "9   0.000043      14       16       Tanh      Adam              0.8   \n",
              "10  0.000044       8       21       Tanh       SGD              0.8   \n",
              "11  0.000048       7        9       Tanh       SGD              0.7   \n",
              "12  0.000050       9       18       Tanh       SGD              0.8   \n",
              "13  0.000051       8       23       Tanh      Adam              0.8   \n",
              "14  0.000052      11       13       Tanh   Adagrad              0.8   \n",
              "15  0.000054       6       12       Tanh     LBFGS              0.8   \n",
              "16  0.000055      12       23       Tanh      Adam              0.8   \n",
              "17  0.000069      18       25       Tanh   Adagrad              0.9   \n",
              "18  0.000071      21       29       Tanh       SGD              0.8   \n",
              "19  0.000071       5       19       Tanh       SGD              0.8   \n",
              "20  0.000074       6       16       Tanh      Adam              0.8   \n",
              "21  0.000075       4       22       Tanh       SGD              0.8   \n",
              "22  0.000105      17       16       Tanh      Adam              0.8   \n",
              "23  0.000175      15       15       Tanh       SGD              0.8   \n",
              "24  0.000494       3       27       Tanh   RMSprop              0.6   \n",
              "25  0.002420      27       21       Tanh      Adam              0.9   \n",
              "26  0.003979      24       10       Tanh     LBFGS              0.7   \n",
              "27  0.004338      36       19       Tanh      Adam              0.9   \n",
              "28  0.005852       3        7       Tanh       SGD              0.8   \n",
              "29  0.006074      33       32       Tanh      Adam              0.8   \n",
              "30  0.010798      20       11       Tanh   RMSprop              0.8   \n",
              "31  0.112649      10       24    Sigmoid       SGD              0.9   \n",
              "32  0.133300       9       30  LeakyReLU   RMSprop              0.8   \n",
              "33  0.138290      10       26       ReLU     AdamW              0.8   \n",
              "34  0.138410      16        9       ReLU     AdamW              0.6   \n",
              "35  0.139333       7       40  LeakyReLU     AdamW              0.7   \n",
              "36  0.139725      12       21  LeakyReLU       SGD              0.9   \n",
              "37  0.141174      22       19       ReLU     LBFGS              0.7   \n",
              "38  0.157485      30        6  LeakyReLU     AdamW              0.8   \n",
              "39  0.159109       3        5       ReLU      Adam              0.8   \n",
              "40  0.377464      13       14    Sigmoid     AdamW              0.7   \n",
              "41  0.377464      40       18  LeakyReLU       SGD              0.6   \n",
              "42  0.377464      49       45       Tanh   Adagrad              0.9   \n",
              "43  0.377464      46       50       ReLU     AdamW              0.9   \n",
              "44  0.377464      50       25       Tanh   Adagrad              0.9   \n",
              "45  0.377464      25       49    Sigmoid      Adam              0.8   \n",
              "46  0.377464      19       34    Sigmoid   RMSprop              0.8   \n",
              "47  0.377464      50       21       ReLU       SGD              0.7   \n",
              "48  0.377464      44       43  LeakyReLU     LBFGS              0.6   \n",
              "49  0.377464      14       37    Sigmoid   RMSprop              0.6   \n",
              "\n",
              "    Viscosity  Iterations  \n",
              "0   -0.999419        6137  \n",
              "1   -0.950881        7797  \n",
              "2   -0.985325        8448  \n",
              "3   -0.560394        8575  \n",
              "4   -0.891294        8212  \n",
              "5   -0.970194        6868  \n",
              "6   -0.937695        6825  \n",
              "7   -0.959580        6818  \n",
              "8    0.760450        7189  \n",
              "9    0.131095        9938  \n",
              "10  -0.904576        5584  \n",
              "11  -0.807950        5970  \n",
              "12  -0.882074        6236  \n",
              "13  -0.064357        6408  \n",
              "14  -0.484463        5258  \n",
              "15  -0.715125        7587  \n",
              "16  -0.611229        9898  \n",
              "17  -0.570718        8456  \n",
              "18  -0.280873        9997  \n",
              "19  -0.970009        6820  \n",
              "20   0.133559        8263  \n",
              "21  -0.827350        6056  \n",
              "22   0.245080        7243  \n",
              "23   0.283168        7373  \n",
              "24   0.780498        4627  \n",
              "25  -0.020237        2309  \n",
              "26  -0.690168        4177  \n",
              "27  -0.474688        1054  \n",
              "28  -0.729704        6839  \n",
              "29   0.350900        2962  \n",
              "30   0.193343        6476  \n",
              "31  -0.828528        3560  \n",
              "32   0.951318        5160  \n",
              "33  -0.375602        6571  \n",
              "34   0.702622        8942  \n",
              "35   0.489520        9383  \n",
              "36  -0.756552        8705  \n",
              "37  -0.187862        7776  \n",
              "38  -0.978614        7928  \n",
              "39   0.982000        1767  \n",
              "40   0.520368        9062  \n",
              "41  -0.670539        4685  \n",
              "42  -0.288793        8507  \n",
              "43  -0.603520        9304  \n",
              "44  -0.013065        9034  \n",
              "45  -0.100388        7148  \n",
              "46   0.724047        7977  \n",
              "47  -0.020021        5920  \n",
              "48  -0.815990        3941  \n",
              "49   0.549491        5770  "
            ],
            "text/html": [
              "\n",
              "  <div id=\"df-6e5661a8-b31d-45c0-a845-ad62d19fccae\" class=\"colab-df-container\">\n",
              "    <div>\n",
              "<style scoped>\n",
              "    .dataframe tbody tr th:only-of-type {\n",
              "        vertical-align: middle;\n",
              "    }\n",
              "\n",
              "    .dataframe tbody tr th {\n",
              "        vertical-align: top;\n",
              "    }\n",
              "\n",
              "    .dataframe thead th {\n",
              "        text-align: right;\n",
              "    }\n",
              "</style>\n",
              "<table border=\"1\" class=\"dataframe\">\n",
              "  <thead>\n",
              "    <tr style=\"text-align: right;\">\n",
              "      <th></th>\n",
              "      <th>RMSE</th>\n",
              "      <th>Layers</th>\n",
              "      <th>Neurons</th>\n",
              "      <th>Activation</th>\n",
              "      <th>Optimizer</th>\n",
              "      <th>Train-Val Split</th>\n",
              "      <th>Viscosity</th>\n",
              "      <th>Iterations</th>\n",
              "    </tr>\n",
              "  </thead>\n",
              "  <tbody>\n",
              "    <tr>\n",
              "      <th>0</th>\n",
              "      <td>0.000029</td>\n",
              "      <td>6</td>\n",
              "      <td>20</td>\n",
              "      <td>Tanh</td>\n",
              "      <td>SGD</td>\n",
              "      <td>0.8</td>\n",
              "      <td>-0.999419</td>\n",
              "      <td>6137</td>\n",
              "    </tr>\n",
              "    <tr>\n",
              "      <th>1</th>\n",
              "      <td>0.000031</td>\n",
              "      <td>12</td>\n",
              "      <td>11</td>\n",
              "      <td>Tanh</td>\n",
              "      <td>AdamW</td>\n",
              "      <td>0.8</td>\n",
              "      <td>-0.950881</td>\n",
              "      <td>7797</td>\n",
              "    </tr>\n",
              "    <tr>\n",
              "      <th>2</th>\n",
              "      <td>0.000035</td>\n",
              "      <td>6</td>\n",
              "      <td>21</td>\n",
              "      <td>Tanh</td>\n",
              "      <td>SGD</td>\n",
              "      <td>0.9</td>\n",
              "      <td>-0.985325</td>\n",
              "      <td>8448</td>\n",
              "    </tr>\n",
              "    <tr>\n",
              "      <th>3</th>\n",
              "      <td>0.000036</td>\n",
              "      <td>12</td>\n",
              "      <td>21</td>\n",
              "      <td>Tanh</td>\n",
              "      <td>SGD</td>\n",
              "      <td>0.9</td>\n",
              "      <td>-0.560394</td>\n",
              "      <td>8575</td>\n",
              "    </tr>\n",
              "    <tr>\n",
              "      <th>4</th>\n",
              "      <td>0.000037</td>\n",
              "      <td>7</td>\n",
              "      <td>28</td>\n",
              "      <td>Tanh</td>\n",
              "      <td>SGD</td>\n",
              "      <td>0.9</td>\n",
              "      <td>-0.891294</td>\n",
              "      <td>8212</td>\n",
              "    </tr>\n",
              "    <tr>\n",
              "      <th>5</th>\n",
              "      <td>0.000037</td>\n",
              "      <td>8</td>\n",
              "      <td>22</td>\n",
              "      <td>Tanh</td>\n",
              "      <td>SGD</td>\n",
              "      <td>0.8</td>\n",
              "      <td>-0.970194</td>\n",
              "      <td>6868</td>\n",
              "    </tr>\n",
              "    <tr>\n",
              "      <th>6</th>\n",
              "      <td>0.000038</td>\n",
              "      <td>5</td>\n",
              "      <td>19</td>\n",
              "      <td>Tanh</td>\n",
              "      <td>SGD</td>\n",
              "      <td>0.8</td>\n",
              "      <td>-0.937695</td>\n",
              "      <td>6825</td>\n",
              "    </tr>\n",
              "    <tr>\n",
              "      <th>7</th>\n",
              "      <td>0.000039</td>\n",
              "      <td>5</td>\n",
              "      <td>19</td>\n",
              "      <td>Tanh</td>\n",
              "      <td>SGD</td>\n",
              "      <td>0.8</td>\n",
              "      <td>-0.959580</td>\n",
              "      <td>6818</td>\n",
              "    </tr>\n",
              "    <tr>\n",
              "      <th>8</th>\n",
              "      <td>0.000042</td>\n",
              "      <td>15</td>\n",
              "      <td>30</td>\n",
              "      <td>Tanh</td>\n",
              "      <td>RMSprop</td>\n",
              "      <td>0.8</td>\n",
              "      <td>0.760450</td>\n",
              "      <td>7189</td>\n",
              "    </tr>\n",
              "    <tr>\n",
              "      <th>9</th>\n",
              "      <td>0.000043</td>\n",
              "      <td>14</td>\n",
              "      <td>16</td>\n",
              "      <td>Tanh</td>\n",
              "      <td>Adam</td>\n",
              "      <td>0.8</td>\n",
              "      <td>0.131095</td>\n",
              "      <td>9938</td>\n",
              "    </tr>\n",
              "    <tr>\n",
              "      <th>10</th>\n",
              "      <td>0.000044</td>\n",
              "      <td>8</td>\n",
              "      <td>21</td>\n",
              "      <td>Tanh</td>\n",
              "      <td>SGD</td>\n",
              "      <td>0.8</td>\n",
              "      <td>-0.904576</td>\n",
              "      <td>5584</td>\n",
              "    </tr>\n",
              "    <tr>\n",
              "      <th>11</th>\n",
              "      <td>0.000048</td>\n",
              "      <td>7</td>\n",
              "      <td>9</td>\n",
              "      <td>Tanh</td>\n",
              "      <td>SGD</td>\n",
              "      <td>0.7</td>\n",
              "      <td>-0.807950</td>\n",
              "      <td>5970</td>\n",
              "    </tr>\n",
              "    <tr>\n",
              "      <th>12</th>\n",
              "      <td>0.000050</td>\n",
              "      <td>9</td>\n",
              "      <td>18</td>\n",
              "      <td>Tanh</td>\n",
              "      <td>SGD</td>\n",
              "      <td>0.8</td>\n",
              "      <td>-0.882074</td>\n",
              "      <td>6236</td>\n",
              "    </tr>\n",
              "    <tr>\n",
              "      <th>13</th>\n",
              "      <td>0.000051</td>\n",
              "      <td>8</td>\n",
              "      <td>23</td>\n",
              "      <td>Tanh</td>\n",
              "      <td>Adam</td>\n",
              "      <td>0.8</td>\n",
              "      <td>-0.064357</td>\n",
              "      <td>6408</td>\n",
              "    </tr>\n",
              "    <tr>\n",
              "      <th>14</th>\n",
              "      <td>0.000052</td>\n",
              "      <td>11</td>\n",
              "      <td>13</td>\n",
              "      <td>Tanh</td>\n",
              "      <td>Adagrad</td>\n",
              "      <td>0.8</td>\n",
              "      <td>-0.484463</td>\n",
              "      <td>5258</td>\n",
              "    </tr>\n",
              "    <tr>\n",
              "      <th>15</th>\n",
              "      <td>0.000054</td>\n",
              "      <td>6</td>\n",
              "      <td>12</td>\n",
              "      <td>Tanh</td>\n",
              "      <td>LBFGS</td>\n",
              "      <td>0.8</td>\n",
              "      <td>-0.715125</td>\n",
              "      <td>7587</td>\n",
              "    </tr>\n",
              "    <tr>\n",
              "      <th>16</th>\n",
              "      <td>0.000055</td>\n",
              "      <td>12</td>\n",
              "      <td>23</td>\n",
              "      <td>Tanh</td>\n",
              "      <td>Adam</td>\n",
              "      <td>0.8</td>\n",
              "      <td>-0.611229</td>\n",
              "      <td>9898</td>\n",
              "    </tr>\n",
              "    <tr>\n",
              "      <th>17</th>\n",
              "      <td>0.000069</td>\n",
              "      <td>18</td>\n",
              "      <td>25</td>\n",
              "      <td>Tanh</td>\n",
              "      <td>Adagrad</td>\n",
              "      <td>0.9</td>\n",
              "      <td>-0.570718</td>\n",
              "      <td>8456</td>\n",
              "    </tr>\n",
              "    <tr>\n",
              "      <th>18</th>\n",
              "      <td>0.000071</td>\n",
              "      <td>21</td>\n",
              "      <td>29</td>\n",
              "      <td>Tanh</td>\n",
              "      <td>SGD</td>\n",
              "      <td>0.8</td>\n",
              "      <td>-0.280873</td>\n",
              "      <td>9997</td>\n",
              "    </tr>\n",
              "    <tr>\n",
              "      <th>19</th>\n",
              "      <td>0.000071</td>\n",
              "      <td>5</td>\n",
              "      <td>19</td>\n",
              "      <td>Tanh</td>\n",
              "      <td>SGD</td>\n",
              "      <td>0.8</td>\n",
              "      <td>-0.970009</td>\n",
              "      <td>6820</td>\n",
              "    </tr>\n",
              "    <tr>\n",
              "      <th>20</th>\n",
              "      <td>0.000074</td>\n",
              "      <td>6</td>\n",
              "      <td>16</td>\n",
              "      <td>Tanh</td>\n",
              "      <td>Adam</td>\n",
              "      <td>0.8</td>\n",
              "      <td>0.133559</td>\n",
              "      <td>8263</td>\n",
              "    </tr>\n",
              "    <tr>\n",
              "      <th>21</th>\n",
              "      <td>0.000075</td>\n",
              "      <td>4</td>\n",
              "      <td>22</td>\n",
              "      <td>Tanh</td>\n",
              "      <td>SGD</td>\n",
              "      <td>0.8</td>\n",
              "      <td>-0.827350</td>\n",
              "      <td>6056</td>\n",
              "    </tr>\n",
              "    <tr>\n",
              "      <th>22</th>\n",
              "      <td>0.000105</td>\n",
              "      <td>17</td>\n",
              "      <td>16</td>\n",
              "      <td>Tanh</td>\n",
              "      <td>Adam</td>\n",
              "      <td>0.8</td>\n",
              "      <td>0.245080</td>\n",
              "      <td>7243</td>\n",
              "    </tr>\n",
              "    <tr>\n",
              "      <th>23</th>\n",
              "      <td>0.000175</td>\n",
              "      <td>15</td>\n",
              "      <td>15</td>\n",
              "      <td>Tanh</td>\n",
              "      <td>SGD</td>\n",
              "      <td>0.8</td>\n",
              "      <td>0.283168</td>\n",
              "      <td>7373</td>\n",
              "    </tr>\n",
              "    <tr>\n",
              "      <th>24</th>\n",
              "      <td>0.000494</td>\n",
              "      <td>3</td>\n",
              "      <td>27</td>\n",
              "      <td>Tanh</td>\n",
              "      <td>RMSprop</td>\n",
              "      <td>0.6</td>\n",
              "      <td>0.780498</td>\n",
              "      <td>4627</td>\n",
              "    </tr>\n",
              "    <tr>\n",
              "      <th>25</th>\n",
              "      <td>0.002420</td>\n",
              "      <td>27</td>\n",
              "      <td>21</td>\n",
              "      <td>Tanh</td>\n",
              "      <td>Adam</td>\n",
              "      <td>0.9</td>\n",
              "      <td>-0.020237</td>\n",
              "      <td>2309</td>\n",
              "    </tr>\n",
              "    <tr>\n",
              "      <th>26</th>\n",
              "      <td>0.003979</td>\n",
              "      <td>24</td>\n",
              "      <td>10</td>\n",
              "      <td>Tanh</td>\n",
              "      <td>LBFGS</td>\n",
              "      <td>0.7</td>\n",
              "      <td>-0.690168</td>\n",
              "      <td>4177</td>\n",
              "    </tr>\n",
              "    <tr>\n",
              "      <th>27</th>\n",
              "      <td>0.004338</td>\n",
              "      <td>36</td>\n",
              "      <td>19</td>\n",
              "      <td>Tanh</td>\n",
              "      <td>Adam</td>\n",
              "      <td>0.9</td>\n",
              "      <td>-0.474688</td>\n",
              "      <td>1054</td>\n",
              "    </tr>\n",
              "    <tr>\n",
              "      <th>28</th>\n",
              "      <td>0.005852</td>\n",
              "      <td>3</td>\n",
              "      <td>7</td>\n",
              "      <td>Tanh</td>\n",
              "      <td>SGD</td>\n",
              "      <td>0.8</td>\n",
              "      <td>-0.729704</td>\n",
              "      <td>6839</td>\n",
              "    </tr>\n",
              "    <tr>\n",
              "      <th>29</th>\n",
              "      <td>0.006074</td>\n",
              "      <td>33</td>\n",
              "      <td>32</td>\n",
              "      <td>Tanh</td>\n",
              "      <td>Adam</td>\n",
              "      <td>0.8</td>\n",
              "      <td>0.350900</td>\n",
              "      <td>2962</td>\n",
              "    </tr>\n",
              "    <tr>\n",
              "      <th>30</th>\n",
              "      <td>0.010798</td>\n",
              "      <td>20</td>\n",
              "      <td>11</td>\n",
              "      <td>Tanh</td>\n",
              "      <td>RMSprop</td>\n",
              "      <td>0.8</td>\n",
              "      <td>0.193343</td>\n",
              "      <td>6476</td>\n",
              "    </tr>\n",
              "    <tr>\n",
              "      <th>31</th>\n",
              "      <td>0.112649</td>\n",
              "      <td>10</td>\n",
              "      <td>24</td>\n",
              "      <td>Sigmoid</td>\n",
              "      <td>SGD</td>\n",
              "      <td>0.9</td>\n",
              "      <td>-0.828528</td>\n",
              "      <td>3560</td>\n",
              "    </tr>\n",
              "    <tr>\n",
              "      <th>32</th>\n",
              "      <td>0.133300</td>\n",
              "      <td>9</td>\n",
              "      <td>30</td>\n",
              "      <td>LeakyReLU</td>\n",
              "      <td>RMSprop</td>\n",
              "      <td>0.8</td>\n",
              "      <td>0.951318</td>\n",
              "      <td>5160</td>\n",
              "    </tr>\n",
              "    <tr>\n",
              "      <th>33</th>\n",
              "      <td>0.138290</td>\n",
              "      <td>10</td>\n",
              "      <td>26</td>\n",
              "      <td>ReLU</td>\n",
              "      <td>AdamW</td>\n",
              "      <td>0.8</td>\n",
              "      <td>-0.375602</td>\n",
              "      <td>6571</td>\n",
              "    </tr>\n",
              "    <tr>\n",
              "      <th>34</th>\n",
              "      <td>0.138410</td>\n",
              "      <td>16</td>\n",
              "      <td>9</td>\n",
              "      <td>ReLU</td>\n",
              "      <td>AdamW</td>\n",
              "      <td>0.6</td>\n",
              "      <td>0.702622</td>\n",
              "      <td>8942</td>\n",
              "    </tr>\n",
              "    <tr>\n",
              "      <th>35</th>\n",
              "      <td>0.139333</td>\n",
              "      <td>7</td>\n",
              "      <td>40</td>\n",
              "      <td>LeakyReLU</td>\n",
              "      <td>AdamW</td>\n",
              "      <td>0.7</td>\n",
              "      <td>0.489520</td>\n",
              "      <td>9383</td>\n",
              "    </tr>\n",
              "    <tr>\n",
              "      <th>36</th>\n",
              "      <td>0.139725</td>\n",
              "      <td>12</td>\n",
              "      <td>21</td>\n",
              "      <td>LeakyReLU</td>\n",
              "      <td>SGD</td>\n",
              "      <td>0.9</td>\n",
              "      <td>-0.756552</td>\n",
              "      <td>8705</td>\n",
              "    </tr>\n",
              "    <tr>\n",
              "      <th>37</th>\n",
              "      <td>0.141174</td>\n",
              "      <td>22</td>\n",
              "      <td>19</td>\n",
              "      <td>ReLU</td>\n",
              "      <td>LBFGS</td>\n",
              "      <td>0.7</td>\n",
              "      <td>-0.187862</td>\n",
              "      <td>7776</td>\n",
              "    </tr>\n",
              "    <tr>\n",
              "      <th>38</th>\n",
              "      <td>0.157485</td>\n",
              "      <td>30</td>\n",
              "      <td>6</td>\n",
              "      <td>LeakyReLU</td>\n",
              "      <td>AdamW</td>\n",
              "      <td>0.8</td>\n",
              "      <td>-0.978614</td>\n",
              "      <td>7928</td>\n",
              "    </tr>\n",
              "    <tr>\n",
              "      <th>39</th>\n",
              "      <td>0.159109</td>\n",
              "      <td>3</td>\n",
              "      <td>5</td>\n",
              "      <td>ReLU</td>\n",
              "      <td>Adam</td>\n",
              "      <td>0.8</td>\n",
              "      <td>0.982000</td>\n",
              "      <td>1767</td>\n",
              "    </tr>\n",
              "    <tr>\n",
              "      <th>40</th>\n",
              "      <td>0.377464</td>\n",
              "      <td>13</td>\n",
              "      <td>14</td>\n",
              "      <td>Sigmoid</td>\n",
              "      <td>AdamW</td>\n",
              "      <td>0.7</td>\n",
              "      <td>0.520368</td>\n",
              "      <td>9062</td>\n",
              "    </tr>\n",
              "    <tr>\n",
              "      <th>41</th>\n",
              "      <td>0.377464</td>\n",
              "      <td>40</td>\n",
              "      <td>18</td>\n",
              "      <td>LeakyReLU</td>\n",
              "      <td>SGD</td>\n",
              "      <td>0.6</td>\n",
              "      <td>-0.670539</td>\n",
              "      <td>4685</td>\n",
              "    </tr>\n",
              "    <tr>\n",
              "      <th>42</th>\n",
              "      <td>0.377464</td>\n",
              "      <td>49</td>\n",
              "      <td>45</td>\n",
              "      <td>Tanh</td>\n",
              "      <td>Adagrad</td>\n",
              "      <td>0.9</td>\n",
              "      <td>-0.288793</td>\n",
              "      <td>8507</td>\n",
              "    </tr>\n",
              "    <tr>\n",
              "      <th>43</th>\n",
              "      <td>0.377464</td>\n",
              "      <td>46</td>\n",
              "      <td>50</td>\n",
              "      <td>ReLU</td>\n",
              "      <td>AdamW</td>\n",
              "      <td>0.9</td>\n",
              "      <td>-0.603520</td>\n",
              "      <td>9304</td>\n",
              "    </tr>\n",
              "    <tr>\n",
              "      <th>44</th>\n",
              "      <td>0.377464</td>\n",
              "      <td>50</td>\n",
              "      <td>25</td>\n",
              "      <td>Tanh</td>\n",
              "      <td>Adagrad</td>\n",
              "      <td>0.9</td>\n",
              "      <td>-0.013065</td>\n",
              "      <td>9034</td>\n",
              "    </tr>\n",
              "    <tr>\n",
              "      <th>45</th>\n",
              "      <td>0.377464</td>\n",
              "      <td>25</td>\n",
              "      <td>49</td>\n",
              "      <td>Sigmoid</td>\n",
              "      <td>Adam</td>\n",
              "      <td>0.8</td>\n",
              "      <td>-0.100388</td>\n",
              "      <td>7148</td>\n",
              "    </tr>\n",
              "    <tr>\n",
              "      <th>46</th>\n",
              "      <td>0.377464</td>\n",
              "      <td>19</td>\n",
              "      <td>34</td>\n",
              "      <td>Sigmoid</td>\n",
              "      <td>RMSprop</td>\n",
              "      <td>0.8</td>\n",
              "      <td>0.724047</td>\n",
              "      <td>7977</td>\n",
              "    </tr>\n",
              "    <tr>\n",
              "      <th>47</th>\n",
              "      <td>0.377464</td>\n",
              "      <td>50</td>\n",
              "      <td>21</td>\n",
              "      <td>ReLU</td>\n",
              "      <td>SGD</td>\n",
              "      <td>0.7</td>\n",
              "      <td>-0.020021</td>\n",
              "      <td>5920</td>\n",
              "    </tr>\n",
              "    <tr>\n",
              "      <th>48</th>\n",
              "      <td>0.377464</td>\n",
              "      <td>44</td>\n",
              "      <td>43</td>\n",
              "      <td>LeakyReLU</td>\n",
              "      <td>LBFGS</td>\n",
              "      <td>0.6</td>\n",
              "      <td>-0.815990</td>\n",
              "      <td>3941</td>\n",
              "    </tr>\n",
              "    <tr>\n",
              "      <th>49</th>\n",
              "      <td>0.377464</td>\n",
              "      <td>14</td>\n",
              "      <td>37</td>\n",
              "      <td>Sigmoid</td>\n",
              "      <td>RMSprop</td>\n",
              "      <td>0.6</td>\n",
              "      <td>0.549491</td>\n",
              "      <td>5770</td>\n",
              "    </tr>\n",
              "  </tbody>\n",
              "</table>\n",
              "</div>\n",
              "    <div class=\"colab-df-buttons\">\n",
              "\n",
              "  <div class=\"colab-df-container\">\n",
              "    <button class=\"colab-df-convert\" onclick=\"convertToInteractive('df-6e5661a8-b31d-45c0-a845-ad62d19fccae')\"\n",
              "            title=\"Convert this dataframe to an interactive table.\"\n",
              "            style=\"display:none;\">\n",
              "\n",
              "  <svg xmlns=\"http://www.w3.org/2000/svg\" height=\"24px\" viewBox=\"0 -960 960 960\">\n",
              "    <path d=\"M120-120v-720h720v720H120Zm60-500h600v-160H180v160Zm220 220h160v-160H400v160Zm0 220h160v-160H400v160ZM180-400h160v-160H180v160Zm440 0h160v-160H620v160ZM180-180h160v-160H180v160Zm440 0h160v-160H620v160Z\"/>\n",
              "  </svg>\n",
              "    </button>\n",
              "\n",
              "  <style>\n",
              "    .colab-df-container {\n",
              "      display:flex;\n",
              "      gap: 12px;\n",
              "    }\n",
              "\n",
              "    .colab-df-convert {\n",
              "      background-color: #E8F0FE;\n",
              "      border: none;\n",
              "      border-radius: 50%;\n",
              "      cursor: pointer;\n",
              "      display: none;\n",
              "      fill: #1967D2;\n",
              "      height: 32px;\n",
              "      padding: 0 0 0 0;\n",
              "      width: 32px;\n",
              "    }\n",
              "\n",
              "    .colab-df-convert:hover {\n",
              "      background-color: #E2EBFA;\n",
              "      box-shadow: 0px 1px 2px rgba(60, 64, 67, 0.3), 0px 1px 3px 1px rgba(60, 64, 67, 0.15);\n",
              "      fill: #174EA6;\n",
              "    }\n",
              "\n",
              "    .colab-df-buttons div {\n",
              "      margin-bottom: 4px;\n",
              "    }\n",
              "\n",
              "    [theme=dark] .colab-df-convert {\n",
              "      background-color: #3B4455;\n",
              "      fill: #D2E3FC;\n",
              "    }\n",
              "\n",
              "    [theme=dark] .colab-df-convert:hover {\n",
              "      background-color: #434B5C;\n",
              "      box-shadow: 0px 1px 3px 1px rgba(0, 0, 0, 0.15);\n",
              "      filter: drop-shadow(0px 1px 2px rgba(0, 0, 0, 0.3));\n",
              "      fill: #FFFFFF;\n",
              "    }\n",
              "  </style>\n",
              "\n",
              "    <script>\n",
              "      const buttonEl =\n",
              "        document.querySelector('#df-6e5661a8-b31d-45c0-a845-ad62d19fccae button.colab-df-convert');\n",
              "      buttonEl.style.display =\n",
              "        google.colab.kernel.accessAllowed ? 'block' : 'none';\n",
              "\n",
              "      async function convertToInteractive(key) {\n",
              "        const element = document.querySelector('#df-6e5661a8-b31d-45c0-a845-ad62d19fccae');\n",
              "        const dataTable =\n",
              "          await google.colab.kernel.invokeFunction('convertToInteractive',\n",
              "                                                    [key], {});\n",
              "        if (!dataTable) return;\n",
              "\n",
              "        const docLinkHtml = 'Like what you see? Visit the ' +\n",
              "          '<a target=\"_blank\" href=https://colab.research.google.com/notebooks/data_table.ipynb>data table notebook</a>'\n",
              "          + ' to learn more about interactive tables.';\n",
              "        element.innerHTML = '';\n",
              "        dataTable['output_type'] = 'display_data';\n",
              "        await google.colab.output.renderOutput(dataTable, element);\n",
              "        const docLink = document.createElement('div');\n",
              "        docLink.innerHTML = docLinkHtml;\n",
              "        element.appendChild(docLink);\n",
              "      }\n",
              "    </script>\n",
              "  </div>\n",
              "\n",
              "\n",
              "<div id=\"df-0c3f8b68-8d3e-4e35-b118-43a52a6cd152\">\n",
              "  <button class=\"colab-df-quickchart\" onclick=\"quickchart('df-0c3f8b68-8d3e-4e35-b118-43a52a6cd152')\"\n",
              "            title=\"Suggest charts\"\n",
              "            style=\"display:none;\">\n",
              "\n",
              "<svg xmlns=\"http://www.w3.org/2000/svg\" height=\"24px\"viewBox=\"0 0 24 24\"\n",
              "     width=\"24px\">\n",
              "    <g>\n",
              "        <path d=\"M19 3H5c-1.1 0-2 .9-2 2v14c0 1.1.9 2 2 2h14c1.1 0 2-.9 2-2V5c0-1.1-.9-2-2-2zM9 17H7v-7h2v7zm4 0h-2V7h2v10zm4 0h-2v-4h2v4z\"/>\n",
              "    </g>\n",
              "</svg>\n",
              "  </button>\n",
              "\n",
              "<style>\n",
              "  .colab-df-quickchart {\n",
              "      --bg-color: #E8F0FE;\n",
              "      --fill-color: #1967D2;\n",
              "      --hover-bg-color: #E2EBFA;\n",
              "      --hover-fill-color: #174EA6;\n",
              "      --disabled-fill-color: #AAA;\n",
              "      --disabled-bg-color: #DDD;\n",
              "  }\n",
              "\n",
              "  [theme=dark] .colab-df-quickchart {\n",
              "      --bg-color: #3B4455;\n",
              "      --fill-color: #D2E3FC;\n",
              "      --hover-bg-color: #434B5C;\n",
              "      --hover-fill-color: #FFFFFF;\n",
              "      --disabled-bg-color: #3B4455;\n",
              "      --disabled-fill-color: #666;\n",
              "  }\n",
              "\n",
              "  .colab-df-quickchart {\n",
              "    background-color: var(--bg-color);\n",
              "    border: none;\n",
              "    border-radius: 50%;\n",
              "    cursor: pointer;\n",
              "    display: none;\n",
              "    fill: var(--fill-color);\n",
              "    height: 32px;\n",
              "    padding: 0;\n",
              "    width: 32px;\n",
              "  }\n",
              "\n",
              "  .colab-df-quickchart:hover {\n",
              "    background-color: var(--hover-bg-color);\n",
              "    box-shadow: 0 1px 2px rgba(60, 64, 67, 0.3), 0 1px 3px 1px rgba(60, 64, 67, 0.15);\n",
              "    fill: var(--button-hover-fill-color);\n",
              "  }\n",
              "\n",
              "  .colab-df-quickchart-complete:disabled,\n",
              "  .colab-df-quickchart-complete:disabled:hover {\n",
              "    background-color: var(--disabled-bg-color);\n",
              "    fill: var(--disabled-fill-color);\n",
              "    box-shadow: none;\n",
              "  }\n",
              "\n",
              "  .colab-df-spinner {\n",
              "    border: 2px solid var(--fill-color);\n",
              "    border-color: transparent;\n",
              "    border-bottom-color: var(--fill-color);\n",
              "    animation:\n",
              "      spin 1s steps(1) infinite;\n",
              "  }\n",
              "\n",
              "  @keyframes spin {\n",
              "    0% {\n",
              "      border-color: transparent;\n",
              "      border-bottom-color: var(--fill-color);\n",
              "      border-left-color: var(--fill-color);\n",
              "    }\n",
              "    20% {\n",
              "      border-color: transparent;\n",
              "      border-left-color: var(--fill-color);\n",
              "      border-top-color: var(--fill-color);\n",
              "    }\n",
              "    30% {\n",
              "      border-color: transparent;\n",
              "      border-left-color: var(--fill-color);\n",
              "      border-top-color: var(--fill-color);\n",
              "      border-right-color: var(--fill-color);\n",
              "    }\n",
              "    40% {\n",
              "      border-color: transparent;\n",
              "      border-right-color: var(--fill-color);\n",
              "      border-top-color: var(--fill-color);\n",
              "    }\n",
              "    60% {\n",
              "      border-color: transparent;\n",
              "      border-right-color: var(--fill-color);\n",
              "    }\n",
              "    80% {\n",
              "      border-color: transparent;\n",
              "      border-right-color: var(--fill-color);\n",
              "      border-bottom-color: var(--fill-color);\n",
              "    }\n",
              "    90% {\n",
              "      border-color: transparent;\n",
              "      border-bottom-color: var(--fill-color);\n",
              "    }\n",
              "  }\n",
              "</style>\n",
              "\n",
              "  <script>\n",
              "    async function quickchart(key) {\n",
              "      const quickchartButtonEl =\n",
              "        document.querySelector('#' + key + ' button');\n",
              "      quickchartButtonEl.disabled = true;  // To prevent multiple clicks.\n",
              "      quickchartButtonEl.classList.add('colab-df-spinner');\n",
              "      try {\n",
              "        const charts = await google.colab.kernel.invokeFunction(\n",
              "            'suggestCharts', [key], {});\n",
              "      } catch (error) {\n",
              "        console.error('Error during call to suggestCharts:', error);\n",
              "      }\n",
              "      quickchartButtonEl.classList.remove('colab-df-spinner');\n",
              "      quickchartButtonEl.classList.add('colab-df-quickchart-complete');\n",
              "    }\n",
              "    (() => {\n",
              "      let quickchartButtonEl =\n",
              "        document.querySelector('#df-0c3f8b68-8d3e-4e35-b118-43a52a6cd152 button');\n",
              "      quickchartButtonEl.style.display =\n",
              "        google.colab.kernel.accessAllowed ? 'block' : 'none';\n",
              "    })();\n",
              "  </script>\n",
              "</div>\n",
              "\n",
              "  <div id=\"id_e436351a-c4f3-4de7-92ff-cf734836671c\">\n",
              "    <style>\n",
              "      .colab-df-generate {\n",
              "        background-color: #E8F0FE;\n",
              "        border: none;\n",
              "        border-radius: 50%;\n",
              "        cursor: pointer;\n",
              "        display: none;\n",
              "        fill: #1967D2;\n",
              "        height: 32px;\n",
              "        padding: 0 0 0 0;\n",
              "        width: 32px;\n",
              "      }\n",
              "\n",
              "      .colab-df-generate:hover {\n",
              "        background-color: #E2EBFA;\n",
              "        box-shadow: 0px 1px 2px rgba(60, 64, 67, 0.3), 0px 1px 3px 1px rgba(60, 64, 67, 0.15);\n",
              "        fill: #174EA6;\n",
              "      }\n",
              "\n",
              "      [theme=dark] .colab-df-generate {\n",
              "        background-color: #3B4455;\n",
              "        fill: #D2E3FC;\n",
              "      }\n",
              "\n",
              "      [theme=dark] .colab-df-generate:hover {\n",
              "        background-color: #434B5C;\n",
              "        box-shadow: 0px 1px 3px 1px rgba(0, 0, 0, 0.15);\n",
              "        filter: drop-shadow(0px 1px 2px rgba(0, 0, 0, 0.3));\n",
              "        fill: #FFFFFF;\n",
              "      }\n",
              "    </style>\n",
              "    <button class=\"colab-df-generate\" onclick=\"generateWithVariable('df_top')\"\n",
              "            title=\"Generate code using this dataframe.\"\n",
              "            style=\"display:none;\">\n",
              "\n",
              "  <svg xmlns=\"http://www.w3.org/2000/svg\" height=\"24px\"viewBox=\"0 0 24 24\"\n",
              "       width=\"24px\">\n",
              "    <path d=\"M7,19H8.4L18.45,9,17,7.55,7,17.6ZM5,21V16.75L18.45,3.32a2,2,0,0,1,2.83,0l1.4,1.43a1.91,1.91,0,0,1,.58,1.4,1.91,1.91,0,0,1-.58,1.4L9.25,21ZM18.45,9,17,7.55Zm-12,3A5.31,5.31,0,0,0,4.9,8.1,5.31,5.31,0,0,0,1,6.5,5.31,5.31,0,0,0,4.9,4.9,5.31,5.31,0,0,0,6.5,1,5.31,5.31,0,0,0,8.1,4.9,5.31,5.31,0,0,0,12,6.5,5.46,5.46,0,0,0,6.5,12Z\"/>\n",
              "  </svg>\n",
              "    </button>\n",
              "    <script>\n",
              "      (() => {\n",
              "      const buttonEl =\n",
              "        document.querySelector('#id_e436351a-c4f3-4de7-92ff-cf734836671c button.colab-df-generate');\n",
              "      buttonEl.style.display =\n",
              "        google.colab.kernel.accessAllowed ? 'block' : 'none';\n",
              "\n",
              "      buttonEl.onclick = () => {\n",
              "        google.colab.notebook.generateWithVariable('df_top');\n",
              "      }\n",
              "      })();\n",
              "    </script>\n",
              "  </div>\n",
              "\n",
              "    </div>\n",
              "  </div>\n"
            ],
            "application/vnd.google.colaboratory.intrinsic+json": {
              "type": "dataframe",
              "variable_name": "df_top",
              "summary": "{\n  \"name\": \"df_top\",\n  \"rows\": 50,\n  \"fields\": [\n    {\n      \"column\": \"RMSE\",\n      \"properties\": {\n        \"dtype\": \"number\",\n        \"std\": 0.14906239331170007,\n        \"min\": 2.9197184034507267e-05,\n        \"max\": 0.37746393853871274,\n        \"num_unique_values\": 50,\n        \"samples\": [\n          5.0775959421000885e-05,\n          0.15910938016659584,\n          0.010797921300882257\n        ],\n        \"semantic_type\": \"\",\n        \"description\": \"\"\n      }\n    },\n    {\n      \"column\": \"Layers\",\n      \"properties\": {\n        \"dtype\": \"number\",\n        \"std\": 13,\n        \"min\": 3,\n        \"max\": 50,\n        \"num_unique_values\": 31,\n        \"samples\": [\n          50,\n          24,\n          13\n        ],\n        \"semantic_type\": \"\",\n        \"description\": \"\"\n      }\n    },\n    {\n      \"column\": \"Neurons\",\n      \"properties\": {\n        \"dtype\": \"number\",\n        \"std\": 10,\n        \"min\": 5,\n        \"max\": 50,\n        \"num_unique_values\": 32,\n        \"samples\": [\n          34,\n          15,\n          5\n        ],\n        \"semantic_type\": \"\",\n        \"description\": \"\"\n      }\n    },\n    {\n      \"column\": \"Activation\",\n      \"properties\": {\n        \"dtype\": \"category\",\n        \"num_unique_values\": 4,\n        \"samples\": [\n          \"Sigmoid\",\n          \"ReLU\",\n          \"Tanh\"\n        ],\n        \"semantic_type\": \"\",\n        \"description\": \"\"\n      }\n    },\n    {\n      \"column\": \"Optimizer\",\n      \"properties\": {\n        \"dtype\": \"category\",\n        \"num_unique_values\": 6,\n        \"samples\": [\n          \"SGD\",\n          \"AdamW\",\n          \"LBFGS\"\n        ],\n        \"semantic_type\": \"\",\n        \"description\": \"\"\n      }\n    },\n    {\n      \"column\": \"Train-Val Split\",\n      \"properties\": {\n        \"dtype\": \"number\",\n        \"std\": 0.08630747123996126,\n        \"min\": 0.6,\n        \"max\": 0.9,\n        \"num_unique_values\": 4,\n        \"samples\": [\n          0.9,\n          0.6,\n          0.8\n        ],\n        \"semantic_type\": \"\",\n        \"description\": \"\"\n      }\n    },\n    {\n      \"column\": \"Viscosity\",\n      \"properties\": {\n        \"dtype\": \"number\",\n        \"std\": 0.6154035162370354,\n        \"min\": -0.99941927873629,\n        \"max\": 0.9819997701676533,\n        \"num_unique_values\": 50,\n        \"samples\": [\n          -0.06435724098872986,\n          0.9819997701676533,\n          0.19334340587579824\n        ],\n        \"semantic_type\": \"\",\n        \"description\": \"\"\n      }\n    },\n    {\n      \"column\": \"Iterations\",\n      \"properties\": {\n        \"dtype\": \"number\",\n        \"std\": 2124,\n        \"min\": 1054,\n        \"max\": 9997,\n        \"num_unique_values\": 50,\n        \"samples\": [\n          6408,\n          1767,\n          6476\n        ],\n        \"semantic_type\": \"\",\n        \"description\": \"\"\n      }\n    }\n  ]\n}"
            }
          },
          "metadata": {}
        },
        {
          "output_type": "stream",
          "name": "stdout",
          "text": [
            "Top hyperparameter sets saved as 'top_hyperparameters.csv'.\n"
          ]
        }
      ]
    },
    {
      "cell_type": "code",
      "source": [
        "import optuna.visualization as vis\n",
        "\n",
        "fig = vis.plot_param_importances(study)\n",
        "fig.show()\n"
      ],
      "metadata": {
        "colab": {
          "base_uri": "https://localhost:8080/",
          "height": 542
        },
        "id": "YSCsDW6vQlhO",
        "outputId": "adf6ee02-741b-46c4-8f0d-d404402c07ba"
      },
      "execution_count": 6,
      "outputs": [
        {
          "output_type": "display_data",
          "data": {
            "text/html": [
              "<html>\n",
              "<head><meta charset=\"utf-8\" /></head>\n",
              "<body>\n",
              "    <div>            <script src=\"https://cdnjs.cloudflare.com/ajax/libs/mathjax/2.7.5/MathJax.js?config=TeX-AMS-MML_SVG\"></script><script type=\"text/javascript\">if (window.MathJax && window.MathJax.Hub && window.MathJax.Hub.Config) {window.MathJax.Hub.Config({SVG: {font: \"STIX-Web\"}});}</script>                <script type=\"text/javascript\">window.PlotlyConfig = {MathJaxConfig: 'local'};</script>\n",
              "        <script charset=\"utf-8\" src=\"https://cdn.plot.ly/plotly-2.35.2.min.js\"></script>                <div id=\"a06ddc7b-e118-4ebf-ad98-9da7de842670\" class=\"plotly-graph-div\" style=\"height:525px; width:100%;\"></div>            <script type=\"text/javascript\">                                    window.PLOTLYENV=window.PLOTLYENV || {};                                    if (document.getElementById(\"a06ddc7b-e118-4ebf-ad98-9da7de842670\")) {                    Plotly.newPlot(                        \"a06ddc7b-e118-4ebf-ad98-9da7de842670\",                        [{\"cliponaxis\":false,\"hovertemplate\":[\"viscosity (FloatDistribution): 0.005527254263656125\\u003cextra\\u003e\\u003c\\u002fextra\\u003e\",\"train_val_split (CategoricalDistribution): 0.006073585277475338\\u003cextra\\u003e\\u003c\\u002fextra\\u003e\",\"iterations (IntDistribution): 0.017109157401617645\\u003cextra\\u003e\\u003c\\u002fextra\\u003e\",\"optimizer (CategoricalDistribution): 0.03227946051508737\\u003cextra\\u003e\\u003c\\u002fextra\\u003e\",\"neurons (IntDistribution): 0.10718277906238469\\u003cextra\\u003e\\u003c\\u002fextra\\u003e\",\"layers (IntDistribution): 0.33692366542228097\\u003cextra\\u003e\\u003c\\u002fextra\\u003e\",\"activation (CategoricalDistribution): 0.4949040980574978\\u003cextra\\u003e\\u003c\\u002fextra\\u003e\"],\"name\":\"Objective Value\",\"orientation\":\"h\",\"text\":[\"\\u003c0.01\",\"\\u003c0.01\",\"0.02\",\"0.03\",\"0.11\",\"0.34\",\"0.49\"],\"textposition\":\"outside\",\"x\":[0.005527254263656125,0.006073585277475338,0.017109157401617645,0.03227946051508737,0.10718277906238469,0.33692366542228097,0.4949040980574978],\"y\":[\"viscosity\",\"train_val_split\",\"iterations\",\"optimizer\",\"neurons\",\"layers\",\"activation\"],\"type\":\"bar\"}],                        {\"title\":{\"text\":\"Hyperparameter Importances\"},\"xaxis\":{\"title\":{\"text\":\"Hyperparameter Importance\"}},\"yaxis\":{\"title\":{\"text\":\"Hyperparameter\"}},\"template\":{\"data\":{\"histogram2dcontour\":[{\"type\":\"histogram2dcontour\",\"colorbar\":{\"outlinewidth\":0,\"ticks\":\"\"},\"colorscale\":[[0.0,\"#0d0887\"],[0.1111111111111111,\"#46039f\"],[0.2222222222222222,\"#7201a8\"],[0.3333333333333333,\"#9c179e\"],[0.4444444444444444,\"#bd3786\"],[0.5555555555555556,\"#d8576b\"],[0.6666666666666666,\"#ed7953\"],[0.7777777777777778,\"#fb9f3a\"],[0.8888888888888888,\"#fdca26\"],[1.0,\"#f0f921\"]]}],\"choropleth\":[{\"type\":\"choropleth\",\"colorbar\":{\"outlinewidth\":0,\"ticks\":\"\"}}],\"histogram2d\":[{\"type\":\"histogram2d\",\"colorbar\":{\"outlinewidth\":0,\"ticks\":\"\"},\"colorscale\":[[0.0,\"#0d0887\"],[0.1111111111111111,\"#46039f\"],[0.2222222222222222,\"#7201a8\"],[0.3333333333333333,\"#9c179e\"],[0.4444444444444444,\"#bd3786\"],[0.5555555555555556,\"#d8576b\"],[0.6666666666666666,\"#ed7953\"],[0.7777777777777778,\"#fb9f3a\"],[0.8888888888888888,\"#fdca26\"],[1.0,\"#f0f921\"]]}],\"heatmap\":[{\"type\":\"heatmap\",\"colorbar\":{\"outlinewidth\":0,\"ticks\":\"\"},\"colorscale\":[[0.0,\"#0d0887\"],[0.1111111111111111,\"#46039f\"],[0.2222222222222222,\"#7201a8\"],[0.3333333333333333,\"#9c179e\"],[0.4444444444444444,\"#bd3786\"],[0.5555555555555556,\"#d8576b\"],[0.6666666666666666,\"#ed7953\"],[0.7777777777777778,\"#fb9f3a\"],[0.8888888888888888,\"#fdca26\"],[1.0,\"#f0f921\"]]}],\"heatmapgl\":[{\"type\":\"heatmapgl\",\"colorbar\":{\"outlinewidth\":0,\"ticks\":\"\"},\"colorscale\":[[0.0,\"#0d0887\"],[0.1111111111111111,\"#46039f\"],[0.2222222222222222,\"#7201a8\"],[0.3333333333333333,\"#9c179e\"],[0.4444444444444444,\"#bd3786\"],[0.5555555555555556,\"#d8576b\"],[0.6666666666666666,\"#ed7953\"],[0.7777777777777778,\"#fb9f3a\"],[0.8888888888888888,\"#fdca26\"],[1.0,\"#f0f921\"]]}],\"contourcarpet\":[{\"type\":\"contourcarpet\",\"colorbar\":{\"outlinewidth\":0,\"ticks\":\"\"}}],\"contour\":[{\"type\":\"contour\",\"colorbar\":{\"outlinewidth\":0,\"ticks\":\"\"},\"colorscale\":[[0.0,\"#0d0887\"],[0.1111111111111111,\"#46039f\"],[0.2222222222222222,\"#7201a8\"],[0.3333333333333333,\"#9c179e\"],[0.4444444444444444,\"#bd3786\"],[0.5555555555555556,\"#d8576b\"],[0.6666666666666666,\"#ed7953\"],[0.7777777777777778,\"#fb9f3a\"],[0.8888888888888888,\"#fdca26\"],[1.0,\"#f0f921\"]]}],\"surface\":[{\"type\":\"surface\",\"colorbar\":{\"outlinewidth\":0,\"ticks\":\"\"},\"colorscale\":[[0.0,\"#0d0887\"],[0.1111111111111111,\"#46039f\"],[0.2222222222222222,\"#7201a8\"],[0.3333333333333333,\"#9c179e\"],[0.4444444444444444,\"#bd3786\"],[0.5555555555555556,\"#d8576b\"],[0.6666666666666666,\"#ed7953\"],[0.7777777777777778,\"#fb9f3a\"],[0.8888888888888888,\"#fdca26\"],[1.0,\"#f0f921\"]]}],\"mesh3d\":[{\"type\":\"mesh3d\",\"colorbar\":{\"outlinewidth\":0,\"ticks\":\"\"}}],\"scatter\":[{\"fillpattern\":{\"fillmode\":\"overlay\",\"size\":10,\"solidity\":0.2},\"type\":\"scatter\"}],\"parcoords\":[{\"type\":\"parcoords\",\"line\":{\"colorbar\":{\"outlinewidth\":0,\"ticks\":\"\"}}}],\"scatterpolargl\":[{\"type\":\"scatterpolargl\",\"marker\":{\"colorbar\":{\"outlinewidth\":0,\"ticks\":\"\"}}}],\"bar\":[{\"error_x\":{\"color\":\"#2a3f5f\"},\"error_y\":{\"color\":\"#2a3f5f\"},\"marker\":{\"line\":{\"color\":\"#E5ECF6\",\"width\":0.5},\"pattern\":{\"fillmode\":\"overlay\",\"size\":10,\"solidity\":0.2}},\"type\":\"bar\"}],\"scattergeo\":[{\"type\":\"scattergeo\",\"marker\":{\"colorbar\":{\"outlinewidth\":0,\"ticks\":\"\"}}}],\"scatterpolar\":[{\"type\":\"scatterpolar\",\"marker\":{\"colorbar\":{\"outlinewidth\":0,\"ticks\":\"\"}}}],\"histogram\":[{\"marker\":{\"pattern\":{\"fillmode\":\"overlay\",\"size\":10,\"solidity\":0.2}},\"type\":\"histogram\"}],\"scattergl\":[{\"type\":\"scattergl\",\"marker\":{\"colorbar\":{\"outlinewidth\":0,\"ticks\":\"\"}}}],\"scatter3d\":[{\"type\":\"scatter3d\",\"line\":{\"colorbar\":{\"outlinewidth\":0,\"ticks\":\"\"}},\"marker\":{\"colorbar\":{\"outlinewidth\":0,\"ticks\":\"\"}}}],\"scattermapbox\":[{\"type\":\"scattermapbox\",\"marker\":{\"colorbar\":{\"outlinewidth\":0,\"ticks\":\"\"}}}],\"scatterternary\":[{\"type\":\"scatterternary\",\"marker\":{\"colorbar\":{\"outlinewidth\":0,\"ticks\":\"\"}}}],\"scattercarpet\":[{\"type\":\"scattercarpet\",\"marker\":{\"colorbar\":{\"outlinewidth\":0,\"ticks\":\"\"}}}],\"carpet\":[{\"aaxis\":{\"endlinecolor\":\"#2a3f5f\",\"gridcolor\":\"white\",\"linecolor\":\"white\",\"minorgridcolor\":\"white\",\"startlinecolor\":\"#2a3f5f\"},\"baxis\":{\"endlinecolor\":\"#2a3f5f\",\"gridcolor\":\"white\",\"linecolor\":\"white\",\"minorgridcolor\":\"white\",\"startlinecolor\":\"#2a3f5f\"},\"type\":\"carpet\"}],\"table\":[{\"cells\":{\"fill\":{\"color\":\"#EBF0F8\"},\"line\":{\"color\":\"white\"}},\"header\":{\"fill\":{\"color\":\"#C8D4E3\"},\"line\":{\"color\":\"white\"}},\"type\":\"table\"}],\"barpolar\":[{\"marker\":{\"line\":{\"color\":\"#E5ECF6\",\"width\":0.5},\"pattern\":{\"fillmode\":\"overlay\",\"size\":10,\"solidity\":0.2}},\"type\":\"barpolar\"}],\"pie\":[{\"automargin\":true,\"type\":\"pie\"}]},\"layout\":{\"autotypenumbers\":\"strict\",\"colorway\":[\"#636efa\",\"#EF553B\",\"#00cc96\",\"#ab63fa\",\"#FFA15A\",\"#19d3f3\",\"#FF6692\",\"#B6E880\",\"#FF97FF\",\"#FECB52\"],\"font\":{\"color\":\"#2a3f5f\"},\"hovermode\":\"closest\",\"hoverlabel\":{\"align\":\"left\"},\"paper_bgcolor\":\"white\",\"plot_bgcolor\":\"#E5ECF6\",\"polar\":{\"bgcolor\":\"#E5ECF6\",\"angularaxis\":{\"gridcolor\":\"white\",\"linecolor\":\"white\",\"ticks\":\"\"},\"radialaxis\":{\"gridcolor\":\"white\",\"linecolor\":\"white\",\"ticks\":\"\"}},\"ternary\":{\"bgcolor\":\"#E5ECF6\",\"aaxis\":{\"gridcolor\":\"white\",\"linecolor\":\"white\",\"ticks\":\"\"},\"baxis\":{\"gridcolor\":\"white\",\"linecolor\":\"white\",\"ticks\":\"\"},\"caxis\":{\"gridcolor\":\"white\",\"linecolor\":\"white\",\"ticks\":\"\"}},\"coloraxis\":{\"colorbar\":{\"outlinewidth\":0,\"ticks\":\"\"}},\"colorscale\":{\"sequential\":[[0.0,\"#0d0887\"],[0.1111111111111111,\"#46039f\"],[0.2222222222222222,\"#7201a8\"],[0.3333333333333333,\"#9c179e\"],[0.4444444444444444,\"#bd3786\"],[0.5555555555555556,\"#d8576b\"],[0.6666666666666666,\"#ed7953\"],[0.7777777777777778,\"#fb9f3a\"],[0.8888888888888888,\"#fdca26\"],[1.0,\"#f0f921\"]],\"sequentialminus\":[[0.0,\"#0d0887\"],[0.1111111111111111,\"#46039f\"],[0.2222222222222222,\"#7201a8\"],[0.3333333333333333,\"#9c179e\"],[0.4444444444444444,\"#bd3786\"],[0.5555555555555556,\"#d8576b\"],[0.6666666666666666,\"#ed7953\"],[0.7777777777777778,\"#fb9f3a\"],[0.8888888888888888,\"#fdca26\"],[1.0,\"#f0f921\"]],\"diverging\":[[0,\"#8e0152\"],[0.1,\"#c51b7d\"],[0.2,\"#de77ae\"],[0.3,\"#f1b6da\"],[0.4,\"#fde0ef\"],[0.5,\"#f7f7f7\"],[0.6,\"#e6f5d0\"],[0.7,\"#b8e186\"],[0.8,\"#7fbc41\"],[0.9,\"#4d9221\"],[1,\"#276419\"]]},\"xaxis\":{\"gridcolor\":\"white\",\"linecolor\":\"white\",\"ticks\":\"\",\"title\":{\"standoff\":15},\"zerolinecolor\":\"white\",\"automargin\":true,\"zerolinewidth\":2},\"yaxis\":{\"gridcolor\":\"white\",\"linecolor\":\"white\",\"ticks\":\"\",\"title\":{\"standoff\":15},\"zerolinecolor\":\"white\",\"automargin\":true,\"zerolinewidth\":2},\"scene\":{\"xaxis\":{\"backgroundcolor\":\"#E5ECF6\",\"gridcolor\":\"white\",\"linecolor\":\"white\",\"showbackground\":true,\"ticks\":\"\",\"zerolinecolor\":\"white\",\"gridwidth\":2},\"yaxis\":{\"backgroundcolor\":\"#E5ECF6\",\"gridcolor\":\"white\",\"linecolor\":\"white\",\"showbackground\":true,\"ticks\":\"\",\"zerolinecolor\":\"white\",\"gridwidth\":2},\"zaxis\":{\"backgroundcolor\":\"#E5ECF6\",\"gridcolor\":\"white\",\"linecolor\":\"white\",\"showbackground\":true,\"ticks\":\"\",\"zerolinecolor\":\"white\",\"gridwidth\":2}},\"shapedefaults\":{\"line\":{\"color\":\"#2a3f5f\"}},\"annotationdefaults\":{\"arrowcolor\":\"#2a3f5f\",\"arrowhead\":0,\"arrowwidth\":1},\"geo\":{\"bgcolor\":\"white\",\"landcolor\":\"#E5ECF6\",\"subunitcolor\":\"white\",\"showland\":true,\"showlakes\":true,\"lakecolor\":\"white\"},\"title\":{\"x\":0.05},\"mapbox\":{\"style\":\"light\"}}}},                        {\"responsive\": true}                    ).then(function(){\n",
              "                            \n",
              "var gd = document.getElementById('a06ddc7b-e118-4ebf-ad98-9da7de842670');\n",
              "var x = new MutationObserver(function (mutations, observer) {{\n",
              "        var display = window.getComputedStyle(gd).display;\n",
              "        if (!display || display === 'none') {{\n",
              "            console.log([gd, 'removed!']);\n",
              "            Plotly.purge(gd);\n",
              "            observer.disconnect();\n",
              "        }}\n",
              "}});\n",
              "\n",
              "// Listen for the removal of the full notebook cells\n",
              "var notebookContainer = gd.closest('#notebook-container');\n",
              "if (notebookContainer) {{\n",
              "    x.observe(notebookContainer, {childList: true});\n",
              "}}\n",
              "\n",
              "// Listen for the clearing of the current output cell\n",
              "var outputEl = gd.closest('.output');\n",
              "if (outputEl) {{\n",
              "    x.observe(outputEl, {childList: true});\n",
              "}}\n",
              "\n",
              "                        })                };                            </script>        </div>\n",
              "</body>\n",
              "</html>"
            ]
          },
          "metadata": {}
        }
      ]
    },
    {
      "cell_type": "code",
      "source": [
        "fig = vis.plot_optimization_history(study)\n",
        "fig.show()\n"
      ],
      "metadata": {
        "colab": {
          "base_uri": "https://localhost:8080/",
          "height": 542
        },
        "id": "5f5I_Kw_Qq4I",
        "outputId": "26780f6d-9cad-4830-d9e1-6f5a32597055"
      },
      "execution_count": 7,
      "outputs": [
        {
          "output_type": "display_data",
          "data": {
            "text/html": [
              "<html>\n",
              "<head><meta charset=\"utf-8\" /></head>\n",
              "<body>\n",
              "    <div>            <script src=\"https://cdnjs.cloudflare.com/ajax/libs/mathjax/2.7.5/MathJax.js?config=TeX-AMS-MML_SVG\"></script><script type=\"text/javascript\">if (window.MathJax && window.MathJax.Hub && window.MathJax.Hub.Config) {window.MathJax.Hub.Config({SVG: {font: \"STIX-Web\"}});}</script>                <script type=\"text/javascript\">window.PlotlyConfig = {MathJaxConfig: 'local'};</script>\n",
              "        <script charset=\"utf-8\" src=\"https://cdn.plot.ly/plotly-2.35.2.min.js\"></script>                <div id=\"f51cea20-548c-4d40-aa5b-f5d1f98d775f\" class=\"plotly-graph-div\" style=\"height:525px; width:100%;\"></div>            <script type=\"text/javascript\">                                    window.PLOTLYENV=window.PLOTLYENV || {};                                    if (document.getElementById(\"f51cea20-548c-4d40-aa5b-f5d1f98d775f\")) {                    Plotly.newPlot(                        \"f51cea20-548c-4d40-aa5b-f5d1f98d775f\",                        [{\"mode\":\"markers\",\"name\":\"Objective Value\",\"x\":[0,1,2,3,4,5,6,7,8,9,10,11,12,13,14,15,16,17,18,19,20,21,22,23,24,25,26,27,28,29,30,31,32,33,34,35,36,37,38,39,40,41,42,43,44,45,46,47,48,49],\"y\":[0.3774639385386569,0.003978849489848615,0.3774639385386999,0.37746393853846316,0.000050775959421000885,0.37746393853864113,0.37746393853871274,0.0024202298358030204,0.13933280783407567,0.3774639385385619,0.15910938016659584,0.004337582179059874,0.0060737890974252775,0.00010546067677517129,0.00017530998009892082,0.00004197951287102239,0.13330038628013313,0.37746393853864596,0.1382904540307943,0.0004937975191416762,0.010797921300882257,0.00004304516348412634,0.000055151795536127867,0.000073964516367517,0.0000706645114423478,0.000031152055914757554,0.15748538476939072,0.3774639384133834,0.13840960160632185,0.1411743372111078,0.000052332214444013626,0.000037268522427796115,0.00003900518573209593,0.00003790663493792428,0.000029197184034507267,0.000048444596147658865,0.00007470773099204881,0.3774639385358657,0.11264910776769124,0.00004424876079554724,0.00005415259445384439,0.000071414493923799,0.00005017869878879916,0.005851920533919241,0.000035497603894446096,0.0000364951679574669,0.00006851339851160006,0.13972454635678808,0.3774639385385082,0.00003688266359718108],\"type\":\"scatter\"},{\"mode\":\"lines\",\"name\":\"Best Value\",\"x\":[0,1,2,3,4,5,6,7,8,9,10,11,12,13,14,15,16,17,18,19,20,21,22,23,24,25,26,27,28,29,30,31,32,33,34,35,36,37,38,39,40,41,42,43,44,45,46,47,48,49],\"y\":[0.3774639385386569,0.003978849489848615,0.003978849489848615,0.003978849489848615,0.000050775959421000885,0.000050775959421000885,0.000050775959421000885,0.000050775959421000885,0.000050775959421000885,0.000050775959421000885,0.000050775959421000885,0.000050775959421000885,0.000050775959421000885,0.000050775959421000885,0.000050775959421000885,0.00004197951287102239,0.00004197951287102239,0.00004197951287102239,0.00004197951287102239,0.00004197951287102239,0.00004197951287102239,0.00004197951287102239,0.00004197951287102239,0.00004197951287102239,0.00004197951287102239,0.000031152055914757554,0.000031152055914757554,0.000031152055914757554,0.000031152055914757554,0.000031152055914757554,0.000031152055914757554,0.000031152055914757554,0.000031152055914757554,0.000031152055914757554,0.000029197184034507267,0.000029197184034507267,0.000029197184034507267,0.000029197184034507267,0.000029197184034507267,0.000029197184034507267,0.000029197184034507267,0.000029197184034507267,0.000029197184034507267,0.000029197184034507267,0.000029197184034507267,0.000029197184034507267,0.000029197184034507267,0.000029197184034507267,0.000029197184034507267,0.000029197184034507267],\"type\":\"scatter\"},{\"marker\":{\"color\":\"#cccccc\"},\"mode\":\"markers\",\"name\":\"Infeasible Trial\",\"showlegend\":false,\"x\":[],\"y\":[],\"type\":\"scatter\"}],                        {\"title\":{\"text\":\"Optimization History Plot\"},\"xaxis\":{\"title\":{\"text\":\"Trial\"}},\"yaxis\":{\"title\":{\"text\":\"Objective Value\"}},\"template\":{\"data\":{\"histogram2dcontour\":[{\"type\":\"histogram2dcontour\",\"colorbar\":{\"outlinewidth\":0,\"ticks\":\"\"},\"colorscale\":[[0.0,\"#0d0887\"],[0.1111111111111111,\"#46039f\"],[0.2222222222222222,\"#7201a8\"],[0.3333333333333333,\"#9c179e\"],[0.4444444444444444,\"#bd3786\"],[0.5555555555555556,\"#d8576b\"],[0.6666666666666666,\"#ed7953\"],[0.7777777777777778,\"#fb9f3a\"],[0.8888888888888888,\"#fdca26\"],[1.0,\"#f0f921\"]]}],\"choropleth\":[{\"type\":\"choropleth\",\"colorbar\":{\"outlinewidth\":0,\"ticks\":\"\"}}],\"histogram2d\":[{\"type\":\"histogram2d\",\"colorbar\":{\"outlinewidth\":0,\"ticks\":\"\"},\"colorscale\":[[0.0,\"#0d0887\"],[0.1111111111111111,\"#46039f\"],[0.2222222222222222,\"#7201a8\"],[0.3333333333333333,\"#9c179e\"],[0.4444444444444444,\"#bd3786\"],[0.5555555555555556,\"#d8576b\"],[0.6666666666666666,\"#ed7953\"],[0.7777777777777778,\"#fb9f3a\"],[0.8888888888888888,\"#fdca26\"],[1.0,\"#f0f921\"]]}],\"heatmap\":[{\"type\":\"heatmap\",\"colorbar\":{\"outlinewidth\":0,\"ticks\":\"\"},\"colorscale\":[[0.0,\"#0d0887\"],[0.1111111111111111,\"#46039f\"],[0.2222222222222222,\"#7201a8\"],[0.3333333333333333,\"#9c179e\"],[0.4444444444444444,\"#bd3786\"],[0.5555555555555556,\"#d8576b\"],[0.6666666666666666,\"#ed7953\"],[0.7777777777777778,\"#fb9f3a\"],[0.8888888888888888,\"#fdca26\"],[1.0,\"#f0f921\"]]}],\"heatmapgl\":[{\"type\":\"heatmapgl\",\"colorbar\":{\"outlinewidth\":0,\"ticks\":\"\"},\"colorscale\":[[0.0,\"#0d0887\"],[0.1111111111111111,\"#46039f\"],[0.2222222222222222,\"#7201a8\"],[0.3333333333333333,\"#9c179e\"],[0.4444444444444444,\"#bd3786\"],[0.5555555555555556,\"#d8576b\"],[0.6666666666666666,\"#ed7953\"],[0.7777777777777778,\"#fb9f3a\"],[0.8888888888888888,\"#fdca26\"],[1.0,\"#f0f921\"]]}],\"contourcarpet\":[{\"type\":\"contourcarpet\",\"colorbar\":{\"outlinewidth\":0,\"ticks\":\"\"}}],\"contour\":[{\"type\":\"contour\",\"colorbar\":{\"outlinewidth\":0,\"ticks\":\"\"},\"colorscale\":[[0.0,\"#0d0887\"],[0.1111111111111111,\"#46039f\"],[0.2222222222222222,\"#7201a8\"],[0.3333333333333333,\"#9c179e\"],[0.4444444444444444,\"#bd3786\"],[0.5555555555555556,\"#d8576b\"],[0.6666666666666666,\"#ed7953\"],[0.7777777777777778,\"#fb9f3a\"],[0.8888888888888888,\"#fdca26\"],[1.0,\"#f0f921\"]]}],\"surface\":[{\"type\":\"surface\",\"colorbar\":{\"outlinewidth\":0,\"ticks\":\"\"},\"colorscale\":[[0.0,\"#0d0887\"],[0.1111111111111111,\"#46039f\"],[0.2222222222222222,\"#7201a8\"],[0.3333333333333333,\"#9c179e\"],[0.4444444444444444,\"#bd3786\"],[0.5555555555555556,\"#d8576b\"],[0.6666666666666666,\"#ed7953\"],[0.7777777777777778,\"#fb9f3a\"],[0.8888888888888888,\"#fdca26\"],[1.0,\"#f0f921\"]]}],\"mesh3d\":[{\"type\":\"mesh3d\",\"colorbar\":{\"outlinewidth\":0,\"ticks\":\"\"}}],\"scatter\":[{\"fillpattern\":{\"fillmode\":\"overlay\",\"size\":10,\"solidity\":0.2},\"type\":\"scatter\"}],\"parcoords\":[{\"type\":\"parcoords\",\"line\":{\"colorbar\":{\"outlinewidth\":0,\"ticks\":\"\"}}}],\"scatterpolargl\":[{\"type\":\"scatterpolargl\",\"marker\":{\"colorbar\":{\"outlinewidth\":0,\"ticks\":\"\"}}}],\"bar\":[{\"error_x\":{\"color\":\"#2a3f5f\"},\"error_y\":{\"color\":\"#2a3f5f\"},\"marker\":{\"line\":{\"color\":\"#E5ECF6\",\"width\":0.5},\"pattern\":{\"fillmode\":\"overlay\",\"size\":10,\"solidity\":0.2}},\"type\":\"bar\"}],\"scattergeo\":[{\"type\":\"scattergeo\",\"marker\":{\"colorbar\":{\"outlinewidth\":0,\"ticks\":\"\"}}}],\"scatterpolar\":[{\"type\":\"scatterpolar\",\"marker\":{\"colorbar\":{\"outlinewidth\":0,\"ticks\":\"\"}}}],\"histogram\":[{\"marker\":{\"pattern\":{\"fillmode\":\"overlay\",\"size\":10,\"solidity\":0.2}},\"type\":\"histogram\"}],\"scattergl\":[{\"type\":\"scattergl\",\"marker\":{\"colorbar\":{\"outlinewidth\":0,\"ticks\":\"\"}}}],\"scatter3d\":[{\"type\":\"scatter3d\",\"line\":{\"colorbar\":{\"outlinewidth\":0,\"ticks\":\"\"}},\"marker\":{\"colorbar\":{\"outlinewidth\":0,\"ticks\":\"\"}}}],\"scattermapbox\":[{\"type\":\"scattermapbox\",\"marker\":{\"colorbar\":{\"outlinewidth\":0,\"ticks\":\"\"}}}],\"scatterternary\":[{\"type\":\"scatterternary\",\"marker\":{\"colorbar\":{\"outlinewidth\":0,\"ticks\":\"\"}}}],\"scattercarpet\":[{\"type\":\"scattercarpet\",\"marker\":{\"colorbar\":{\"outlinewidth\":0,\"ticks\":\"\"}}}],\"carpet\":[{\"aaxis\":{\"endlinecolor\":\"#2a3f5f\",\"gridcolor\":\"white\",\"linecolor\":\"white\",\"minorgridcolor\":\"white\",\"startlinecolor\":\"#2a3f5f\"},\"baxis\":{\"endlinecolor\":\"#2a3f5f\",\"gridcolor\":\"white\",\"linecolor\":\"white\",\"minorgridcolor\":\"white\",\"startlinecolor\":\"#2a3f5f\"},\"type\":\"carpet\"}],\"table\":[{\"cells\":{\"fill\":{\"color\":\"#EBF0F8\"},\"line\":{\"color\":\"white\"}},\"header\":{\"fill\":{\"color\":\"#C8D4E3\"},\"line\":{\"color\":\"white\"}},\"type\":\"table\"}],\"barpolar\":[{\"marker\":{\"line\":{\"color\":\"#E5ECF6\",\"width\":0.5},\"pattern\":{\"fillmode\":\"overlay\",\"size\":10,\"solidity\":0.2}},\"type\":\"barpolar\"}],\"pie\":[{\"automargin\":true,\"type\":\"pie\"}]},\"layout\":{\"autotypenumbers\":\"strict\",\"colorway\":[\"#636efa\",\"#EF553B\",\"#00cc96\",\"#ab63fa\",\"#FFA15A\",\"#19d3f3\",\"#FF6692\",\"#B6E880\",\"#FF97FF\",\"#FECB52\"],\"font\":{\"color\":\"#2a3f5f\"},\"hovermode\":\"closest\",\"hoverlabel\":{\"align\":\"left\"},\"paper_bgcolor\":\"white\",\"plot_bgcolor\":\"#E5ECF6\",\"polar\":{\"bgcolor\":\"#E5ECF6\",\"angularaxis\":{\"gridcolor\":\"white\",\"linecolor\":\"white\",\"ticks\":\"\"},\"radialaxis\":{\"gridcolor\":\"white\",\"linecolor\":\"white\",\"ticks\":\"\"}},\"ternary\":{\"bgcolor\":\"#E5ECF6\",\"aaxis\":{\"gridcolor\":\"white\",\"linecolor\":\"white\",\"ticks\":\"\"},\"baxis\":{\"gridcolor\":\"white\",\"linecolor\":\"white\",\"ticks\":\"\"},\"caxis\":{\"gridcolor\":\"white\",\"linecolor\":\"white\",\"ticks\":\"\"}},\"coloraxis\":{\"colorbar\":{\"outlinewidth\":0,\"ticks\":\"\"}},\"colorscale\":{\"sequential\":[[0.0,\"#0d0887\"],[0.1111111111111111,\"#46039f\"],[0.2222222222222222,\"#7201a8\"],[0.3333333333333333,\"#9c179e\"],[0.4444444444444444,\"#bd3786\"],[0.5555555555555556,\"#d8576b\"],[0.6666666666666666,\"#ed7953\"],[0.7777777777777778,\"#fb9f3a\"],[0.8888888888888888,\"#fdca26\"],[1.0,\"#f0f921\"]],\"sequentialminus\":[[0.0,\"#0d0887\"],[0.1111111111111111,\"#46039f\"],[0.2222222222222222,\"#7201a8\"],[0.3333333333333333,\"#9c179e\"],[0.4444444444444444,\"#bd3786\"],[0.5555555555555556,\"#d8576b\"],[0.6666666666666666,\"#ed7953\"],[0.7777777777777778,\"#fb9f3a\"],[0.8888888888888888,\"#fdca26\"],[1.0,\"#f0f921\"]],\"diverging\":[[0,\"#8e0152\"],[0.1,\"#c51b7d\"],[0.2,\"#de77ae\"],[0.3,\"#f1b6da\"],[0.4,\"#fde0ef\"],[0.5,\"#f7f7f7\"],[0.6,\"#e6f5d0\"],[0.7,\"#b8e186\"],[0.8,\"#7fbc41\"],[0.9,\"#4d9221\"],[1,\"#276419\"]]},\"xaxis\":{\"gridcolor\":\"white\",\"linecolor\":\"white\",\"ticks\":\"\",\"title\":{\"standoff\":15},\"zerolinecolor\":\"white\",\"automargin\":true,\"zerolinewidth\":2},\"yaxis\":{\"gridcolor\":\"white\",\"linecolor\":\"white\",\"ticks\":\"\",\"title\":{\"standoff\":15},\"zerolinecolor\":\"white\",\"automargin\":true,\"zerolinewidth\":2},\"scene\":{\"xaxis\":{\"backgroundcolor\":\"#E5ECF6\",\"gridcolor\":\"white\",\"linecolor\":\"white\",\"showbackground\":true,\"ticks\":\"\",\"zerolinecolor\":\"white\",\"gridwidth\":2},\"yaxis\":{\"backgroundcolor\":\"#E5ECF6\",\"gridcolor\":\"white\",\"linecolor\":\"white\",\"showbackground\":true,\"ticks\":\"\",\"zerolinecolor\":\"white\",\"gridwidth\":2},\"zaxis\":{\"backgroundcolor\":\"#E5ECF6\",\"gridcolor\":\"white\",\"linecolor\":\"white\",\"showbackground\":true,\"ticks\":\"\",\"zerolinecolor\":\"white\",\"gridwidth\":2}},\"shapedefaults\":{\"line\":{\"color\":\"#2a3f5f\"}},\"annotationdefaults\":{\"arrowcolor\":\"#2a3f5f\",\"arrowhead\":0,\"arrowwidth\":1},\"geo\":{\"bgcolor\":\"white\",\"landcolor\":\"#E5ECF6\",\"subunitcolor\":\"white\",\"showland\":true,\"showlakes\":true,\"lakecolor\":\"white\"},\"title\":{\"x\":0.05},\"mapbox\":{\"style\":\"light\"}}}},                        {\"responsive\": true}                    ).then(function(){\n",
              "                            \n",
              "var gd = document.getElementById('f51cea20-548c-4d40-aa5b-f5d1f98d775f');\n",
              "var x = new MutationObserver(function (mutations, observer) {{\n",
              "        var display = window.getComputedStyle(gd).display;\n",
              "        if (!display || display === 'none') {{\n",
              "            console.log([gd, 'removed!']);\n",
              "            Plotly.purge(gd);\n",
              "            observer.disconnect();\n",
              "        }}\n",
              "}});\n",
              "\n",
              "// Listen for the removal of the full notebook cells\n",
              "var notebookContainer = gd.closest('#notebook-container');\n",
              "if (notebookContainer) {{\n",
              "    x.observe(notebookContainer, {childList: true});\n",
              "}}\n",
              "\n",
              "// Listen for the clearing of the current output cell\n",
              "var outputEl = gd.closest('.output');\n",
              "if (outputEl) {{\n",
              "    x.observe(outputEl, {childList: true});\n",
              "}}\n",
              "\n",
              "                        })                };                            </script>        </div>\n",
              "</body>\n",
              "</html>"
            ]
          },
          "metadata": {}
        }
      ]
    },
    {
      "cell_type": "code",
      "source": [
        "import matplotlib.pyplot as plt\n",
        "import pandas as pd\n",
        "\n",
        "df_top.to_excel(\"top_hyperparameters.xlsx\", index=False)\n",
        "fig, ax = plt.subplots()\n",
        "ax.hist(rmse_values, bins=15, edgecolor=\"orange\", alpha=0.5)\n",
        "ax.set_xlabel(\"rmse\")\n",
        "ax.set_ylabel(\"Freq.\")\n",
        "ax.set_title(\"RMSE across trials\")\n",
        "plt.savefig(\"rmse_distribution.png\")\n",
        "\n"
      ],
      "metadata": {
        "colab": {
          "base_uri": "https://localhost:8080/",
          "height": 472
        },
        "id": "klpncNd1QuBB",
        "outputId": "85ed2acf-dbf7-493d-d5bd-f40b52a934f7"
      },
      "execution_count": 10,
      "outputs": [
        {
          "output_type": "display_data",
          "data": {
            "text/plain": [
              "<Figure size 640x480 with 1 Axes>"
            ],
            "image/png": "[encoded data removed]"
          },
          "metadata": {}
        }
      ]
    }
  ]
}