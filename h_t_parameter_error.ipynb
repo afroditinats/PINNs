{
  "nbformat": 4,
  "nbformat_minor": 0,
  "metadata": {
    "colab": {
      "provenance": [],
      "gpuType": "T4",
      "authorship_tag": "ABX9TyO8bzzcGWoSc0PFcMZBst80",
      "include_colab_link": true
    },
    "kernelspec": {
      "name": "python3",
      "display_name": "Python 3"
    },
    "language_info": {
      "name": "python"
    },
    "accelerator": "GPU"
  },
  "cells": [
    {
      "cell_type": "markdown",
      "metadata": {
        "id": "view-in-github",
        "colab_type": "text"
      },
      "source": [
        "<a href=\"https://colab.research.google.com/github/afroditinats/PINNs/blob/main/h_t_parameter_error.ipynb\" target=\"_parent\"><img src=\"https://colab.research.google.com/assets/colab-badge.svg\" alt=\"Open In Colab\"/></a>"
      ]
    },
    {
      "cell_type": "code",
      "execution_count": 1,
      "metadata": {
        "colab": {
          "base_uri": "https://localhost:8080/"
        },
        "id": "FfKEMU1xQadB",
        "outputId": "047d23af-71cc-4656-a371-04a13775b3ec"
      },
      "outputs": [
        {
          "output_type": "stream",
          "name": "stdout",
          "text": [
            "Collecting optuna\n",
            "  Downloading optuna-4.2.1-py3-none-any.whl.metadata (17 kB)\n",
            "Collecting alembic>=1.5.0 (from optuna)\n",
            "  Downloading alembic-1.15.1-py3-none-any.whl.metadata (7.2 kB)\n",
            "Collecting colorlog (from optuna)\n",
            "  Downloading colorlog-6.9.0-py3-none-any.whl.metadata (10 kB)\n",
            "Requirement already satisfied: numpy in /usr/local/lib/python3.11/dist-packages (from optuna) (2.0.2)\n",
            "Requirement already satisfied: packaging>=20.0 in /usr/local/lib/python3.11/dist-packages (from optuna) (24.2)\n",
            "Requirement already satisfied: sqlalchemy>=1.4.2 in /usr/local/lib/python3.11/dist-packages (from optuna) (2.0.39)\n",
            "Requirement already satisfied: tqdm in /usr/local/lib/python3.11/dist-packages (from optuna) (4.67.1)\n",
            "Requirement already satisfied: PyYAML in /usr/local/lib/python3.11/dist-packages (from optuna) (6.0.2)\n",
            "Requirement already satisfied: Mako in /usr/lib/python3/dist-packages (from alembic>=1.5.0->optuna) (1.1.3)\n",
            "Requirement already satisfied: typing-extensions>=4.12 in /usr/local/lib/python3.11/dist-packages (from alembic>=1.5.0->optuna) (4.12.2)\n",
            "Requirement already satisfied: greenlet!=0.4.17 in /usr/local/lib/python3.11/dist-packages (from sqlalchemy>=1.4.2->optuna) (3.1.1)\n",
            "Downloading optuna-4.2.1-py3-none-any.whl (383 kB)\n",
            "\u001b[2K   \u001b[90m━━━━━━━━━━━━━━━━━━━━━━━━━━━━━━━━━━━━━━━━\u001b[0m \u001b[32m383.6/383.6 kB\u001b[0m \u001b[31m6.7 MB/s\u001b[0m eta \u001b[36m0:00:00\u001b[0m\n",
            "\u001b[?25hDownloading alembic-1.15.1-py3-none-any.whl (231 kB)\n",
            "\u001b[2K   \u001b[90m━━━━━━━━━━━━━━━━━━━━━━━━━━━━━━━━━━━━━━━━\u001b[0m \u001b[32m231.8/231.8 kB\u001b[0m \u001b[31m17.3 MB/s\u001b[0m eta \u001b[36m0:00:00\u001b[0m\n",
            "\u001b[?25hDownloading colorlog-6.9.0-py3-none-any.whl (11 kB)\n",
            "Installing collected packages: colorlog, alembic, optuna\n",
            "Successfully installed alembic-1.15.1 colorlog-6.9.0 optuna-4.2.1\n"
          ]
        }
      ],
      "source": [
        "pip install optuna"
      ]
    },
    {
      "cell_type": "code",
      "source": [
        "import optuna\n",
        "import torch\n",
        "import numpy as np\n",
        "import time\n",
        "import joblib\n",
        "import pandas as pd\n",
        "import os\n",
        "from modules import Model\n",
        "from data import get_data\n",
        "from pinn import PINN_experiment\n",
        "os.environ[\"TORCHDYNAMO_DISABLE\"] = \"1\"\n",
        "optimizers = {\"AdamW\": torch.optim.AdamW,\"SGD\": torch.optim.SGD,\"LBFGS\": torch.optim.LBFGS,}\n",
        "\n",
        "def modify_network(layers, neurons):\n",
        "    activation = torch.nn.Tanh\n",
        "    network = [torch.nn.Linear(2, neurons).double(), activation().double()]\n",
        "    for _ in range(layers - 2):\n",
        "        network.append(torch.nn.Linear(neurons, neurons).double())\n",
        "        network.append(activation().double())\n",
        "    network.append(torch.nn.Linear(neurons, 1).double())\n",
        "    return torch.nn.Sequential(*network)\n",
        "\n",
        "def objective(trial):\n",
        "    layers = trial.suggest_int(\"layers\", 3, 50)\n",
        "    neurons = trial.suggest_int(\"neurons\", 5, 50)\n",
        "    optimizer_name = trial.suggest_categorical(\"optimizer\", list(optimizers.keys()))\n",
        "    iterations = trial.suggest_int(\"iterations\", 1000, 10000)\n",
        "\n",
        "    viscosity = -1.0 #initial\n",
        "    optimizer = optimizers[optimizer_name]\n",
        "\n",
        "    Model.create_network = lambda self: modify_network(layers, neurons) #standard nn we use\n",
        "    model = Model()\n",
        "    model.adam_optimizer = torch.optim.AdamW(model.network.parameters())\n",
        "    model.visc = torch.nn.Parameter(torch.tensor([viscosity], dtype=torch.double))\n",
        "    model.network.register_parameter(\"visc\", model.visc)\n",
        "    model.lbfgs_optimizer = optimizer(model.network.parameters())\n",
        "\n",
        "    data = get_data()\n",
        "    start_time = time.time()\n",
        "    PINN_experiment(data, [0.0], verbose=False, rerun=True)\n",
        "    all_results = np.load(\"./results/pinn_results.npy\", allow_pickle=True)\n",
        "    rmse = all_results[0][-1]\n",
        "    estimated_viscosity = all_results[1][-1]\n",
        "    param_error = all_results[2][-1]\n",
        "    run_time = time.time() - start_time\n",
        "    trial.set_user_attr(\"RMSE\", rmse)\n",
        "    trial.set_user_attr(\"Estimated Viscosity\", estimated_viscosity)\n",
        "    trial.set_user_attr(\"Parameter Error\", param_error)\n",
        "    trial.set_user_attr(\"Runtime\", run_time)\n",
        "    print(f\"[ParamError] RMSE={rmse}, Viscosity={estimated_viscosity}, Param Error={param_error}, Time={run_time:.2f}s\")\n",
        "    return param_error\n",
        "\n",
        "study = optuna.create_study(direction=\"minimize\")  #minimize ==> i want to find the lowest param errors\n",
        "study.optimize(objective, n_trials=50, n_jobs=4) #trials=50 (takes 1 day to finish while parallel coding /n_jobs=4)\n",
        "joblib.dump(study, \"optuna_param_error.pkl\")\n",
        "\n",
        "df = pd.DataFrame([\n",
        "    {\"Parameter Error\": t.user_attrs.get(\"Parameter Error\"), \"RMSE\": t.user_attrs.get(\"RMSE\"), \"Estimated Viscosity\": t.user_attrs.get(\"Estimated Viscosity\"),\"Runtime (s)\": t.user_attrs.get(\"Runtime\"), \"Layers\": t.params[\"layers\"],\"Neurons\": t.params[\"neurons\"],\"Optimizer\": t.params[\"optimizer\"],\"Iterations\": t.params[\"iterations\"]}\n",
        "    for t in study.trials\n",
        "])\n",
        "df.to_csv(\"optuna_param_error_results.csv\", index=False)\n",
        "print(\"Saved Parameter Error study and results.\")\n"
      ],
      "metadata": {
        "colab": {
          "base_uri": "https://localhost:8080/"
        },
        "id": "l2vnAYGdQzj9",
        "outputId": "86a3271e-6a22-46cd-a156-19646cf57873"
      },
      "execution_count": 3,
      "outputs": [
        {
          "output_type": "stream",
          "name": "stderr",
          "text": [
            "[I 2025-03-23 23:09:00,153] A new study created in memory with name: no-name-90aecd2d-98e4-4021-b174-63619bcb124a\n"
          ]
        },
        {
          "output_type": "stream",
          "name": "stdout",
          "text": [
            "Loaded data.\n",
            "Loaded data.\n",
            "Loaded data.\n",
            "Loaded data.\n"
          ]
        },
        {
          "output_type": "stream",
          "name": "stderr",
          "text": [
            "[I 2025-03-24 00:23:04,760] Trial 3 finished with value: 4.6274631884744494e-09 and parameters: {'layers': 14, 'neurons': 35, 'optimizer': 'SGD', 'iterations': 7000}. Best is trial 3 with value: 4.6274631884744494e-09.\n"
          ]
        },
        {
          "output_type": "stream",
          "name": "stdout",
          "text": [
            "PINN test complete.\n",
            "[ParamError] RMSE=3.659834628252739e-05, Viscosity=0.003115073401982979, Param Error=4.6274631884744494e-09, Time=4443.76s\n",
            "Loaded data.\n"
          ]
        },
        {
          "output_type": "stream",
          "name": "stderr",
          "text": [
            "[I 2025-03-24 00:23:20,970] Trial 0 finished with value: 1.0616905673291544e-08 and parameters: {'layers': 40, 'neurons': 16, 'optimizer': 'LBFGS', 'iterations': 9898}. Best is trial 3 with value: 4.6274631884744494e-09.\n"
          ]
        },
        {
          "output_type": "stream",
          "name": "stdout",
          "text": [
            "PINN test complete.\n",
            "[ParamError] RMSE=3.937325706003887e-05, Viscosity=0.0030800604919299377, Param Error=1.0616905673291544e-08, Time=4460.01s\n",
            "Loaded data.\n"
          ]
        },
        {
          "output_type": "stream",
          "name": "stderr",
          "text": [
            "[I 2025-03-24 00:23:27,588] Trial 2 finished with value: 8.671760601124216e-09 and parameters: {'layers': 28, 'neurons': 22, 'optimizer': 'AdamW', 'iterations': 2982}. Best is trial 3 with value: 4.6274631884744494e-09.\n"
          ]
        },
        {
          "output_type": "stream",
          "name": "stdout",
          "text": [
            "PINN test complete.\n",
            "[ParamError] RMSE=3.5143022706017614e-05, Viscosity=0.0030899765734149725, Param Error=8.671760601124216e-09, Time=4466.19s\n",
            "Loaded data.\n"
          ]
        },
        {
          "output_type": "stream",
          "name": "stderr",
          "text": [
            "[I 2025-03-24 00:24:48,961] Trial 1 finished with value: 1.7544916841170439e-07 and parameters: {'layers': 16, 'neurons': 35, 'optimizer': 'SGD', 'iterations': 1927}. Best is trial 3 with value: 4.6274631884744494e-09.\n"
          ]
        },
        {
          "output_type": "stream",
          "name": "stdout",
          "text": [
            "PINN test complete.\n",
            "[ParamError] RMSE=0.0001344083412088059, Viscosity=0.003601965389996585, Param Error=1.7544916841170439e-07, Time=4548.18s\n",
            "Loaded data.\n"
          ]
        },
        {
          "output_type": "stream",
          "name": "stderr",
          "text": [
            "[I 2025-03-24 00:57:28,435] Trial 7 finished with value: 4.081308234604021e-06 and parameters: {'layers': 21, 'neurons': 10, 'optimizer': 'AdamW', 'iterations': 2228}. Best is trial 3 with value: 4.6274631884744494e-09.\n"
          ]
        },
        {
          "output_type": "stream",
          "name": "stdout",
          "text": [
            "PINN test complete.\n",
            "[ParamError] RMSE=0.006037159692341492, Viscosity=0.0011628740638008122, Param Error=4.081308234604021e-06, Time=1958.61s\n",
            "Loaded data.\n"
          ]
        },
        {
          "output_type": "stream",
          "name": "stderr",
          "text": [
            "[I 2025-03-24 00:59:15,702] Trial 0 finished with value: 3.367263288857497e-11 and parameters: {'layers': 13, 'neurons': 19, 'optimizer': 'SGD', 'iterations': 1276}. Best is trial 0 with value: 3.367263288857497e-11.\n"
          ]
        },
        {
          "output_type": "stream",
          "name": "stdout",
          "text": [
            "PINN test complete.\n",
            "[ParamError] RMSE=4.4966424236441356e-05, Viscosity=0.0031889016743360476, Param Error=3.367263288857497e-11, Time=6656.69s\n"
          ]
        },
        {
          "output_type": "stream",
          "name": "stderr",
          "text": [
            "[I 2025-03-24 01:03:20,377] Trial 1 finished with value: 1.955637722947797e-09 and parameters: {'layers': 16, 'neurons': 48, 'optimizer': 'SGD', 'iterations': 9519}. Best is trial 0 with value: 3.367263288857497e-11.\n"
          ]
        },
        {
          "output_type": "stream",
          "name": "stdout",
          "text": [
            "PINN test complete.\n",
            "[ParamError] RMSE=4.362206013026375e-05, Viscosity=0.0031388762689362262, Param Error=1.955637722947797e-09, Time=6901.47s\n"
          ]
        },
        {
          "output_type": "stream",
          "name": "stderr",
          "text": [
            "[I 2025-03-24 01:03:34,067] Trial 8 finished with value: 1.8681147556411642e-07 and parameters: {'layers': 4, 'neurons': 12, 'optimizer': 'AdamW', 'iterations': 8998}. Best is trial 3 with value: 4.6274631884744494e-09.\n"
          ]
        },
        {
          "output_type": "stream",
          "name": "stdout",
          "text": [
            "PINN test complete.\n",
            "[ParamError] RMSE=6.064376528653186e-05, Viscosity=0.00361531579297795, Param Error=1.8681147556411642e-07, Time=364.76s\n",
            "Loaded data.\n"
          ]
        },
        {
          "output_type": "stream",
          "name": "stderr",
          "text": [
            "[I 2025-03-24 01:11:57,086] Trial 6 finished with value: 0.01029996801627602 and parameters: {'layers': 40, 'neurons': 18, 'optimizer': 'LBFGS', 'iterations': 8640}. Best is trial 3 with value: 4.6274631884744494e-09.\n"
          ]
        },
        {
          "output_type": "stream",
          "name": "stdout",
          "text": [
            "PINN test complete.\n",
            "[ParamError] RMSE=0.37746393853854426, Viscosity=0.10467185694013946, Param Error=0.01029996801627602, Time=2908.74s\n",
            "Loaded data.\n"
          ]
        },
        {
          "output_type": "stream",
          "name": "stderr",
          "text": [
            "[I 2025-03-24 01:27:34,588] Trial 4 finished with value: 5.29839592939418e-10 and parameters: {'layers': 12, 'neurons': 42, 'optimizer': 'AdamW', 'iterations': 4048}. Best is trial 4 with value: 5.29839592939418e-10.\n"
          ]
        },
        {
          "output_type": "stream",
          "name": "stdout",
          "text": [
            "PINN test complete.\n",
            "[ParamError] RMSE=6.33144476530466e-05, Viscosity=0.003160080617053836, Param Error=5.29839592939418e-10, Time=3868.88s\n",
            "Loaded data.\n"
          ]
        },
        {
          "output_type": "stream",
          "name": "stderr",
          "text": [
            "[I 2025-03-24 01:43:23,496] Trial 5 finished with value: 8.749676830640965e-07 and parameters: {'layers': 37, 'neurons': 17, 'optimizer': 'AdamW', 'iterations': 2283}. Best is trial 4 with value: 5.29839592939418e-10.\n"
          ]
        },
        {
          "output_type": "stream",
          "name": "stdout",
          "text": [
            "PINN test complete.\n",
            "[ParamError] RMSE=0.004497642315860334, Viscosity=0.0022477017894327726, Param Error=8.749676830640965e-07, Time=4801.82s\n",
            "Loaded data.\n"
          ]
        },
        {
          "output_type": "stream",
          "name": "stderr",
          "text": [
            "[I 2025-03-24 02:56:29,830] Trial 10 finished with value: 0.008329505360127349 and parameters: {'layers': 37, 'neurons': 42, 'optimizer': 'SGD', 'iterations': 2836}. Best is trial 4 with value: 5.29839592939418e-10.\n"
          ]
        },
        {
          "output_type": "stream",
          "name": "stdout",
          "text": [
            "PINN test complete.\n",
            "[ParamError] RMSE=0.37746393955799135, Viscosity=0.09444922269827213, Param Error=0.008329505360127349, Time=6272.00s\n",
            "Loaded data.\n"
          ]
        },
        {
          "output_type": "stream",
          "name": "stderr",
          "text": [
            "[I 2025-03-24 02:57:48,389] Trial 11 finished with value: 0.01029996801627602 and parameters: {'layers': 41, 'neurons': 43, 'optimizer': 'SGD', 'iterations': 7466}. Best is trial 4 with value: 5.29839592939418e-10.\n"
          ]
        },
        {
          "output_type": "stream",
          "name": "stdout",
          "text": [
            "PINN test complete.\n",
            "[ParamError] RMSE=0.37746393853472476, Viscosity=0.10467185694013946, Param Error=0.01029996801627602, Time=5413.50s\n",
            "Loaded data.\n"
          ]
        },
        {
          "output_type": "stream",
          "name": "stderr",
          "text": [
            "[I 2025-03-24 03:08:30,752] Trial 13 finished with value: 1.1115812578969887e-05 and parameters: {'layers': 3, 'neurons': 49, 'optimizer': 'AdamW', 'iterations': 4884}. Best is trial 4 with value: 5.29839592939418e-10.\n"
          ]
        },
        {
          "output_type": "stream",
          "name": "stdout",
          "text": [
            "PINN test complete.\n",
            "[ParamError] RMSE=0.0009646033263267319, Viscosity=0.0065171373407655105, Param Error=1.1115812578969887e-05, Time=720.04s\n",
            "Loaded data.\n"
          ]
        },
        {
          "output_type": "stream",
          "name": "stderr",
          "text": [
            "[I 2025-03-24 03:16:06,943] Trial 14 finished with value: 6.304759686443262e-09 and parameters: {'layers': 7, 'neurons': 32, 'optimizer': 'SGD', 'iterations': 5470}. Best is trial 4 with value: 5.29839592939418e-10.\n"
          ]
        },
        {
          "output_type": "stream",
          "name": "stdout",
          "text": [
            "PINN test complete.\n",
            "[ParamError] RMSE=4.263971113493462e-05, Viscosity=0.003103696344960649, Param Error=6.304759686443262e-09, Time=1098.01s\n",
            "Loaded data.\n"
          ]
        },
        {
          "output_type": "stream",
          "name": "stderr",
          "text": [
            "[I 2025-03-24 03:25:46,225] Trial 9 finished with value: 2.703572802260244e-12 and parameters: {'layers': 28, 'neurons': 47, 'optimizer': 'LBFGS', 'iterations': 2637}. Best is trial 9 with value: 2.703572802260244e-12.\n"
          ]
        },
        {
          "output_type": "stream",
          "name": "stdout",
          "text": [
            "PINN test complete.\n",
            "[ParamError] RMSE=5.546465642951103e-05, Viscosity=0.003184743116320115, Param Error=2.703572802260244e-12, Time=8531.73s\n",
            "Loaded data.\n"
          ]
        },
        {
          "output_type": "stream",
          "name": "stderr",
          "text": [
            "[I 2025-03-24 03:50:40,102] Trial 15 finished with value: 1.1076645178290256e-08 and parameters: {'layers': 13, 'neurons': 31, 'optimizer': 'SGD', 'iterations': 5615}. Best is trial 9 with value: 2.703572802260244e-12.\n"
          ]
        },
        {
          "output_type": "stream",
          "name": "stdout",
          "text": [
            "PINN test complete.\n",
            "[ParamError] RMSE=4.092079396776965e-05, Viscosity=0.0032883445039248375, Param Error=1.1076645178290256e-08, Time=2528.91s\n",
            "Loaded data.\n"
          ]
        },
        {
          "output_type": "stream",
          "name": "stderr",
          "text": [
            "[I 2025-03-24 03:53:56,954] Trial 12 finished with value: 0.01029996801627602 and parameters: {'layers': 48, 'neurons': 47, 'optimizer': 'SGD', 'iterations': 2813}. Best is trial 9 with value: 2.703572802260244e-12.\n"
          ]
        },
        {
          "output_type": "stream",
          "name": "stdout",
          "text": [
            "PINN test complete.\n",
            "[ParamError] RMSE=0.37746393853843463, Viscosity=0.10467185694013946, Param Error=0.01029996801627602, Time=7832.60s\n",
            "Loaded data.\n"
          ]
        },
        {
          "output_type": "stream",
          "name": "stderr",
          "text": [
            "[I 2025-03-24 03:58:31,644] Trial 16 finished with value: 1.378220561584496e-08 and parameters: {'layers': 13, 'neurons': 36, 'optimizer': 'SGD', 'iterations': 7073}. Best is trial 9 with value: 2.703572802260244e-12.\n"
          ]
        },
        {
          "output_type": "stream",
          "name": "stdout",
          "text": [
            "PINN test complete.\n",
            "[ParamError] RMSE=4.596085827045697e-05, Viscosity=0.0030657012229526, Param Error=1.378220561584496e-08, Time=2543.97s\n",
            "Loaded data.\n"
          ]
        },
        {
          "output_type": "stream",
          "name": "stderr",
          "text": [
            "[I 2025-03-24 05:47:28,818] Trial 20 finished with value: 1.52433380658134e-08 and parameters: {'layers': 26, 'neurons': 42, 'optimizer': 'LBFGS', 'iterations': 4066}. Best is trial 9 with value: 2.703572802260244e-12.\n"
          ]
        },
        {
          "output_type": "stream",
          "name": "stdout",
          "text": [
            "PINN test complete.\n",
            "[ParamError] RMSE=5.657871766436499e-05, Viscosity=0.0030596349478151717, Param Error=1.52433380658134e-08, Time=6536.55s\n",
            "Loaded data.\n"
          ]
        },
        {
          "output_type": "stream",
          "name": "stderr",
          "text": [
            "[I 2025-03-24 06:05:35,202] Trial 17 finished with value: 1.7950394868015408e-09 and parameters: {'layers': 29, 'neurons': 50, 'optimizer': 'LBFGS', 'iterations': 4155}. Best is trial 9 with value: 2.703572802260244e-12.\n"
          ]
        },
        {
          "output_type": "stream",
          "name": "stdout",
          "text": [
            "PINN test complete.\n",
            "[ParamError] RMSE=4.639161820016837e-05, Viscosity=0.0031407309555077432, Param Error=1.7950394868015408e-09, Time=9588.49s\n",
            "Loaded data.\n"
          ]
        },
        {
          "output_type": "stream",
          "name": "stderr",
          "text": [
            "[I 2025-03-24 06:08:51,884] Trial 19 finished with value: 4.233300220942929e-06 and parameters: {'layers': 28, 'neurons': 42, 'optimizer': 'LBFGS', 'iterations': 3907}. Best is trial 9 with value: 2.703572802260244e-12.\n"
          ]
        },
        {
          "output_type": "stream",
          "name": "stdout",
          "text": [
            "PINN test complete.\n",
            "[ParamError] RMSE=0.005342413649132722, Viscosity=0.0011256003269798796, Param Error=4.233300220942929e-06, Time=8094.27s\n",
            "Loaded data.\n"
          ]
        },
        {
          "output_type": "stream",
          "name": "stderr",
          "text": [
            "[I 2025-03-24 06:25:55,050] Trial 23 finished with value: 0.00012403469523756326 and parameters: {'layers': 22, 'neurons': 5, 'optimizer': 'LBFGS', 'iterations': 1679}. Best is trial 9 with value: 2.703572802260244e-12.\n"
          ]
        },
        {
          "output_type": "stream",
          "name": "stdout",
          "text": [
            "PINN test complete.\n",
            "[ParamError] RMSE=0.019095823004437306, Viscosity=0.014320185340695978, Param Error=0.00012403469523756326, Time=1022.62s\n",
            "Loaded data.\n"
          ]
        },
        {
          "output_type": "stream",
          "name": "stderr",
          "text": [
            "[I 2025-03-24 06:45:08,938] Trial 18 finished with value: 2.211035885662e-06 and parameters: {'layers': 29, 'neurons': 50, 'optimizer': 'LBFGS', 'iterations': 3872}. Best is trial 9 with value: 2.703572802260244e-12.\n"
          ]
        },
        {
          "output_type": "stream",
          "name": "stdout",
          "text": [
            "PINN test complete.\n",
            "[ParamError] RMSE=0.005276180191806895, Viscosity=0.001696143621872023, Param Error=2.211035885662e-06, Time=10467.92s\n",
            "Loaded data.\n"
          ]
        },
        {
          "output_type": "stream",
          "name": "stderr",
          "text": [
            "[I 2025-03-24 06:59:16,609] Trial 22 finished with value: 5.5829478338641284e-09 and parameters: {'layers': 22, 'neurons': 26, 'optimizer': 'LBFGS', 'iterations': 3813}. Best is trial 9 with value: 2.703572802260244e-12.\n"
          ]
        },
        {
          "output_type": "stream",
          "name": "stdout",
          "text": [
            "PINN test complete.\n",
            "[ParamError] RMSE=5.8322436398914226e-05, Viscosity=0.0032578179881300696, Param Error=5.5829478338641284e-09, Time=3221.10s\n",
            "Loaded data.\n"
          ]
        },
        {
          "output_type": "stream",
          "name": "stderr",
          "text": [
            "[I 2025-03-24 08:30:59,716] Trial 21 finished with value: 2.0575959241241975e-06 and parameters: {'layers': 29, 'neurons': 50, 'optimizer': 'LBFGS', 'iterations': 1244}. Best is trial 9 with value: 2.703572802260244e-12.\n"
          ]
        },
        {
          "output_type": "stream",
          "name": "stdout",
          "text": [
            "PINN test complete.\n",
            "[ParamError] RMSE=0.0034920295074055254, Viscosity=0.0017486665964017878, Param Error=2.0575959241241975e-06, Time=9809.04s\n",
            "Loaded data.\n"
          ]
        },
        {
          "output_type": "stream",
          "name": "stderr",
          "text": [
            "[I 2025-03-24 09:48:29,954] Trial 24 finished with value: 4.658273699792024e-07 and parameters: {'layers': 32, 'neurons': 50, 'optimizer': 'LBFGS', 'iterations': 1103}. Best is trial 9 with value: 2.703572802260244e-12.\n"
          ]
        },
        {
          "output_type": "stream",
          "name": "stdout",
          "text": [
            "PINN test complete.\n",
            "[ParamError] RMSE=0.0001902373563213296, Viscosity=0.0038656143341747637, Param Error=4.658273699792024e-07, Time=12154.32s\n",
            "Loaded data.\n"
          ]
        },
        {
          "output_type": "stream",
          "name": "stderr",
          "text": [
            "[I 2025-03-24 09:53:54,611] Trial 26 finished with value: 2.208524355886236e-06 and parameters: {'layers': 34, 'neurons': 46, 'optimizer': 'LBFGS', 'iterations': 1021}. Best is trial 9 with value: 2.703572802260244e-12.\n"
          ]
        },
        {
          "output_type": "stream",
          "name": "stdout",
          "text": [
            "PINN test complete.\n",
            "[ParamError] RMSE=0.003076081832723975, Viscosity=0.001696988382806743, Param Error=2.208524355886236e-06, Time=10477.31s\n",
            "Loaded data.\n"
          ]
        },
        {
          "output_type": "stream",
          "name": "stderr",
          "text": [
            "[I 2025-03-24 09:54:33,562] Trial 25 finished with value: 7.986205390628863e-09 and parameters: {'layers': 34, 'neurons': 46, 'optimizer': 'LBFGS', 'iterations': 4703}. Best is trial 9 with value: 2.703572802260244e-12.\n"
          ]
        },
        {
          "output_type": "stream",
          "name": "stdout",
          "text": [
            "PINN test complete.\n",
            "[ParamError] RMSE=0.00015067957519139278, Viscosity=0.003272464433456002, Param Error=7.986205390628863e-09, Time=11363.57s\n",
            "Loaded data.\n"
          ]
        },
        {
          "output_type": "stream",
          "name": "stderr",
          "text": [
            "[I 2025-03-24 11:01:05,225] Trial 29 finished with value: 1.207178321951724e-10 and parameters: {'layers': 17, 'neurons': 39, 'optimizer': 'AdamW', 'iterations': 4888}. Best is trial 9 with value: 2.703572802260244e-12.\n"
          ]
        },
        {
          "output_type": "stream",
          "name": "stdout",
          "text": [
            "PINN test complete.\n",
            "[ParamError] RMSE=6.197089070218955e-05, Viscosity=0.00319408602854253, Param Error=1.207178321951724e-10, Time=4029.97s\n",
            "Loaded data.\n"
          ]
        },
        {
          "output_type": "stream",
          "name": "stderr",
          "text": [
            "[I 2025-03-24 11:13:54,500] Trial 30 finished with value: 3.7841096832573445e-09 and parameters: {'layers': 19, 'neurons': 40, 'optimizer': 'AdamW', 'iterations': 6039}. Best is trial 9 with value: 2.703572802260244e-12.\n"
          ]
        },
        {
          "output_type": "stream",
          "name": "stdout",
          "text": [
            "PINN test complete.\n",
            "[ParamError] RMSE=6.83918552706657e-05, Viscosity=0.0031215837443198747, Param Error=3.7841096832573445e-09, Time=4760.08s\n",
            "Loaded data.\n"
          ]
        },
        {
          "output_type": "stream",
          "name": "stderr",
          "text": [
            "[I 2025-03-24 11:16:18,296] Trial 27 finished with value: 3.319188825014516e-08 and parameters: {'layers': 33, 'neurons': 45, 'optimizer': 'AdamW', 'iterations': 4484}. Best is trial 9 with value: 2.703572802260244e-12.\n"
          ]
        },
        {
          "output_type": "stream",
          "name": "stdout",
          "text": [
            "PINN test complete.\n",
            "[ParamError] RMSE=4.299336741766336e-05, Viscosity=0.003365285272555461, Param Error=3.319188825014516e-08, Time=9917.88s\n",
            "Loaded data.\n"
          ]
        },
        {
          "output_type": "stream",
          "name": "stderr",
          "text": [
            "[I 2025-03-24 11:22:45,363] Trial 28 finished with value: 8.844134689300757e-09 and parameters: {'layers': 18, 'neurons': 45, 'optimizer': 'AdamW', 'iterations': 4930}. Best is trial 9 with value: 2.703572802260244e-12.\n"
          ]
        },
        {
          "output_type": "stream",
          "name": "stdout",
          "text": [
            "PINN test complete.\n",
            "[ParamError] RMSE=3.9221035176166656e-05, Viscosity=0.003089055602168217, Param Error=8.844134689300757e-09, Time=5654.72s\n",
            "Loaded data.\n"
          ]
        },
        {
          "output_type": "stream",
          "name": "stderr",
          "text": [
            "[I 2025-03-24 11:33:48,674] Trial 31 finished with value: 2.435085145728222e-09 and parameters: {'layers': 9, 'neurons': 38, 'optimizer': 'AdamW', 'iterations': 6280}. Best is trial 9 with value: 2.703572802260244e-12.\n"
          ]
        },
        {
          "output_type": "stream",
          "name": "stdout",
          "text": [
            "PINN test complete.\n",
            "[ParamError] RMSE=4.166618362707579e-05, Viscosity=0.003133752279932691, Param Error=2.435085145728222e-09, Time=1962.83s\n",
            "Loaded data.\n"
          ]
        },
        {
          "output_type": "stream",
          "name": "stderr",
          "text": [
            "[I 2025-03-24 11:45:58,944] Trial 32 finished with value: 3.1810746676667605e-10 and parameters: {'layers': 8, 'neurons': 38, 'optimizer': 'AdamW', 'iterations': 3318}. Best is trial 9 with value: 2.703572802260244e-12.\n"
          ]
        },
        {
          "output_type": "stream",
          "name": "stdout",
          "text": [
            "PINN test complete.\n",
            "[ParamError] RMSE=3.2927684172068424e-05, Viscosity=0.003165263294373801, Param Error=3.1810746676667605e-10, Time=1923.76s\n",
            "Loaded data.\n"
          ]
        },
        {
          "output_type": "stream",
          "name": "stderr",
          "text": [
            "[I 2025-03-24 11:47:36,134] Trial 33 finished with value: 8.153170011880638e-09 and parameters: {'layers': 9, 'neurons': 38, 'optimizer': 'AdamW', 'iterations': 6371}. Best is trial 9 with value: 2.703572802260244e-12.\n"
          ]
        },
        {
          "output_type": "stream",
          "name": "stdout",
          "text": [
            "PINN test complete.\n",
            "[ParamError] RMSE=3.094037200056991e-05, Viscosity=0.0030928039560464914, Param Error=8.153170011880638e-09, Time=1877.32s\n",
            "Loaded data.\n"
          ]
        },
        {
          "output_type": "stream",
          "name": "stderr",
          "text": [
            "[I 2025-03-24 12:22:28,928] Trial 36 finished with value: 5.254169609517753e-09 and parameters: {'layers': 9, 'neurons': 39, 'optimizer': 'AdamW', 'iterations': 3274}. Best is trial 9 with value: 2.703572802260244e-12.\n"
          ]
        },
        {
          "output_type": "stream",
          "name": "stdout",
          "text": [
            "PINN test complete.\n",
            "[ParamError] RMSE=7.47347135075294e-05, Viscosity=0.00311061321077842, Param Error=5.254169609517753e-09, Time=2189.69s\n",
            "Loaded data.\n"
          ]
        },
        {
          "output_type": "stream",
          "name": "stderr",
          "text": [
            "[I 2025-03-24 12:28:36,995] Trial 37 finished with value: 9.057274114343075e-10 and parameters: {'layers': 15, 'neurons': 30, 'optimizer': 'AdamW', 'iterations': 3181}. Best is trial 9 with value: 2.703572802260244e-12.\n"
          ]
        },
        {
          "output_type": "stream",
          "name": "stdout",
          "text": [
            "PINN test complete.\n",
            "[ParamError] RMSE=6.29166660030483e-05, Viscosity=0.0031530035563662176, Param Error=9.057274114343075e-10, Time=2460.52s\n",
            "Loaded data.\n"
          ]
        },
        {
          "output_type": "stream",
          "name": "stderr",
          "text": [
            "[I 2025-03-24 13:07:34,231] Trial 35 finished with value: 1.232990855388392e-08 and parameters: {'layers': 24, 'neurons': 39, 'optimizer': 'AdamW', 'iterations': 3231}. Best is trial 9 with value: 2.703572802260244e-12.\n"
          ]
        },
        {
          "output_type": "stream",
          "name": "stdout",
          "text": [
            "PINN test complete.\n",
            "[ParamError] RMSE=5.576165190274207e-05, Viscosity=0.0032941389832079953, Param Error=1.232990855388392e-08, Time=5624.95s\n",
            "Loaded data.\n"
          ]
        },
        {
          "output_type": "stream",
          "name": "stderr",
          "text": [
            "[I 2025-03-24 13:09:08,367] Trial 34 finished with value: 2.8256232131004165e-09 and parameters: {'layers': 25, 'neurons': 38, 'optimizer': 'AdamW', 'iterations': 3431}. Best is trial 9 with value: 2.703572802260244e-12.\n"
          ]
        },
        {
          "output_type": "stream",
          "name": "stdout",
          "text": [
            "PINN test complete.\n",
            "[ParamError] RMSE=3.847945257392237e-05, Viscosity=0.003129942270401845, Param Error=2.8256232131004165e-09, Time=6382.51s\n",
            "Loaded data.\n"
          ]
        },
        {
          "output_type": "stream",
          "name": "stderr",
          "text": [
            "[I 2025-03-24 13:12:32,374] Trial 38 finished with value: 2.1878602409425137e-08 and parameters: {'layers': 16, 'neurons': 32, 'optimizer': 'AdamW', 'iterations': 3361}. Best is trial 9 with value: 2.703572802260244e-12.\n"
          ]
        },
        {
          "output_type": "stream",
          "name": "stdout",
          "text": [
            "PINN test complete.\n",
            "[ParamError] RMSE=7.085895830561914e-05, Viscosity=0.0033310130342806624, Param Error=2.1878602409425137e-08, Time=3002.62s\n",
            "Loaded data.\n"
          ]
        },
        {
          "output_type": "stream",
          "name": "stderr",
          "text": [
            "[I 2025-03-24 13:43:12,376] Trial 40 finished with value: 8.350553152954898e-09 and parameters: {'layers': 11, 'neurons': 34, 'optimizer': 'AdamW', 'iterations': 2537}. Best is trial 9 with value: 2.703572802260244e-12.\n"
          ]
        },
        {
          "output_type": "stream",
          "name": "stdout",
          "text": [
            "PINN test complete.\n",
            "[ParamError] RMSE=6.407606207477701e-05, Viscosity=0.003091717500757242, Param Error=8.350553152954898e-09, Time=2137.41s\n",
            "Loaded data.\n"
          ]
        },
        {
          "output_type": "stream",
          "name": "stderr",
          "text": [
            "[I 2025-03-24 13:43:33,538] Trial 42 finished with value: 4.078790200228103e-09 and parameters: {'layers': 12, 'neurons': 25, 'optimizer': 'AdamW', 'iterations': 2608}. Best is trial 9 with value: 2.703572802260244e-12.\n"
          ]
        },
        {
          "output_type": "stream",
          "name": "stdout",
          "text": [
            "PINN test complete.\n",
            "[ParamError] RMSE=4.312264327133061e-05, Viscosity=0.003119233454924398, Param Error=4.078790200228103e-09, Time=1860.83s\n",
            "Loaded data.\n"
          ]
        },
        {
          "output_type": "stream",
          "name": "stderr",
          "text": [
            "[I 2025-03-24 13:51:38,708] Trial 39 finished with value: 2.7644232171989514e-08 and parameters: {'layers': 25, 'neurons': 34, 'optimizer': 'AdamW', 'iterations': 2514}. Best is trial 9 with value: 2.703572802260244e-12.\n"
          ]
        },
        {
          "output_type": "stream",
          "name": "stdout",
          "text": [
            "PINN test complete.\n",
            "[ParamError] RMSE=5.674285202949632e-05, Viscosity=0.003016833314679184, Param Error=2.7644232171989514e-08, Time=4981.32s\n",
            "Loaded data.\n"
          ]
        },
        {
          "output_type": "stream",
          "name": "stderr",
          "text": [
            "[I 2025-03-24 13:55:04,641] Trial 43 finished with value: 2.383584278615371e-10 and parameters: {'layers': 6, 'neurons': 23, 'optimizer': 'AdamW', 'iterations': 2008}. Best is trial 9 with value: 2.703572802260244e-12.\n"
          ]
        },
        {
          "output_type": "stream",
          "name": "stdout",
          "text": [
            "PINN test complete.\n",
            "[ParamError] RMSE=3.6250112730738854e-05, Viscosity=0.0031985377228017716, Param Error=2.383584278615371e-10, Time=711.91s\n",
            "Loaded data.\n"
          ]
        },
        {
          "output_type": "stream",
          "name": "stderr",
          "text": [
            "[I 2025-03-24 13:59:35,105] Trial 44 finished with value: 7.629553080918018e-11 and parameters: {'layers': 5, 'neurons': 34, 'optimizer': 'AdamW', 'iterations': 1842}. Best is trial 9 with value: 2.703572802260244e-12.\n"
          ]
        },
        {
          "output_type": "stream",
          "name": "stdout",
          "text": [
            "PINN test complete.\n",
            "[ParamError] RMSE=5.756870216276866e-05, Viscosity=0.00319183359313367, Param Error=7.629553080918018e-11, Time=960.94s\n",
            "Loaded data.\n"
          ]
        },
        {
          "output_type": "stream",
          "name": "stderr",
          "text": [
            "[I 2025-03-24 14:06:21,174] Trial 46 finished with value: 1.2710413259779812e-08 and parameters: {'layers': 6, 'neurons': 21, 'optimizer': 'AdamW', 'iterations': 2110}. Best is trial 9 with value: 2.703572802260244e-12.\n"
          ]
        },
        {
          "output_type": "stream",
          "name": "stdout",
          "text": [
            "PINN test complete.\n",
            "[ParamError] RMSE=0.00010849593739427366, Viscosity=0.003295839330436276, Param Error=1.2710413259779812e-08, Time=675.61s\n",
            "Loaded data.\n"
          ]
        },
        {
          "output_type": "stream",
          "name": "stderr",
          "text": [
            "[I 2025-03-24 14:11:14,010] Trial 47 finished with value: 1.0991950266762724e-09 and parameters: {'layers': 6, 'neurons': 20, 'optimizer': 'AdamW', 'iterations': 1528}. Best is trial 9 with value: 2.703572802260244e-12.\n"
          ]
        },
        {
          "output_type": "stream",
          "name": "stdout",
          "text": [
            "PINN test complete.\n",
            "[ParamError] RMSE=5.473366864247303e-05, Viscosity=0.0031499447515847836, Param Error=1.0991950266762724e-09, Time=698.00s\n",
            "Loaded data.\n"
          ]
        },
        {
          "output_type": "stream",
          "name": "stderr",
          "text": [
            "[I 2025-03-24 14:16:53,096] Trial 41 finished with value: 4.374381496906052e-10 and parameters: {'layers': 18, 'neurons': 35, 'optimizer': 'AdamW', 'iterations': 2270}. Best is trial 9 with value: 2.703572802260244e-12.\n"
          ]
        },
        {
          "output_type": "stream",
          "name": "stdout",
          "text": [
            "PINN test complete.\n",
            "[ParamError] RMSE=4.710109231704548e-05, Viscosity=0.0032040138839438148, Param Error=4.374381496906052e-10, Time=4064.13s\n"
          ]
        },
        {
          "output_type": "stream",
          "name": "stderr",
          "text": [
            "[I 2025-03-24 14:17:44,228] Trial 49 finished with value: 5.66716046662975e-06 and parameters: {'layers': 3, 'neurons': 28, 'optimizer': 'AdamW', 'iterations': 1872}. Best is trial 9 with value: 2.703572802260244e-12.\n"
          ]
        },
        {
          "output_type": "stream",
          "name": "stdout",
          "text": [
            "PINN test complete.\n",
            "[ParamError] RMSE=0.0005994678108062077, Viscosity=0.005563678721164149, Param Error=5.66716046662975e-06, Time=389.34s\n"
          ]
        },
        {
          "output_type": "stream",
          "name": "stderr",
          "text": [
            "[I 2025-03-24 14:17:55,529] Trial 48 finished with value: 5.439883587481541e-10 and parameters: {'layers': 5, 'neurons': 29, 'optimizer': 'AdamW', 'iterations': 1702}. Best is trial 9 with value: 2.703572802260244e-12.\n"
          ]
        },
        {
          "output_type": "stream",
          "name": "stdout",
          "text": [
            "PINN test complete.\n",
            "[ParamError] RMSE=3.4252540237951376e-05, Viscosity=0.0031597753038171386, Param Error=5.439883587481541e-10, Time=694.14s\n"
          ]
        },
        {
          "output_type": "stream",
          "name": "stderr",
          "text": [
            "[I 2025-03-24 14:22:45,092] Trial 45 finished with value: 7.623307787754665e-08 and parameters: {'layers': 16, 'neurons': 30, 'optimizer': 'AdamW', 'iterations': 1988}. Best is trial 9 with value: 2.703572802260244e-12.\n"
          ]
        },
        {
          "output_type": "stream",
          "name": "stdout",
          "text": [
            "PINN test complete.\n",
            "[ParamError] RMSE=0.0002440086207876654, Viscosity=0.0034592022444277382, Param Error=7.623307787754665e-08, Time=1866.05s\n",
            "Saved Parameter Error study and results.\n"
          ]
        }
      ]
    },
    {
      "cell_type": "code",
      "source": [
        "import optuna.visualization as vis\n",
        "study = joblib.load(\"optuna_param_error.pkl\")\n",
        "vis.plot_param_importances(study)"
      ],
      "metadata": {
        "colab": {
          "base_uri": "https://localhost:8080/",
          "height": 542
        },
        "id": "UWepL-eKqNcL",
        "outputId": "bfcfabf4-3147-4af3-8a30-c978c92d27d9"
      },
      "execution_count": 5,
      "outputs": [
        {
          "output_type": "display_data",
          "data": {
            "text/html": [
              "<html>\n",
              "<head><meta charset=\"utf-8\" /></head>\n",
              "<body>\n",
              "    <div>            <script src=\"https://cdnjs.cloudflare.com/ajax/libs/mathjax/2.7.5/MathJax.js?config=TeX-AMS-MML_SVG\"></script><script type=\"text/javascript\">if (window.MathJax && window.MathJax.Hub && window.MathJax.Hub.Config) {window.MathJax.Hub.Config({SVG: {font: \"STIX-Web\"}});}</script>                <script type=\"text/javascript\">window.PlotlyConfig = {MathJaxConfig: 'local'};</script>\n",
              "        <script charset=\"utf-8\" src=\"https://cdn.plot.ly/plotly-2.35.2.min.js\"></script>                <div id=\"0401ff35-034c-454b-be79-c0021f314ee1\" class=\"plotly-graph-div\" style=\"height:525px; width:100%;\"></div>            <script type=\"text/javascript\">                                    window.PLOTLYENV=window.PLOTLYENV || {};                                    if (document.getElementById(\"0401ff35-034c-454b-be79-c0021f314ee1\")) {                    Plotly.newPlot(                        \"0401ff35-034c-454b-be79-c0021f314ee1\",                        [{\"cliponaxis\":false,\"hovertemplate\":[\"optimizer (CategoricalDistribution): 0.03129281850723939\\u003cextra\\u003e\\u003c\\u002fextra\\u003e\",\"iterations (IntDistribution): 0.03863925331940158\\u003cextra\\u003e\\u003c\\u002fextra\\u003e\",\"neurons (IntDistribution): 0.0636512685304288\\u003cextra\\u003e\\u003c\\u002fextra\\u003e\",\"layers (IntDistribution): 0.8664166596429301\\u003cextra\\u003e\\u003c\\u002fextra\\u003e\"],\"name\":\"Objective Value\",\"orientation\":\"h\",\"text\":[\"0.03\",\"0.04\",\"0.06\",\"0.87\"],\"textposition\":\"outside\",\"x\":[0.03129281850723939,0.03863925331940158,0.0636512685304288,0.8664166596429301],\"y\":[\"optimizer\",\"iterations\",\"neurons\",\"layers\"],\"type\":\"bar\"}],                        {\"title\":{\"text\":\"Hyperparameter Importances\"},\"xaxis\":{\"title\":{\"text\":\"Hyperparameter Importance\"}},\"yaxis\":{\"title\":{\"text\":\"Hyperparameter\"}},\"template\":{\"data\":{\"histogram2dcontour\":[{\"type\":\"histogram2dcontour\",\"colorbar\":{\"outlinewidth\":0,\"ticks\":\"\"},\"colorscale\":[[0.0,\"#0d0887\"],[0.1111111111111111,\"#46039f\"],[0.2222222222222222,\"#7201a8\"],[0.3333333333333333,\"#9c179e\"],[0.4444444444444444,\"#bd3786\"],[0.5555555555555556,\"#d8576b\"],[0.6666666666666666,\"#ed7953\"],[0.7777777777777778,\"#fb9f3a\"],[0.8888888888888888,\"#fdca26\"],[1.0,\"#f0f921\"]]}],\"choropleth\":[{\"type\":\"choropleth\",\"colorbar\":{\"outlinewidth\":0,\"ticks\":\"\"}}],\"histogram2d\":[{\"type\":\"histogram2d\",\"colorbar\":{\"outlinewidth\":0,\"ticks\":\"\"},\"colorscale\":[[0.0,\"#0d0887\"],[0.1111111111111111,\"#46039f\"],[0.2222222222222222,\"#7201a8\"],[0.3333333333333333,\"#9c179e\"],[0.4444444444444444,\"#bd3786\"],[0.5555555555555556,\"#d8576b\"],[0.6666666666666666,\"#ed7953\"],[0.7777777777777778,\"#fb9f3a\"],[0.8888888888888888,\"#fdca26\"],[1.0,\"#f0f921\"]]}],\"heatmap\":[{\"type\":\"heatmap\",\"colorbar\":{\"outlinewidth\":0,\"ticks\":\"\"},\"colorscale\":[[0.0,\"#0d0887\"],[0.1111111111111111,\"#46039f\"],[0.2222222222222222,\"#7201a8\"],[0.3333333333333333,\"#9c179e\"],[0.4444444444444444,\"#bd3786\"],[0.5555555555555556,\"#d8576b\"],[0.6666666666666666,\"#ed7953\"],[0.7777777777777778,\"#fb9f3a\"],[0.8888888888888888,\"#fdca26\"],[1.0,\"#f0f921\"]]}],\"heatmapgl\":[{\"type\":\"heatmapgl\",\"colorbar\":{\"outlinewidth\":0,\"ticks\":\"\"},\"colorscale\":[[0.0,\"#0d0887\"],[0.1111111111111111,\"#46039f\"],[0.2222222222222222,\"#7201a8\"],[0.3333333333333333,\"#9c179e\"],[0.4444444444444444,\"#bd3786\"],[0.5555555555555556,\"#d8576b\"],[0.6666666666666666,\"#ed7953\"],[0.7777777777777778,\"#fb9f3a\"],[0.8888888888888888,\"#fdca26\"],[1.0,\"#f0f921\"]]}],\"contourcarpet\":[{\"type\":\"contourcarpet\",\"colorbar\":{\"outlinewidth\":0,\"ticks\":\"\"}}],\"contour\":[{\"type\":\"contour\",\"colorbar\":{\"outlinewidth\":0,\"ticks\":\"\"},\"colorscale\":[[0.0,\"#0d0887\"],[0.1111111111111111,\"#46039f\"],[0.2222222222222222,\"#7201a8\"],[0.3333333333333333,\"#9c179e\"],[0.4444444444444444,\"#bd3786\"],[0.5555555555555556,\"#d8576b\"],[0.6666666666666666,\"#ed7953\"],[0.7777777777777778,\"#fb9f3a\"],[0.8888888888888888,\"#fdca26\"],[1.0,\"#f0f921\"]]}],\"surface\":[{\"type\":\"surface\",\"colorbar\":{\"outlinewidth\":0,\"ticks\":\"\"},\"colorscale\":[[0.0,\"#0d0887\"],[0.1111111111111111,\"#46039f\"],[0.2222222222222222,\"#7201a8\"],[0.3333333333333333,\"#9c179e\"],[0.4444444444444444,\"#bd3786\"],[0.5555555555555556,\"#d8576b\"],[0.6666666666666666,\"#ed7953\"],[0.7777777777777778,\"#fb9f3a\"],[0.8888888888888888,\"#fdca26\"],[1.0,\"#f0f921\"]]}],\"mesh3d\":[{\"type\":\"mesh3d\",\"colorbar\":{\"outlinewidth\":0,\"ticks\":\"\"}}],\"scatter\":[{\"fillpattern\":{\"fillmode\":\"overlay\",\"size\":10,\"solidity\":0.2},\"type\":\"scatter\"}],\"parcoords\":[{\"type\":\"parcoords\",\"line\":{\"colorbar\":{\"outlinewidth\":0,\"ticks\":\"\"}}}],\"scatterpolargl\":[{\"type\":\"scatterpolargl\",\"marker\":{\"colorbar\":{\"outlinewidth\":0,\"ticks\":\"\"}}}],\"bar\":[{\"error_x\":{\"color\":\"#2a3f5f\"},\"error_y\":{\"color\":\"#2a3f5f\"},\"marker\":{\"line\":{\"color\":\"#E5ECF6\",\"width\":0.5},\"pattern\":{\"fillmode\":\"overlay\",\"size\":10,\"solidity\":0.2}},\"type\":\"bar\"}],\"scattergeo\":[{\"type\":\"scattergeo\",\"marker\":{\"colorbar\":{\"outlinewidth\":0,\"ticks\":\"\"}}}],\"scatterpolar\":[{\"type\":\"scatterpolar\",\"marker\":{\"colorbar\":{\"outlinewidth\":0,\"ticks\":\"\"}}}],\"histogram\":[{\"marker\":{\"pattern\":{\"fillmode\":\"overlay\",\"size\":10,\"solidity\":0.2}},\"type\":\"histogram\"}],\"scattergl\":[{\"type\":\"scattergl\",\"marker\":{\"colorbar\":{\"outlinewidth\":0,\"ticks\":\"\"}}}],\"scatter3d\":[{\"type\":\"scatter3d\",\"line\":{\"colorbar\":{\"outlinewidth\":0,\"ticks\":\"\"}},\"marker\":{\"colorbar\":{\"outlinewidth\":0,\"ticks\":\"\"}}}],\"scattermapbox\":[{\"type\":\"scattermapbox\",\"marker\":{\"colorbar\":{\"outlinewidth\":0,\"ticks\":\"\"}}}],\"scatterternary\":[{\"type\":\"scatterternary\",\"marker\":{\"colorbar\":{\"outlinewidth\":0,\"ticks\":\"\"}}}],\"scattercarpet\":[{\"type\":\"scattercarpet\",\"marker\":{\"colorbar\":{\"outlinewidth\":0,\"ticks\":\"\"}}}],\"carpet\":[{\"aaxis\":{\"endlinecolor\":\"#2a3f5f\",\"gridcolor\":\"white\",\"linecolor\":\"white\",\"minorgridcolor\":\"white\",\"startlinecolor\":\"#2a3f5f\"},\"baxis\":{\"endlinecolor\":\"#2a3f5f\",\"gridcolor\":\"white\",\"linecolor\":\"white\",\"minorgridcolor\":\"white\",\"startlinecolor\":\"#2a3f5f\"},\"type\":\"carpet\"}],\"table\":[{\"cells\":{\"fill\":{\"color\":\"#EBF0F8\"},\"line\":{\"color\":\"white\"}},\"header\":{\"fill\":{\"color\":\"#C8D4E3\"},\"line\":{\"color\":\"white\"}},\"type\":\"table\"}],\"barpolar\":[{\"marker\":{\"line\":{\"color\":\"#E5ECF6\",\"width\":0.5},\"pattern\":{\"fillmode\":\"overlay\",\"size\":10,\"solidity\":0.2}},\"type\":\"barpolar\"}],\"pie\":[{\"automargin\":true,\"type\":\"pie\"}]},\"layout\":{\"autotypenumbers\":\"strict\",\"colorway\":[\"#636efa\",\"#EF553B\",\"#00cc96\",\"#ab63fa\",\"#FFA15A\",\"#19d3f3\",\"#FF6692\",\"#B6E880\",\"#FF97FF\",\"#FECB52\"],\"font\":{\"color\":\"#2a3f5f\"},\"hovermode\":\"closest\",\"hoverlabel\":{\"align\":\"left\"},\"paper_bgcolor\":\"white\",\"plot_bgcolor\":\"#E5ECF6\",\"polar\":{\"bgcolor\":\"#E5ECF6\",\"angularaxis\":{\"gridcolor\":\"white\",\"linecolor\":\"white\",\"ticks\":\"\"},\"radialaxis\":{\"gridcolor\":\"white\",\"linecolor\":\"white\",\"ticks\":\"\"}},\"ternary\":{\"bgcolor\":\"#E5ECF6\",\"aaxis\":{\"gridcolor\":\"white\",\"linecolor\":\"white\",\"ticks\":\"\"},\"baxis\":{\"gridcolor\":\"white\",\"linecolor\":\"white\",\"ticks\":\"\"},\"caxis\":{\"gridcolor\":\"white\",\"linecolor\":\"white\",\"ticks\":\"\"}},\"coloraxis\":{\"colorbar\":{\"outlinewidth\":0,\"ticks\":\"\"}},\"colorscale\":{\"sequential\":[[0.0,\"#0d0887\"],[0.1111111111111111,\"#46039f\"],[0.2222222222222222,\"#7201a8\"],[0.3333333333333333,\"#9c179e\"],[0.4444444444444444,\"#bd3786\"],[0.5555555555555556,\"#d8576b\"],[0.6666666666666666,\"#ed7953\"],[0.7777777777777778,\"#fb9f3a\"],[0.8888888888888888,\"#fdca26\"],[1.0,\"#f0f921\"]],\"sequentialminus\":[[0.0,\"#0d0887\"],[0.1111111111111111,\"#46039f\"],[0.2222222222222222,\"#7201a8\"],[0.3333333333333333,\"#9c179e\"],[0.4444444444444444,\"#bd3786\"],[0.5555555555555556,\"#d8576b\"],[0.6666666666666666,\"#ed7953\"],[0.7777777777777778,\"#fb9f3a\"],[0.8888888888888888,\"#fdca26\"],[1.0,\"#f0f921\"]],\"diverging\":[[0,\"#8e0152\"],[0.1,\"#c51b7d\"],[0.2,\"#de77ae\"],[0.3,\"#f1b6da\"],[0.4,\"#fde0ef\"],[0.5,\"#f7f7f7\"],[0.6,\"#e6f5d0\"],[0.7,\"#b8e186\"],[0.8,\"#7fbc41\"],[0.9,\"#4d9221\"],[1,\"#276419\"]]},\"xaxis\":{\"gridcolor\":\"white\",\"linecolor\":\"white\",\"ticks\":\"\",\"title\":{\"standoff\":15},\"zerolinecolor\":\"white\",\"automargin\":true,\"zerolinewidth\":2},\"yaxis\":{\"gridcolor\":\"white\",\"linecolor\":\"white\",\"ticks\":\"\",\"title\":{\"standoff\":15},\"zerolinecolor\":\"white\",\"automargin\":true,\"zerolinewidth\":2},\"scene\":{\"xaxis\":{\"backgroundcolor\":\"#E5ECF6\",\"gridcolor\":\"white\",\"linecolor\":\"white\",\"showbackground\":true,\"ticks\":\"\",\"zerolinecolor\":\"white\",\"gridwidth\":2},\"yaxis\":{\"backgroundcolor\":\"#E5ECF6\",\"gridcolor\":\"white\",\"linecolor\":\"white\",\"showbackground\":true,\"ticks\":\"\",\"zerolinecolor\":\"white\",\"gridwidth\":2},\"zaxis\":{\"backgroundcolor\":\"#E5ECF6\",\"gridcolor\":\"white\",\"linecolor\":\"white\",\"showbackground\":true,\"ticks\":\"\",\"zerolinecolor\":\"white\",\"gridwidth\":2}},\"shapedefaults\":{\"line\":{\"color\":\"#2a3f5f\"}},\"annotationdefaults\":{\"arrowcolor\":\"#2a3f5f\",\"arrowhead\":0,\"arrowwidth\":1},\"geo\":{\"bgcolor\":\"white\",\"landcolor\":\"#E5ECF6\",\"subunitcolor\":\"white\",\"showland\":true,\"showlakes\":true,\"lakecolor\":\"white\"},\"title\":{\"x\":0.05},\"mapbox\":{\"style\":\"light\"}}}},                        {\"responsive\": true}                    ).then(function(){\n",
              "                            \n",
              "var gd = document.getElementById('0401ff35-034c-454b-be79-c0021f314ee1');\n",
              "var x = new MutationObserver(function (mutations, observer) {{\n",
              "        var display = window.getComputedStyle(gd).display;\n",
              "        if (!display || display === 'none') {{\n",
              "            console.log([gd, 'removed!']);\n",
              "            Plotly.purge(gd);\n",
              "            observer.disconnect();\n",
              "        }}\n",
              "}});\n",
              "\n",
              "// Listen for the removal of the full notebook cells\n",
              "var notebookContainer = gd.closest('#notebook-container');\n",
              "if (notebookContainer) {{\n",
              "    x.observe(notebookContainer, {childList: true});\n",
              "}}\n",
              "\n",
              "// Listen for the clearing of the current output cell\n",
              "var outputEl = gd.closest('.output');\n",
              "if (outputEl) {{\n",
              "    x.observe(outputEl, {childList: true});\n",
              "}}\n",
              "\n",
              "                        })                };                            </script>        </div>\n",
              "</body>\n",
              "</html>"
            ]
          },
          "metadata": {}
        }
      ]
    },
    {
      "cell_type": "code",
      "source": [
        "display(top_df[[\"Parameter Error\",\"RMSE\",\"Layers\",\"Neurons\",\"Optimizer\",\"Iterations\", \"Estimated Viscosity\"]].round(12))"
      ],
      "metadata": {
        "colab": {
          "base_uri": "https://localhost:8080/",
          "height": 363
        },
        "id": "lmJu-b-ntT-I",
        "outputId": "9e7eb41f-f334-4825-9067-f2a287152926"
      },
      "execution_count": 27,
      "outputs": [
        {
          "output_type": "display_data",
          "data": {
            "text/plain": [
              "   Parameter Error      RMSE  Layers  Neurons Optimizer  Iterations  \\\n",
              "0     3.000000e-12  0.000055      28       47     LBFGS        2637   \n",
              "1     7.600000e-11  0.000058       5       34     AdamW        1842   \n",
              "2     1.210000e-10  0.000062      17       39     AdamW        4888   \n",
              "3     2.380000e-10  0.000036       6       23     AdamW        2008   \n",
              "4     3.180000e-10  0.000033       8       38     AdamW        3318   \n",
              "5     4.370000e-10  0.000047      18       35     AdamW        2270   \n",
              "6     5.300000e-10  0.000063      12       42     AdamW        4048   \n",
              "7     5.440000e-10  0.000034       5       29     AdamW        1702   \n",
              "8     9.060000e-10  0.000063      15       30     AdamW        3181   \n",
              "9     1.099000e-09  0.000055       6       20     AdamW        1528   \n",
              "\n",
              "   Estimated Viscosity  \n",
              "0             0.003185  \n",
              "1             0.003192  \n",
              "2             0.003194  \n",
              "3             0.003199  \n",
              "4             0.003165  \n",
              "5             0.003204  \n",
              "6             0.003160  \n",
              "7             0.003160  \n",
              "8             0.003153  \n",
              "9             0.003150  "
            ],
            "text/html": [
              "\n",
              "  <div id=\"df-f55c8974-3334-4c0b-a8f6-5cf724eb06b5\" class=\"colab-df-container\">\n",
              "    <div>\n",
              "<style scoped>\n",
              "    .dataframe tbody tr th:only-of-type {\n",
              "        vertical-align: middle;\n",
              "    }\n",
              "\n",
              "    .dataframe tbody tr th {\n",
              "        vertical-align: top;\n",
              "    }\n",
              "\n",
              "    .dataframe thead th {\n",
              "        text-align: right;\n",
              "    }\n",
              "</style>\n",
              "<table border=\"1\" class=\"dataframe\">\n",
              "  <thead>\n",
              "    <tr style=\"text-align: right;\">\n",
              "      <th></th>\n",
              "      <th>Parameter Error</th>\n",
              "      <th>RMSE</th>\n",
              "      <th>Layers</th>\n",
              "      <th>Neurons</th>\n",
              "      <th>Optimizer</th>\n",
              "      <th>Iterations</th>\n",
              "      <th>Estimated Viscosity</th>\n",
              "    </tr>\n",
              "  </thead>\n",
              "  <tbody>\n",
              "    <tr>\n",
              "      <th>0</th>\n",
              "      <td>3.000000e-12</td>\n",
              "      <td>0.000055</td>\n",
              "      <td>28</td>\n",
              "      <td>47</td>\n",
              "      <td>LBFGS</td>\n",
              "      <td>2637</td>\n",
              "      <td>0.003185</td>\n",
              "    </tr>\n",
              "    <tr>\n",
              "      <th>1</th>\n",
              "      <td>7.600000e-11</td>\n",
              "      <td>0.000058</td>\n",
              "      <td>5</td>\n",
              "      <td>34</td>\n",
              "      <td>AdamW</td>\n",
              "      <td>1842</td>\n",
              "      <td>0.003192</td>\n",
              "    </tr>\n",
              "    <tr>\n",
              "      <th>2</th>\n",
              "      <td>1.210000e-10</td>\n",
              "      <td>0.000062</td>\n",
              "      <td>17</td>\n",
              "      <td>39</td>\n",
              "      <td>AdamW</td>\n",
              "      <td>4888</td>\n",
              "      <td>0.003194</td>\n",
              "    </tr>\n",
              "    <tr>\n",
              "      <th>3</th>\n",
              "      <td>2.380000e-10</td>\n",
              "      <td>0.000036</td>\n",
              "      <td>6</td>\n",
              "      <td>23</td>\n",
              "      <td>AdamW</td>\n",
              "      <td>2008</td>\n",
              "      <td>0.003199</td>\n",
              "    </tr>\n",
              "    <tr>\n",
              "      <th>4</th>\n",
              "      <td>3.180000e-10</td>\n",
              "      <td>0.000033</td>\n",
              "      <td>8</td>\n",
              "      <td>38</td>\n",
              "      <td>AdamW</td>\n",
              "      <td>3318</td>\n",
              "      <td>0.003165</td>\n",
              "    </tr>\n",
              "    <tr>\n",
              "      <th>5</th>\n",
              "      <td>4.370000e-10</td>\n",
              "      <td>0.000047</td>\n",
              "      <td>18</td>\n",
              "      <td>35</td>\n",
              "      <td>AdamW</td>\n",
              "      <td>2270</td>\n",
              "      <td>0.003204</td>\n",
              "    </tr>\n",
              "    <tr>\n",
              "      <th>6</th>\n",
              "      <td>5.300000e-10</td>\n",
              "      <td>0.000063</td>\n",
              "      <td>12</td>\n",
              "      <td>42</td>\n",
              "      <td>AdamW</td>\n",
              "      <td>4048</td>\n",
              "      <td>0.003160</td>\n",
              "    </tr>\n",
              "    <tr>\n",
              "      <th>7</th>\n",
              "      <td>5.440000e-10</td>\n",
              "      <td>0.000034</td>\n",
              "      <td>5</td>\n",
              "      <td>29</td>\n",
              "      <td>AdamW</td>\n",
              "      <td>1702</td>\n",
              "      <td>0.003160</td>\n",
              "    </tr>\n",
              "    <tr>\n",
              "      <th>8</th>\n",
              "      <td>9.060000e-10</td>\n",
              "      <td>0.000063</td>\n",
              "      <td>15</td>\n",
              "      <td>30</td>\n",
              "      <td>AdamW</td>\n",
              "      <td>3181</td>\n",
              "      <td>0.003153</td>\n",
              "    </tr>\n",
              "    <tr>\n",
              "      <th>9</th>\n",
              "      <td>1.099000e-09</td>\n",
              "      <td>0.000055</td>\n",
              "      <td>6</td>\n",
              "      <td>20</td>\n",
              "      <td>AdamW</td>\n",
              "      <td>1528</td>\n",
              "      <td>0.003150</td>\n",
              "    </tr>\n",
              "  </tbody>\n",
              "</table>\n",
              "</div>\n",
              "    <div class=\"colab-df-buttons\">\n",
              "\n",
              "  <div class=\"colab-df-container\">\n",
              "    <button class=\"colab-df-convert\" onclick=\"convertToInteractive('df-f55c8974-3334-4c0b-a8f6-5cf724eb06b5')\"\n",
              "            title=\"Convert this dataframe to an interactive table.\"\n",
              "            style=\"display:none;\">\n",
              "\n",
              "  <svg xmlns=\"http://www.w3.org/2000/svg\" height=\"24px\" viewBox=\"0 -960 960 960\">\n",
              "    <path d=\"M120-120v-720h720v720H120Zm60-500h600v-160H180v160Zm220 220h160v-160H400v160Zm0 220h160v-160H400v160ZM180-400h160v-160H180v160Zm440 0h160v-160H620v160ZM180-180h160v-160H180v160Zm440 0h160v-160H620v160Z\"/>\n",
              "  </svg>\n",
              "    </button>\n",
              "\n",
              "  <style>\n",
              "    .colab-df-container {\n",
              "      display:flex;\n",
              "      gap: 12px;\n",
              "    }\n",
              "\n",
              "    .colab-df-convert {\n",
              "      background-color: #E8F0FE;\n",
              "      border: none;\n",
              "      border-radius: 50%;\n",
              "      cursor: pointer;\n",
              "      display: none;\n",
              "      fill: #1967D2;\n",
              "      height: 32px;\n",
              "      padding: 0 0 0 0;\n",
              "      width: 32px;\n",
              "    }\n",
              "\n",
              "    .colab-df-convert:hover {\n",
              "      background-color: #E2EBFA;\n",
              "      box-shadow: 0px 1px 2px rgba(60, 64, 67, 0.3), 0px 1px 3px 1px rgba(60, 64, 67, 0.15);\n",
              "      fill: #174EA6;\n",
              "    }\n",
              "\n",
              "    .colab-df-buttons div {\n",
              "      margin-bottom: 4px;\n",
              "    }\n",
              "\n",
              "    [theme=dark] .colab-df-convert {\n",
              "      background-color: #3B4455;\n",
              "      fill: #D2E3FC;\n",
              "    }\n",
              "\n",
              "    [theme=dark] .colab-df-convert:hover {\n",
              "      background-color: #434B5C;\n",
              "      box-shadow: 0px 1px 3px 1px rgba(0, 0, 0, 0.15);\n",
              "      filter: drop-shadow(0px 1px 2px rgba(0, 0, 0, 0.3));\n",
              "      fill: #FFFFFF;\n",
              "    }\n",
              "  </style>\n",
              "\n",
              "    <script>\n",
              "      const buttonEl =\n",
              "        document.querySelector('#df-f55c8974-3334-4c0b-a8f6-5cf724eb06b5 button.colab-df-convert');\n",
              "      buttonEl.style.display =\n",
              "        google.colab.kernel.accessAllowed ? 'block' : 'none';\n",
              "\n",
              "      async function convertToInteractive(key) {\n",
              "        const element = document.querySelector('#df-f55c8974-3334-4c0b-a8f6-5cf724eb06b5');\n",
              "        const dataTable =\n",
              "          await google.colab.kernel.invokeFunction('convertToInteractive',\n",
              "                                                    [key], {});\n",
              "        if (!dataTable) return;\n",
              "\n",
              "        const docLinkHtml = 'Like what you see? Visit the ' +\n",
              "          '<a target=\"_blank\" href=https://colab.research.google.com/notebooks/data_table.ipynb>data table notebook</a>'\n",
              "          + ' to learn more about interactive tables.';\n",
              "        element.innerHTML = '';\n",
              "        dataTable['output_type'] = 'display_data';\n",
              "        await google.colab.output.renderOutput(dataTable, element);\n",
              "        const docLink = document.createElement('div');\n",
              "        docLink.innerHTML = docLinkHtml;\n",
              "        element.appendChild(docLink);\n",
              "      }\n",
              "    </script>\n",
              "  </div>\n",
              "\n",
              "\n",
              "<div id=\"df-70bed835-0546-4191-b398-79b7c9c82a15\">\n",
              "  <button class=\"colab-df-quickchart\" onclick=\"quickchart('df-70bed835-0546-4191-b398-79b7c9c82a15')\"\n",
              "            title=\"Suggest charts\"\n",
              "            style=\"display:none;\">\n",
              "\n",
              "<svg xmlns=\"http://www.w3.org/2000/svg\" height=\"24px\"viewBox=\"0 0 24 24\"\n",
              "     width=\"24px\">\n",
              "    <g>\n",
              "        <path d=\"M19 3H5c-1.1 0-2 .9-2 2v14c0 1.1.9 2 2 2h14c1.1 0 2-.9 2-2V5c0-1.1-.9-2-2-2zM9 17H7v-7h2v7zm4 0h-2V7h2v10zm4 0h-2v-4h2v4z\"/>\n",
              "    </g>\n",
              "</svg>\n",
              "  </button>\n",
              "\n",
              "<style>\n",
              "  .colab-df-quickchart {\n",
              "      --bg-color: #E8F0FE;\n",
              "      --fill-color: #1967D2;\n",
              "      --hover-bg-color: #E2EBFA;\n",
              "      --hover-fill-color: #174EA6;\n",
              "      --disabled-fill-color: #AAA;\n",
              "      --disabled-bg-color: #DDD;\n",
              "  }\n",
              "\n",
              "  [theme=dark] .colab-df-quickchart {\n",
              "      --bg-color: #3B4455;\n",
              "      --fill-color: #D2E3FC;\n",
              "      --hover-bg-color: #434B5C;\n",
              "      --hover-fill-color: #FFFFFF;\n",
              "      --disabled-bg-color: #3B4455;\n",
              "      --disabled-fill-color: #666;\n",
              "  }\n",
              "\n",
              "  .colab-df-quickchart {\n",
              "    background-color: var(--bg-color);\n",
              "    border: none;\n",
              "    border-radius: 50%;\n",
              "    cursor: pointer;\n",
              "    display: none;\n",
              "    fill: var(--fill-color);\n",
              "    height: 32px;\n",
              "    padding: 0;\n",
              "    width: 32px;\n",
              "  }\n",
              "\n",
              "  .colab-df-quickchart:hover {\n",
              "    background-color: var(--hover-bg-color);\n",
              "    box-shadow: 0 1px 2px rgba(60, 64, 67, 0.3), 0 1px 3px 1px rgba(60, 64, 67, 0.15);\n",
              "    fill: var(--button-hover-fill-color);\n",
              "  }\n",
              "\n",
              "  .colab-df-quickchart-complete:disabled,\n",
              "  .colab-df-quickchart-complete:disabled:hover {\n",
              "    background-color: var(--disabled-bg-color);\n",
              "    fill: var(--disabled-fill-color);\n",
              "    box-shadow: none;\n",
              "  }\n",
              "\n",
              "  .colab-df-spinner {\n",
              "    border: 2px solid var(--fill-color);\n",
              "    border-color: transparent;\n",
              "    border-bottom-color: var(--fill-color);\n",
              "    animation:\n",
              "      spin 1s steps(1) infinite;\n",
              "  }\n",
              "\n",
              "  @keyframes spin {\n",
              "    0% {\n",
              "      border-color: transparent;\n",
              "      border-bottom-color: var(--fill-color);\n",
              "      border-left-color: var(--fill-color);\n",
              "    }\n",
              "    20% {\n",
              "      border-color: transparent;\n",
              "      border-left-color: var(--fill-color);\n",
              "      border-top-color: var(--fill-color);\n",
              "    }\n",
              "    30% {\n",
              "      border-color: transparent;\n",
              "      border-left-color: var(--fill-color);\n",
              "      border-top-color: var(--fill-color);\n",
              "      border-right-color: var(--fill-color);\n",
              "    }\n",
              "    40% {\n",
              "      border-color: transparent;\n",
              "      border-right-color: var(--fill-color);\n",
              "      border-top-color: var(--fill-color);\n",
              "    }\n",
              "    60% {\n",
              "      border-color: transparent;\n",
              "      border-right-color: var(--fill-color);\n",
              "    }\n",
              "    80% {\n",
              "      border-color: transparent;\n",
              "      border-right-color: var(--fill-color);\n",
              "      border-bottom-color: var(--fill-color);\n",
              "    }\n",
              "    90% {\n",
              "      border-color: transparent;\n",
              "      border-bottom-color: var(--fill-color);\n",
              "    }\n",
              "  }\n",
              "</style>\n",
              "\n",
              "  <script>\n",
              "    async function quickchart(key) {\n",
              "      const quickchartButtonEl =\n",
              "        document.querySelector('#' + key + ' button');\n",
              "      quickchartButtonEl.disabled = true;  // To prevent multiple clicks.\n",
              "      quickchartButtonEl.classList.add('colab-df-spinner');\n",
              "      try {\n",
              "        const charts = await google.colab.kernel.invokeFunction(\n",
              "            'suggestCharts', [key], {});\n",
              "      } catch (error) {\n",
              "        console.error('Error during call to suggestCharts:', error);\n",
              "      }\n",
              "      quickchartButtonEl.classList.remove('colab-df-spinner');\n",
              "      quickchartButtonEl.classList.add('colab-df-quickchart-complete');\n",
              "    }\n",
              "    (() => {\n",
              "      let quickchartButtonEl =\n",
              "        document.querySelector('#df-70bed835-0546-4191-b398-79b7c9c82a15 button');\n",
              "      quickchartButtonEl.style.display =\n",
              "        google.colab.kernel.accessAllowed ? 'block' : 'none';\n",
              "    })();\n",
              "  </script>\n",
              "</div>\n",
              "\n",
              "    </div>\n",
              "  </div>\n"
            ],
            "application/vnd.google.colaboratory.intrinsic+json": {
              "type": "dataframe",
              "summary": "{\n  \"name\": \")\",\n  \"rows\": 10,\n  \"fields\": [\n    {\n      \"column\": \"Parameter Error\",\n      \"properties\": {\n        \"dtype\": \"number\",\n        \"std\": 3.574038487637075e-10,\n        \"min\": 3e-12,\n        \"max\": 1.099e-09,\n        \"num_unique_values\": 10,\n        \"samples\": [\n          9.06e-10,\n          7.6e-11,\n          4.37e-10\n        ],\n        \"semantic_type\": \"\",\n        \"description\": \"\"\n      }\n    },\n    {\n      \"column\": \"RMSE\",\n      \"properties\": {\n        \"dtype\": \"number\",\n        \"std\": 1.215481745206986e-05,\n        \"min\": 3.2927684e-05,\n        \"max\": 6.3314448e-05,\n        \"num_unique_values\": 10,\n        \"samples\": [\n          6.2916666e-05,\n          5.7568702e-05,\n          4.7101092e-05\n        ],\n        \"semantic_type\": \"\",\n        \"description\": \"\"\n      }\n    },\n    {\n      \"column\": \"Layers\",\n      \"properties\": {\n        \"dtype\": \"number\",\n        \"std\": 7,\n        \"min\": 5,\n        \"max\": 28,\n        \"num_unique_values\": 8,\n        \"samples\": [\n          5,\n          18,\n          28\n        ],\n        \"semantic_type\": \"\",\n        \"description\": \"\"\n      }\n    },\n    {\n      \"column\": \"Neurons\",\n      \"properties\": {\n        \"dtype\": \"number\",\n        \"std\": 8,\n        \"min\": 20,\n        \"max\": 47,\n        \"num_unique_values\": 10,\n        \"samples\": [\n          30,\n          34,\n          35\n        ],\n        \"semantic_type\": \"\",\n        \"description\": \"\"\n      }\n    },\n    {\n      \"column\": \"Optimizer\",\n      \"properties\": {\n        \"dtype\": \"category\",\n        \"num_unique_values\": 2,\n        \"samples\": [\n          \"AdamW\",\n          \"LBFGS\"\n        ],\n        \"semantic_type\": \"\",\n        \"description\": \"\"\n      }\n    },\n    {\n      \"column\": \"Iterations\",\n      \"properties\": {\n        \"dtype\": \"number\",\n        \"std\": 1104,\n        \"min\": 1528,\n        \"max\": 4888,\n        \"num_unique_values\": 10,\n        \"samples\": [\n          3181,\n          1842\n        ],\n        \"semantic_type\": \"\",\n        \"description\": \"\"\n      }\n    },\n    {\n      \"column\": \"Estimated Viscosity\",\n      \"properties\": {\n        \"dtype\": \"number\",\n        \"std\": 2.0511428472957734e-05,\n        \"min\": 0.003149944752,\n        \"max\": 0.003204013884,\n        \"num_unique_values\": 10,\n        \"samples\": [\n          0.003153003556,\n          0.003191833593\n        ],\n        \"semantic_type\": \"\",\n        \"description\": \"\"\n      }\n    }\n  ]\n}"
            }
          },
          "metadata": {}
        }
      ]
    },
    {
      "cell_type": "code",
      "source": [
        "import pandas as pd\n",
        "import matplotlib.pyplot as plt\n",
        "threshold = 0.0000002\n",
        "inliers = df[df[\"Parameter Error\"] <= threshold].reset_index(drop=True)\n",
        "outliers = df[df[\"Parameter Error\"] > threshold].reset_index()\n",
        "top10_indices = df.nsmallest(10, \"Parameter Error\").index\n",
        "\n",
        "plt.figure(figsize=(10, 6))\n",
        "plt.scatter(inliers[\"RMSE\"], inliers[\"Parameter Error\"],\n",
        "            color=\"skyblue\", s=40,  label=\"All Trials\", edgecolors='skyblue', linewidths=0.5)\n",
        "for i in top10_indices:\n",
        "    if i in inliers.index:\n",
        "        plt.scatter(df.loc[i, \"RMSE\"], df.loc[i, \"Parameter Error\"],\n",
        "                    color=\"firebrick\", s=40, edgecolors='firebrick', label=\"Top 10\" if i == top10_indices[0] else \"\")\n",
        "if not outliers.empty:\n",
        "    outlier_text = \"Outliers >0.0000002:\\n\\n\"\n",
        "    for idx, row in outliers.iterrows():\n",
        "        outlier_text += f\"rmse={row['RMSE']:.4f},  p. error={row['Parameter Error']:.4f}\\n\"\n",
        "    plt.gca().text(1.01, 0.98, outlier_text,\n",
        "                   transform=plt.gca().transAxes,\n",
        "                   fontsize=9, verticalalignment='top', color='black')\n",
        "\n",
        "plt.xlabel(\"rmse\", color='black')\n",
        "plt.ylabel(\"param. error\", color='black')\n",
        "plt.title(\"RMSE & parameter error\", fontsize=11)\n",
        "plt.grid(True, linestyle='--', alpha=0.3)\n",
        "plt.legend()\n",
        "plt.tight_layout()\n",
        "plt.show()"
      ],
      "metadata": {
        "colab": {
          "base_uri": "https://localhost:8080/",
          "height": 607
        },
        "id": "CaDQHLekQ5Qp",
        "outputId": "b99b07a3-ef51-4173-abe4-92cfc528403a"
      },
      "execution_count": 61,
      "outputs": [
        {
          "output_type": "display_data",
          "data": {
            "text/plain": [
              "<Figure size 1000x600 with 1 Axes>"
            ],
            "image/png": "[encoded data removed]"
          },
          "metadata": {}
        }
      ]
    },
    {
      "cell_type": "code",
      "source": [
        "import pandas as pd\n",
        "import matplotlib.pyplot as plt\n",
        "\n",
        "rmse_threshold = 0.05\n",
        "param_err_threshold = 0.0001\n",
        "\n",
        "inliers = df[(df[\"RMSE\"] <= rmse_threshold) & (df[\"Parameter Error\"] <= param_err_threshold)]\n",
        "outliers = df[(df[\"RMSE\"] > rmse_threshold) | (df[\"Parameter Error\"] > param_err_threshold)]\n",
        "\n",
        "optimizer_colors = { \"AdamW\": \"royalblue\",\"LBFGS\": \"darkorange\", \"SGD\": \"lawngreen\"}\n",
        "fig, ax = plt.subplots(figsize=(14, 6))\n",
        "for opt, color in optimizer_colors.items():\n",
        "    subset = inliers[inliers[\"Optimizer\"] == opt]\n",
        "    ax.scatter(subset[\"RMSE\"], subset[\"Parameter Error\"],\n",
        "               color=color, label=opt, s=60, alpha=0.7)\n",
        "\n",
        "ax.set_xlabel(\"rmse\")\n",
        "ax.set_ylabel(\"parameter error\")\n",
        "ax.set_title(\"Parameter error & RMSE\", fontsize=13)\n",
        "ax.grid(True, linestyle=\"--\", alpha=0.3)\n",
        "legend = ax.legend(title=\"Optimizer\", loc='upper left')\n",
        "if not outliers.empty:\n",
        "    table_text = \"Outliers (excluded from plot):\\n\\n\"\n",
        "    for _, row in outliers.iterrows():\n",
        "        table_text += f\"RMSE: {row['RMSE']:.4f}, ParamErr: {row['Parameter Error']:.4f}, Opt: {row['Optimizer']}\\n\"\n",
        "    ax.text(1.15, 0.95, table_text,\n",
        "            transform=ax.transAxes,\n",
        "            fontsize=9,\n",
        "            verticalalignment='top',\n",
        "            horizontalalignment='left',\n",
        "            color='black',\n",
        "            family='monospace')\n",
        "\n",
        "zoom_ax = fig.add_axes([0.25, 0.55, 0.15, 0.35])  #[left, bottom, width, height]\n",
        "zoom_ax.set_xlim(0, 0.0001)\n",
        "zoom_ax.set_ylim(-0.00000001, 0.00000004)\n",
        "for opt, color in optimizer_colors.items():\n",
        "    subset = inliers[inliers[\"Optimizer\"] == opt]\n",
        "    zoom_ax.scatter(subset[\"RMSE\"], subset[\"Parameter Error\"],\n",
        "                    color=color, s=30, alpha=0.7)\n",
        "zoom_ax.tick_params(labelsize=6)\n",
        "\n",
        "plt.tight_layout()\n",
        "plt.show()\n"
      ],
      "metadata": {
        "colab": {
          "base_uri": "https://localhost:8080/",
          "height": 572
        },
        "id": "apJ29L8LaLwD",
        "outputId": "12dc3ceb-bbc0-47ad-d3ff-e818c2e88ee2"
      },
      "execution_count": 104,
      "outputs": [
        {
          "output_type": "stream",
          "name": "stderr",
          "text": [
            "<ipython-input-104-c30d19fdac97>:43: UserWarning:\n",
            "\n",
            "This figure includes Axes that are not compatible with tight_layout, so results might be incorrect.\n",
            "\n"
          ]
        },
        {
          "output_type": "display_data",
          "data": {
            "text/plain": [
              "<Figure size 1400x600 with 2 Axes>"
            ],
            "image/png": "[encoded data removed]"
          },
          "metadata": {}
        }
      ]
    }
  ]
}